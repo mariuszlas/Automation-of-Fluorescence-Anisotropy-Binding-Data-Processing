{
 "cells": [
  {
   "cell_type": "code",
   "execution_count": 161,
   "metadata": {},
   "outputs": [],
   "source": [
    "import pandas as pd\n",
    "import numpy as np"
   ]
  },
  {
   "cell_type": "code",
   "execution_count": 16,
   "metadata": {},
   "outputs": [],
   "source": [
    "file = \"C:\\\\Users\\\\Bartek\\\\OneDrive\\\\Documents\\\\Programming\\\\Python\\\\Test data\\\\Protein titration LissamineFA_22267.csv\""
   ]
  },
  {
   "cell_type": "code",
   "execution_count": 145,
   "metadata": {},
   "outputs": [],
   "source": [
    "def read_in_p(file_path, skiprows=38, skipfooter=196):\n",
    "    \n",
    "    '''Returns a data frame with p channel values for 384 well plate.'''\n",
    "    \n",
    "    df = pd.read_csv(file_path, sep=',', index_col=0, engine='python', skiprows=skiprows, skipfooter=skipfooter, encoding='utf-8')\n",
    "    df.drop(df.columns[-1], axis=1, inplace=True)   #delete the last column becasue it contains 'NaN' values\n",
    "    \n",
    "    #create lists with column names, index names\n",
    "    col_names = list(df.columns.values)\n",
    "    index_names = list(df.index.values)\n",
    "    well_IDs = []\n",
    "    \n",
    "    #create list with well IDs based on the column and index names\n",
    "    for index_name in index_names:\n",
    "        for col_name in col_names:\n",
    "            well_ID = index_name + col_name\n",
    "            well_IDs.append(well_ID)\n",
    "    \n",
    "    values_lists = df.values.tolist()  #cast all data frame vaules into a list of lists\n",
    "    \n",
    "    values_list = []\n",
    "    \n",
    "    #create a single list of all values\n",
    "    for i in range(0, len(values_lists)):\n",
    "        values_list.extend(values_lists[i])\n",
    "        \n",
    "    new_df = pd.DataFrame(data=values_list, index=well_IDs, columns=['p'])   #create new data frame\n",
    "    \n",
    "    return new_df"
   ]
  },
  {
   "cell_type": "code",
   "execution_count": 148,
   "metadata": {},
   "outputs": [],
   "source": [
    "def read_in_s(file_path, skiprows=66, skipfooter=168):\n",
    "    \n",
    "    '''Returns a data frame with s channel values for 384 well plate.'''\n",
    "    \n",
    "    df = pd.read_csv(file_path, sep=',', index_col=0, engine='python', skiprows=skiprows, skipfooter=skipfooter, encoding='utf-8')\n",
    "    df.drop(df.columns[-1], axis=1, inplace=True)   #delete the last column becasue it contains 'NaN' values\n",
    "    \n",
    "    #create lists with column names, index names\n",
    "    col_names = list(df.columns.values)\n",
    "    index_names = list(df.index.values)\n",
    "    well_IDs = []\n",
    "    \n",
    "    #create list with well IDs based on the column and index names\n",
    "    for index_name in index_names:\n",
    "        for col_name in col_names:\n",
    "            well_ID = index_name + col_name\n",
    "            well_IDs.append(well_ID)\n",
    "    \n",
    "    values_lists = df.values.tolist()  #cast all data frame vaules into a list of lists\n",
    "    \n",
    "    values_list = []\n",
    "    \n",
    "    #create a single list of all values\n",
    "    for i in range(0, len(values_lists)):\n",
    "        values_list.extend(values_lists[i])\n",
    "        \n",
    "    new_df = pd.DataFrame(data=values_list, index=well_IDs, columns=['s'])   #create new data frame\n",
    "    \n",
    "    return new_df"
   ]
  },
  {
   "cell_type": "code",
   "execution_count": 103,
   "metadata": {},
   "outputs": [],
   "source": [
    "def read_in_g(file_path, skiprows=196, skipfooter=55):\n",
    "    \n",
    "    '''Returns the G-factor for 384 well plate.'''\n",
    "    \n",
    "    df = pd.read_csv(file_path, sep=',', names=[0,1,2,3,4], engine='python', skiprows=skiprows, skipfooter=skipfooter, encoding='utf-8')\n",
    "    g = df.iloc[0,4]   #extract the value of g factor from the last column\n",
    "    \n",
    "    return g"
   ]
  },
  {
   "cell_type": "code",
   "execution_count": 156,
   "metadata": {},
   "outputs": [
    {
     "data": {
      "text/html": [
       "<div>\n",
       "<style scoped>\n",
       "    .dataframe tbody tr th:only-of-type {\n",
       "        vertical-align: middle;\n",
       "    }\n",
       "\n",
       "    .dataframe tbody tr th {\n",
       "        vertical-align: top;\n",
       "    }\n",
       "\n",
       "    .dataframe thead th {\n",
       "        text-align: right;\n",
       "    }\n",
       "</style>\n",
       "<table border=\"1\" class=\"dataframe\">\n",
       "  <thead>\n",
       "    <tr style=\"text-align: right;\">\n",
       "      <th></th>\n",
       "      <th>s</th>\n",
       "    </tr>\n",
       "  </thead>\n",
       "  <tbody>\n",
       "    <tr>\n",
       "      <th>A01</th>\n",
       "      <td>53577.0</td>\n",
       "    </tr>\n",
       "    <tr>\n",
       "      <th>A02</th>\n",
       "      <td>80850.0</td>\n",
       "    </tr>\n",
       "    <tr>\n",
       "      <th>A03</th>\n",
       "      <td>75128.0</td>\n",
       "    </tr>\n",
       "    <tr>\n",
       "      <th>A04</th>\n",
       "      <td>55410.0</td>\n",
       "    </tr>\n",
       "    <tr>\n",
       "      <th>A05</th>\n",
       "      <td>91909.0</td>\n",
       "    </tr>\n",
       "    <tr>\n",
       "      <th>...</th>\n",
       "      <td>...</td>\n",
       "    </tr>\n",
       "    <tr>\n",
       "      <th>P20</th>\n",
       "      <td>NaN</td>\n",
       "    </tr>\n",
       "    <tr>\n",
       "      <th>P21</th>\n",
       "      <td>NaN</td>\n",
       "    </tr>\n",
       "    <tr>\n",
       "      <th>P22</th>\n",
       "      <td>NaN</td>\n",
       "    </tr>\n",
       "    <tr>\n",
       "      <th>P23</th>\n",
       "      <td>NaN</td>\n",
       "    </tr>\n",
       "    <tr>\n",
       "      <th>P24</th>\n",
       "      <td>NaN</td>\n",
       "    </tr>\n",
       "  </tbody>\n",
       "</table>\n",
       "<p>384 rows × 1 columns</p>\n",
       "</div>"
      ],
      "text/plain": [
       "           s\n",
       "A01  53577.0\n",
       "A02  80850.0\n",
       "A03  75128.0\n",
       "A04  55410.0\n",
       "A05  91909.0\n",
       "..       ...\n",
       "P20      NaN\n",
       "P21      NaN\n",
       "P22      NaN\n",
       "P23      NaN\n",
       "P24      NaN\n",
       "\n",
       "[384 rows x 1 columns]"
      ]
     },
     "execution_count": 156,
     "metadata": {},
     "output_type": "execute_result"
    }
   ],
   "source": [
    "read_in_s(file)"
   ]
  },
  {
   "cell_type": "code",
   "execution_count": 159,
   "metadata": {},
   "outputs": [
    {
     "data": {
      "text/html": [
       "<div>\n",
       "<style scoped>\n",
       "    .dataframe tbody tr th:only-of-type {\n",
       "        vertical-align: middle;\n",
       "    }\n",
       "\n",
       "    .dataframe tbody tr th {\n",
       "        vertical-align: top;\n",
       "    }\n",
       "\n",
       "    .dataframe thead th {\n",
       "        text-align: right;\n",
       "    }\n",
       "</style>\n",
       "<table border=\"1\" class=\"dataframe\">\n",
       "  <thead>\n",
       "    <tr style=\"text-align: right;\">\n",
       "      <th></th>\n",
       "      <th>p</th>\n",
       "    </tr>\n",
       "  </thead>\n",
       "  <tbody>\n",
       "    <tr>\n",
       "      <th>A01</th>\n",
       "      <td>26329.0</td>\n",
       "    </tr>\n",
       "    <tr>\n",
       "      <th>A02</th>\n",
       "      <td>31935.0</td>\n",
       "    </tr>\n",
       "    <tr>\n",
       "      <th>A03</th>\n",
       "      <td>26748.0</td>\n",
       "    </tr>\n",
       "    <tr>\n",
       "      <th>A04</th>\n",
       "      <td>26750.0</td>\n",
       "    </tr>\n",
       "    <tr>\n",
       "      <th>A05</th>\n",
       "      <td>27792.0</td>\n",
       "    </tr>\n",
       "    <tr>\n",
       "      <th>...</th>\n",
       "      <td>...</td>\n",
       "    </tr>\n",
       "    <tr>\n",
       "      <th>P20</th>\n",
       "      <td>NaN</td>\n",
       "    </tr>\n",
       "    <tr>\n",
       "      <th>P21</th>\n",
       "      <td>NaN</td>\n",
       "    </tr>\n",
       "    <tr>\n",
       "      <th>P22</th>\n",
       "      <td>NaN</td>\n",
       "    </tr>\n",
       "    <tr>\n",
       "      <th>P23</th>\n",
       "      <td>NaN</td>\n",
       "    </tr>\n",
       "    <tr>\n",
       "      <th>P24</th>\n",
       "      <td>NaN</td>\n",
       "    </tr>\n",
       "  </tbody>\n",
       "</table>\n",
       "<p>384 rows × 1 columns</p>\n",
       "</div>"
      ],
      "text/plain": [
       "           p\n",
       "A01  26329.0\n",
       "A02  31935.0\n",
       "A03  26748.0\n",
       "A04  26750.0\n",
       "A05  27792.0\n",
       "..       ...\n",
       "P20      NaN\n",
       "P21      NaN\n",
       "P22      NaN\n",
       "P23      NaN\n",
       "P24      NaN\n",
       "\n",
       "[384 rows x 1 columns]"
      ]
     },
     "execution_count": 159,
     "metadata": {},
     "output_type": "execute_result"
    }
   ],
   "source": [
    "read_in_p(file)"
   ]
  },
  {
   "cell_type": "code",
   "execution_count": 160,
   "metadata": {},
   "outputs": [
    {
     "data": {
      "text/plain": [
       "1"
      ]
     },
     "execution_count": 160,
     "metadata": {},
     "output_type": "execute_result"
    }
   ],
   "source": [
    "read_in_g(file)"
   ]
  },
  {
   "cell_type": "code",
   "execution_count": null,
   "metadata": {},
   "outputs": [],
   "source": []
  },
  {
   "cell_type": "code",
   "execution_count": null,
   "metadata": {},
   "outputs": [],
   "source": []
  },
  {
   "cell_type": "code",
   "execution_count": 77,
   "metadata": {},
   "outputs": [],
   "source": []
  },
  {
   "cell_type": "code",
   "execution_count": 84,
   "metadata": {},
   "outputs": [],
   "source": []
  },
  {
   "cell_type": "code",
   "execution_count": null,
   "metadata": {},
   "outputs": [],
   "source": []
  },
  {
   "cell_type": "code",
   "execution_count": null,
   "metadata": {},
   "outputs": [],
   "source": []
  },
  {
   "cell_type": "code",
   "execution_count": null,
   "metadata": {},
   "outputs": [],
   "source": []
  },
  {
   "cell_type": "code",
   "execution_count": null,
   "metadata": {},
   "outputs": [],
   "source": []
  }
 ],
 "metadata": {
  "kernelspec": {
   "display_name": "Python 3",
   "language": "python",
   "name": "python3"
  },
  "language_info": {
   "codemirror_mode": {
    "name": "ipython",
    "version": 3
   },
   "file_extension": ".py",
   "mimetype": "text/x-python",
   "name": "python",
   "nbconvert_exporter": "python",
   "pygments_lexer": "ipython3",
   "version": "3.8.3"
  }
 },
 "nbformat": 4,
 "nbformat_minor": 4
}
