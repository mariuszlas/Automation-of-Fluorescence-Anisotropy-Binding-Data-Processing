{
 "cells": [
  {
   "cell_type": "code",
   "execution_count": 1,
   "metadata": {},
   "outputs": [],
   "source": [
    "plate_1 = \"C:\\\\Users\\\\Bartek\\\\Documents\\\\Fluorescence-Anisotropy-Analysis\\\\tests\\\\Test data\\\\plate1.csv\"\n",
    "plate_1_repeat = \"C:\\\\Users\\\\Bartek\\\\Documents\\\\Fluorescence-Anisotropy-Analysis\\\\tests\\\\Test data\\\\plate1_repeat.csv\"\n",
    "plate_2_1 = \"C:\\\\Users\\\\Bartek\\\\Documents\\\\Fluorescence-Anisotropy-Analysis\\\\tests\\\\Test data\\\\plate2_1.csv\"\n",
    "plate_2_2 = \"C:\\\\Users\\\\Bartek\\\\Documents\\\\Fluorescence-Anisotropy-Analysis\\\\tests\\\\Test data\\\\plate2_2.csv\"\n",
    "plate_2_3 = \"C:\\\\Users\\\\Bartek\\\\Documents\\\\Fluorescence-Anisotropy-Analysis\\\\tests\\\\Test data\\\\plate2_3.csv\"\n",
    "plate_2_repeat = \"C:\\\\Users\\\\Bartek\\\\Documents\\\\Fluorescence-Anisotropy-Analysis\\\\tests\\\\Test data\\\\plate2_repeat.csv\"\n",
    "plate_2_repeat_96 = \"C:\\\\Users\\\\Bartek\\\\Documents\\\\Fluorescence-Anisotropy-Analysis\\\\tests\\\\Test data\\\\plate2_repeat _96.csv\"\n",
    "list_A = \"C:\\\\Users\\\\Bartek\\\\Documents\\\\Fluorescence-Anisotropy-Analysis\\\\tests\\\\Test data\\\\listA.csv\"\n",
    "list_A_repeat = \"C:\\\\Users\\\\Bartek\\\\Documents\\\\Fluorescence-Anisotropy-Analysis\\\\tests\\\\Test data\\\\listA_repeat.csv\"\n",
    "list_B = \"C:\\\\Users\\\\Bartek\\\\Documents\\\\Fluorescence-Anisotropy-Analysis\\\\tests\\\\Test data\\\\listB.csv\"\n",
    "list_B_repeat_end = \"C:\\\\Users\\\\Bartek\\\\Documents\\\\Fluorescence-Anisotropy-Analysis\\\\tests\\\\Test data\\\\listB_repeat _end.csv\"\n",
    "list_B_repeat_96 = \"C:\\\\Users\\\\Bartek\\\\Documents\\\\Fluorescence-Anisotropy-Analysis\\\\tests\\\\Test data\\\\listB_repeat _96.csv\"\n",
    "list_C = \"C:\\\\Users\\\\Bartek\\\\Documents\\\\Fluorescence-Anisotropy-Analysis\\\\tests\\\\Test data\\\\listC.csv\"\n",
    "\n",
    "HsHis6_PEX5C_vs_HsPEX5C = \"C:\\\\Users\\\\Bartek\\\\Documents\\\\Fluorescence-Anisotropy-Analysis\\\\tests\\\\Test data\\\\real data\\\\Hs-His6-PEX5C vs HsPEX5C.csv\"\n",
    "HsPEX5C_Y467C_vs_AtPEX5C_WT = \"C:\\\\Users\\\\Bartek\\\\Documents\\\\Fluorescence-Anisotropy-Analysis\\\\tests\\\\Test data\\\\real data\\\\HsPEX5C Y467C vs AtPEX5C WT.csv\"\n",
    "F606C_vs_AtPEX5C_WT_1_hour = \"C:\\\\Users\\\\Bartek\\\\Documents\\\\Fluorescence-Anisotropy-Analysis\\\\tests\\\\Test data\\\\real data\\\\F606C vs AtPEX5C WT 1 hour.csv\"\n",
    "\n",
    "plate_map_file = \"C:\\\\Users\\\\Bartek\\\\Documents\\\\Fluorescence-Anisotropy-Analysis\\\\tests\\\\Test data\\\\plate_map.csv\"\n",
    "Hs_His6_PEX5C_vs_HsPEX5C_platemap = \"C:\\\\Users\\\\Bartek\\\\Documents\\\\Fluorescence-Anisotropy-Analysis\\\\tests\\\\Test data\\\\real data\\\\Hs-His6-PEX5C vs HsPEX5C platemap.csv\"\n",
    "HsPEX5C_Y467C_vs_AtPEX5C_WT_platemap = \"C:\\\\Users\\\\Bartek\\\\Documents\\\\Fluorescence-Anisotropy-Analysis\\\\tests\\\\Test data\\\\real data\\\\HsPEX5C Y467C vs AtPEX5C WT platemap.csv\"\n",
    "F606C_vs_AtPEX5C_WT_1_hour_platemap = \"C:\\\\Users\\\\Bartek\\\\Documents\\\\Fluorescence-Anisotropy-Analysis\\\\tests\\\\Test data\\\\real data\\\\F606C vs AtPEX5C WT 1 hour platemap.csv\""
   ]
  },
  {
   "cell_type": "code",
   "execution_count": 2,
   "metadata": {},
   "outputs": [],
   "source": [
    "import csv\n",
    "import re\n",
    "import string\n",
    "import math\n",
    "from itertools import product\n",
    "import pandas as pd\n",
    "import numpy as np\n",
    "import matplotlib.pyplot as plt\n",
    "import matplotlib.gridspec as gridspec\n",
    "import matplotlib.ticker as mtick\n",
    "from scipy.optimize import curve_fit\n",
    "import ipywidgets as wg\n",
    "import warnings\n",
    "from plate_mapping import plate_mapping as pm\n",
    "\n",
    "# define custom errors\n",
    "class DataError(Exception):\n",
    "    pass\n",
    "\n",
    "class PlateSizeError(Exception):\n",
    "    pass\n",
    "\n",
    "class DataTypeError(Exception):\n",
    "    pass\n",
    "\n",
    "# define well plate dimensions\n",
    "plate_dim = {96:(8, 12), 384:(16, 24)}\n",
    "\n",
    "# define header names\n",
    "pm.header_names = {'Well ID': {'dtype':str, 'long':True, 'short_row': False, 'short_col':False},\n",
    "                'Type': {'dtype':str, 'long':True, 'short_row': True, 'short_col':True},\n",
    "                'Contents': {'dtype':str, 'long':True, 'short_row': True, 'short_col':True},\n",
    "                'Protein Name': {'dtype':str, 'long':True, 'short_row': True, 'short_col':True},\n",
    "                'Protein Concentration': {'dtype':float, 'long':True, 'short_row': True, 'short_col':True},\n",
    "                'Tracer Name': {'dtype':str, 'long':True, 'short_row': True, 'short_col':True},\n",
    "                'Tracer Concentration': {'dtype':float, 'long':True, 'short_row': True, 'short_col':True},\n",
    "                'Competitor Name': {'dtype':str, 'long':True, 'short_row': True, 'short_col':True},\n",
    "                'Competitor Concentration': {'dtype':float, 'long':True, 'short_row': True, 'short_col':True},\n",
    "                'Concentration Units':{'dtype':str, 'long':True, 'short_row': True, 'short_col':True},\n",
    "                }\n",
    "\n",
    "class FA:\n",
    "    \"\"\"Class used for the analysis of fluorescence anisotropy data.\n",
    "    \n",
    "    :param data_dict: A dictionary contaning data frames with pre-processed data and metadata\n",
    "    :type data_dict: dict\n",
    "    :param g_factor: G-factor\n",
    "    :type g_factor: float \n",
    "    :param plate_map: dataframe from a plate map csv file that defines each and every well\n",
    "    :type plate_map: pandas dataframe\n",
    "    \"\"\"\n",
    "    \n",
    "    def __init__(self, data_dict, g_factor, plate_map):\n",
    "        self.data_dict = data_dict\n",
    "        self.g_factor = g_factor\n",
    "        self.plate_map = plate_map\n",
    "        \n",
    "        frames = []   # create list of all p and s data frames\n",
    "\n",
    "        for repeat in self.data_dict.values():   \n",
    "            metadata, data = repeat.values()\n",
    "            p_channel, s_channel = data.values()\n",
    "            frames.append(p_channel)\n",
    "            frames.append(s_channel)\n",
    "    \n",
    "        new = pd.concat(frames, axis=1)   # join all p and s data frames into one df to run some stats\n",
    "        nan = new.size - new.describe().loc['count'].sum()   # find number of 'nan' cells\n",
    "        \n",
    "        # create a data frame to sotre the final fitting params\n",
    "        p_names = self.plate_map['Protein Name'].dropna().unique()   # get all protein names\n",
    "        t_names = self.plate_map['Tracer Name'].dropna().unique()   # get all trcaer names \n",
    "        final_fit = pd.DataFrame(index=pd.MultiIndex.from_product([p_names, t_names]), columns=['rmin', 'rmin error', 'rmax', 'rmax error', 'lambda', 'Kd'])   # create the final fit df as a class variable\n",
    "        final_fit[\"lambda\"] = 1   # set the default lambda value as 1\n",
    "        FA.final_fit = final_fit   # add the final_fit df as a class vriable\n",
    "            \n",
    "        print(\"Data has been uploaded!\\n\")\n",
    "        print(f\"Value of g-factor: {self.g_factor} \\nNumber of repeats: {len(self.data_dict)} \\nOverall number of empty cells is {int(nan)} in {len(frames)} data frames.\")\n",
    "              \n",
    "              \n",
    "    @classmethod\n",
    "    def read_in_envision(cls, data_csv, platemap_csv, data_type='plate', size=384):\n",
    "        \"\"\"Returns a dictionary of data frames, g-factor and platemap needed to construct the class object. \n",
    "        \n",
    "        :param data_csv: File path of the raw data file in .csv format\n",
    "        :type data_csv: str\n",
    "        :param platemap_csv: File path of the platemap file in .csv format\n",
    "        :type platemap_csv: str\n",
    "        :param data_type: Format in which the raw data was exported (plate or list), defaults to plate\n",
    "        :type data_type: str\n",
    "        :param size: Size of the well plate (384 or 96), defaults to 384\n",
    "        :type size: int\n",
    "        :return: A dictionary contaning data frames with pre-processed data, g-factor, pandas data frame containing platemap\n",
    "        :rtype: dict, float, pandas data frame \"\"\"\n",
    "        \n",
    "        # ensure the plate size is either 384 or 96\n",
    "        if size not in plate_dim:\n",
    "            raise PlateSizeError('Invalid size of the well plate, should be 384 or 96.')\n",
    "        \n",
    "        # try to read in data in plate format\n",
    "        if data_type == 'plate':\n",
    "            try:\n",
    "                data_dict, g_factor = FA._read_in_plate(data_csv, size=size)\n",
    "                plate_map_df = pm.plate_map(platemap_csv, size=size)\n",
    "                return cls(data_dict, g_factor, plate_map_df)\n",
    "            \n",
    "            except (UnboundLocalError, IndexError, ValueError):\n",
    "                raise DataError(f\"Error occured during data read in. Check your file contains data in the 'plate' format and plate size is {size}.\")\n",
    "        \n",
    "        # try to read in data in list format\n",
    "        if data_type == 'list':\n",
    "            try:\n",
    "                data_dict, g_factor = FA._read_in_list(data_csv, size=size)\n",
    "                plate_map_df = pm.plate_map(platemap_csv, size=size)\n",
    "                return cls(data_dict, g_factor, plate_map_df)\n",
    "            \n",
    "            except (UnboundLocalError, IndexError):\n",
    "                raise DataError(\"Error occured during data read in. Check your file contains data in the 'list' format.\")\n",
    "        \n",
    "        else:\n",
    "            raise DataTypeError(f\"'{data_type}' is not one of the two valid data types: plate or list.\")\n",
    "    \n",
    "\n",
    "                \n",
    "    def _read_in_plate(csv_file, size):\n",
    "        \"\"\"Reads the raw data file and finds the information needed to extract data. Passes those parameters to pre_process_plate function and executes it.\n",
    "        Returns a tuple of two elemnts: dictionary of data frames and g-factor.\n",
    "\n",
    "        :param csv_file: File path of the raw data file in .csv format\n",
    "        :type csv_file: str\n",
    "        :param well_ids: A list of well IDs for the pre-processed data frames\n",
    "        :type well_ids: list\n",
    "        :return: A tuple of dictionary of data frames and the g-factor \n",
    "        :rtype: tuple \"\"\"\n",
    "        \n",
    "        with open(csv_file) as file:\n",
    "            all_data_lines = list(csv.reader(file, delimiter=','))   # read the csv file and cast it into a list containing all lines\n",
    "\n",
    "        blank_indexes = list(index for index, item in enumerate(all_data_lines) if item == [])   # list containing indices of all blank rows\n",
    "        if blank_indexes == []:\n",
    "            blank_indexes = list(index for index, item in enumerate(all_data_lines) if set(item) == {''})\n",
    "        blanks = np.array(blank_indexes)   # convert the list of blank indices to a numpy array\n",
    "        read_in_info = []   # list to store the tuples with parameters needed for pandas to read in the csv file\n",
    "\n",
    "        for index, item in enumerate(all_data_lines):   # iterate over all lines in the csv file\n",
    "            if item != [] and re.findall(r\"Plate information\", item[0]) == ['Plate information'] and re.search(r'Results for', all_data_lines[index + 9][0]) == None and re.findall(r\"Formula\", all_data_lines[index+1][10]) != ['Formula']:\n",
    "                skiprows = index + 9   # Set the skiprows parameter for raw data table\n",
    "                skiprows_meta = index + 1   # Set the skiprows parameter for metadata table\n",
    "                end_of_data = blanks[blanks > skiprows].min()   # Calculate the end of data table by finding the smallest blank index after the beginning of data table\n",
    "                read_in_info.append((skiprows, end_of_data - skiprows + 1, skiprows_meta))   # add the skiprows, caculated number of data lines and skiprows for metadata parameters to the list as a tuple\n",
    "                data_format = 'plate1'\n",
    "\n",
    "            if item != [] and re.findall(r\"Plate information\", item[0]) == ['Plate information'] and re.search(r'Results for', all_data_lines[index + 9][0]) != None:\n",
    "                skiprows = index + 10\n",
    "                skiprows_meta = index + 1\n",
    "                end_of_data = blanks[blanks > skiprows].min()\n",
    "                read_in_info.append((skiprows, end_of_data - skiprows - 1, skiprows_meta))\n",
    "                data_format = 'plate2'\n",
    "\n",
    "            if item != [] and len(item) > 1 and re.fullmatch(r\"G-factor\", item[0]):\n",
    "                g_factor = float(item[4])   \n",
    "        \n",
    "        return FA._pre_process_plate(csv_file, read_in_info, data_format, size), g_factor\n",
    "\n",
    "    def _pre_process_plate(csv_file, read_in_info, data_format, size):    \n",
    "        \"\"\"Extracts the data and metadata from the csv file, processes it and returns a nested dictionary containing data and metadata for each repeat and channel.\n",
    "\n",
    "        :param csv_file: File path of the raw data file in .csv format\n",
    "        :type csv_file: str\n",
    "        :param read_in_info: Tuples with read in parameters for each channel.\n",
    "        :type read_in_info: list\n",
    "        :param data_format: Plate type (plate1 or plate2)\n",
    "        :type data_format: str\n",
    "        :param well_ids: A list of well IDs for the pre-processed data frames\n",
    "        :type well_ids: list\n",
    "        :return: A dictionary containing data and metadata \n",
    "        :rtype: dict \"\"\" \n",
    "        \n",
    "        data_frames = {}   # dictionary to store data frames\n",
    "        counter = 1   # counter incremented by 0.5 to enable alternating labelling of data frames as 'p' or 's'\n",
    "\n",
    "        row_letters = list(string.ascii_uppercase)[0: plate_dim[size][0]]   # generate a list of letters for well IDs\n",
    "        col_numbers = list(np.arange(1, plate_dim[size][1] + 1).astype(str))   # generate a list of numbers for well IDs\n",
    "        well_ids = ['%s%s' % (item[0], item[1]) for item in product(row_letters, col_numbers)]   # generate a list of well IDs for the pre-processed data frames\n",
    "        \n",
    "        for index, item in enumerate(read_in_info):   # iterate over all tuples in the list, each tuple contains skiprows, nrows and skiprows_meta for one channel \n",
    "\n",
    "            if data_format == 'plate1':   # raw data table does not have row and column names so 'names' parameter passed to omit the last column\n",
    "                raw_data = pd.read_csv(csv_file, sep=',', names=col_numbers, index_col=False, engine='python', skiprows=item[0], nrows=item[1], encoding='utf-8')\n",
    "\n",
    "            if data_format == 'plate2':   # raw data table has row and column names, so index_col=0 to set the first column as row labels\n",
    "                raw_data = pd.read_csv(csv_file, sep=',', index_col=0, engine='python', skiprows=item[0], nrows=item[1], encoding='utf-8')\n",
    "                if len(raw_data.columns) in [13, 25]:    \n",
    "                    raw_data.drop(raw_data.columns[-1], axis=1, inplace=True)    # delete the last column because it is empty\n",
    "\n",
    "            # generate df for metadata (number of rows of metadata table is always 1) and convert measurement time into datetime object   \n",
    "            metadata = pd.read_csv(csv_file, sep=',', engine='python', skiprows=item[2], nrows=1, encoding='utf-8').astype({'Measurement date': 'datetime64[ns]'})\n",
    "            # convert and reshape data frame into 1D array\n",
    "            data_as_array = np.reshape(raw_data.to_numpy(), (int(size), 1)) \n",
    "\n",
    "            if counter % 1 == 0: \n",
    "                new_data = pd.DataFrame(data=data_as_array, index=well_ids, columns=['p'])   # generate new 384 (or 96) by 1 data frame with p channel data\n",
    "                data_frames[f'repeat_{int(counter)}'] = {'metadata':metadata, 'data': {'p': new_data, 's':''}}   # add p channel data and metadata dfs to dictionary\n",
    "\n",
    "            if counter % 1 != 0:\n",
    "                new_data = pd.DataFrame(data=data_as_array, index=well_ids, columns=['s'])   # generate new 384 (or 96) by 1 data frame with s channel data\n",
    "                data_frames[f'repeat_{int(counter-0.5)}']['data']['s'] = new_data   # add s channel data to dictionary\n",
    "\n",
    "            counter = counter + 0.5\n",
    "        \n",
    "        return data_frames\n",
    "\n",
    "\n",
    "    def _read_in_list(csv_file, size):\n",
    "        \"\"\"Reads the raw data file and extracts the data and metadata. Passes the raw data to pre_process_list function and executes it.\n",
    "        Returns a tuple of two elemnts: dictionary of data frames and g-factor.\n",
    "\n",
    "        :param csv_file: File path of the raw data file in .csv format\n",
    "        :type csv_file: str\n",
    "        :param well_ids: A list of well IDs for the pre-processed data frames\n",
    "        :type well_ids: list\n",
    "        :return: A tuple of dictionary of data frames and the g-factor\n",
    "        :rtype: tuple \"\"\"\n",
    "\n",
    "        with open(csv_file) as file:  \n",
    "            all_data_lines = list(csv.reader(file, delimiter=',')) # read the csv file and cast it into a list containing all lines\n",
    " \n",
    "        blank_indexes = list(index for index, item in enumerate(all_data_lines) if item == [] or set(item) == {''})   # list containing indexes of all blank rows\n",
    "        blanks = np.array(blank_indexes)   # convert the list of blank indexes to a numpy array\n",
    "        \n",
    "        # iterate over all lines to find beggining of the data table ('skiprows') and determine the format of data  (list A, B, or C)\n",
    "        for index, item in enumerate(all_data_lines):   \n",
    "            if item != [] and len(item) == 1 and re.findall(r\"Plate information\", item[0]) == [\"Plate information\"]:\n",
    "                skiprows_meta = index + 1\n",
    "                end_of_metadata = blanks[blanks > skiprows_meta].min()   # find the end of metadata by finding the smallest blank index after the beginning of metadata\n",
    "                \n",
    "            if item != [] and len(item) >= 2 and re.findall(r\"PlateNumber\", item[0]) == ['PlateNumber'] and re.findall(r\"PlateRepeat\", item[1]) == ['PlateRepeat']:   # find line number with the beggining of the data\n",
    "                skiprows = index - 1\n",
    "                data_format = 'listA'\n",
    "                end_of_data = blanks[blanks > skiprows].min()\n",
    "\n",
    "            if item != [] and len(item) >= 2 and re.findall(r\"Plate\", item[0]) == ['Plate'] and re.findall(r\"Barcode\", item[1]) == ['Barcode']:   # find line number with the beggining of the data\n",
    "                skiprows = index\n",
    "                data_format = 'listB'\n",
    "                end_of_data = blanks[blanks > skiprows].min()\n",
    "\n",
    "            if item != [] and len(item) >= 2 and re.findall(r\"Plate\", item[0]) == ['Plate']  and re.findall(r\"Well\", item[1]) == ['Well']:\n",
    "                skiprows = index\n",
    "                data_format = 'listC'\n",
    "                end_of_data = blanks[blanks > skiprows].min()\n",
    "\n",
    "            if item != [] and re.fullmatch(r\"G-factor\", item[0]):   # find the g factor\n",
    "                g_factor = float(item[4])\n",
    "\n",
    "        nrows = end_of_data - skiprows - 1   # calculate the length of data table\n",
    "        nrows_meta = end_of_metadata - skiprows_meta - 1   # calucalte the length of metadata table (number of rows depends on the number of repeats)\n",
    "\n",
    "        raw_data = pd.read_csv(csv_file, sep=',', engine='python', skiprows=skiprows, nrows=nrows, encoding='utf-8')\n",
    "        raw_metadata = pd.read_csv(csv_file, sep=',', engine='python', skiprows=skiprows_meta, nrows=nrows_meta, encoding='utf-8')\n",
    "\n",
    "        return FA._pre_process_list(raw_data, raw_metadata, data_format, size), g_factor\n",
    "\n",
    "    def _pre_process_list(raw_data, raw_metadata, data_format, size):\n",
    "        \"\"\"Extracts the data and metadata for each channel and repeat from the raw data and raw metadata \n",
    "        and returns a nested dictionary containing data and metadata for each repeat and channel.\n",
    "\n",
    "        :param raw_data: Data frame containing raw data\n",
    "        :type raw_data: pandas data frame\n",
    "        :param raw_metadata: Data frame containing raw metadata\n",
    "        :type raw_metadata: pandas data frame\n",
    "        :param data_format: Type of list (listA, listB, or listC)\n",
    "        :type data_format: str\n",
    "        :param well_ids: A list of well IDs for the pre-processed data frames\n",
    "        :type well_ids: list\n",
    "        :return: A dictionary containing data and metadata\n",
    "        :rtype: dict\"\"\"\n",
    "\n",
    "        # remove the '0' from middle position of well numbers (A01 -> A1), done by reassigning the 'Well' column to a Series containing modified well numbers\n",
    "        raw_data['Well'] = raw_data['Well'].apply(lambda x: x[0] + x[2] if x[1] == '0' else x)\n",
    "        \n",
    "        data_frames = {}   # dictionary to store data frames\n",
    "        repeats = list(raw_metadata['Repeat'].to_numpy())   # generate a list with repeats based on the metadata table, e.g. for 3 repeats -> [1,2,3]\n",
    "\n",
    "        row_letters = list(string.ascii_uppercase)[0: plate_dim[size][0]]   # generate a list of letters for well IDs\n",
    "        col_numbers = list(np.arange(1, plate_dim[size][1] + 1).astype(str))   # generate a list of numbers for well IDs\n",
    "        well_ids = ['%s%s' % (item[0], item[1]) for item in product(row_letters, col_numbers)]   # generate a list of well IDs for the pre-processed data frames\n",
    "        \n",
    "        for index, repeat in enumerate(repeats):   # iterate over the number of repeats\n",
    "            if data_format == 'listA':\n",
    "                groupped_data = raw_data.groupby(raw_data.PlateRepeat).get_group(repeat)   # group and extract the data by the plate repeat column, i.e. in each iteration get data only for the current repeat \n",
    "\n",
    "                p_groupped = groupped_data.iloc[::3, :]   # extract data only for the p channel, i.e. each third row starting from the first row\n",
    "                s_groupped = groupped_data.iloc[1::3, :]   # extract data only for the s channel, i.e. each third row starting from the second row\n",
    "\n",
    "                p_raw_data = p_groupped[['Well', 'Signal']]   # extract only the two relevant columns\n",
    "                s_raw_data = s_groupped[['Well', 'Signal']]   # for each channel\n",
    "\n",
    "            if data_format in ['listB', 'listC']: \n",
    "                # the column naming is different for the first repeat ('Signal'), then it's 'Signal.1', 'Signal.2', etc.\n",
    "                if repeat == 1: \n",
    "                    p_raw_data = raw_data[['Well', 'Signal']]   \n",
    "                    s_raw_data = raw_data[['Well', f'Signal.{repeat}']]\n",
    "                else:\n",
    "                    p_raw_data = raw_data[['Well', f'Signal.{repeat + index - 1}']]   # the column cotntaining data to be extracted is calculated in each iteration\n",
    "                    s_raw_data = raw_data[['Well', f'Signal.{repeat + index}']]\n",
    "            \n",
    "            # create an empty df with no columns and indexes matching the plate size\n",
    "            indexes = pd.DataFrame(well_ids, columns=['Wells'])\n",
    "            empty_frame = indexes.set_index('Wells')\n",
    "            \n",
    "            p_raw_data.set_index('Well', inplace=True)   # set the row indexes as the well numbers\n",
    "            p_raw_data.set_axis(['p'], axis=1, inplace=True)   # rename the 'Signal' column to 'p'\n",
    "            p_data = empty_frame.join(p_raw_data)   # join the raw data df to an empty frame based on the indexes, assigns 'NaN' to indexes not present in the raw data table\n",
    "            \n",
    "            s_raw_data.set_index('Well', inplace=True) \n",
    "            s_raw_data.set_axis(['s'], axis=1, inplace=True)\n",
    "            s_data = empty_frame.join(s_raw_data)\n",
    "    \n",
    "            metadata = raw_metadata.iloc[[repeat-1]].astype({'Measurement date': 'datetime64[ns]'})   # extract the row with metadata relevant for each repeat and covert date and time into a datetime object\n",
    "            data_frames[f'repeat_{repeat}'] = {'metadata': metadata, 'data': {'p': p_data, 's': s_data}}   # add data frames to the dictionary\n",
    "\n",
    "        return data_frames\n",
    "    \n",
    "    \n",
    "    def visualise(self, colorby='Type', labelby='Type', title=\"\", cmap='Paired', dpi=250, export=False):\n",
    "        \"\"\"Returns a visual representation of the plate map.\n",
    "        The label and colour for each well can be customised to be a variable, for example 'Type', 'Protein Name', 'Protein Concentration', etc.\n",
    "        It can also be the p or s anisotropy value from a specified repeat passed as a tuple of strings, for example ('repeat_2', 'p') for p data from repeat 2\n",
    "        \n",
    "        :param colorby: Chooses the parameter to color code by, for example 'Type', 'Contents', 'Protein Concentration', ('repeat_2', 'p'), default = 'Type'\n",
    "        :type colorby: str or tuple\n",
    "        :param labelby: Chooses the parameter to label code by, for example 'Type', 'Contents', 'Protein', ('repeat_1', 's'), default = 'Type'\n",
    "        :type labelby: str or tuple\n",
    "        :param title: Sets the title of the figure, default none\n",
    "        :type title: str\n",
    "        :param cmap: Sets the colormap for the color-coding, default = 'Paired'\n",
    "        :type cmap: str\n",
    "        :param dpi: Size of the figure, default = 250\n",
    "        :type dpi: int\n",
    "        :param export: If 'True' a .png file of the figure is saved, default = False\n",
    "        :type export: bool\n",
    "        :return: Visual representation of the plate map.\n",
    "        :rtype: figure\n",
    "        \"\"\"\n",
    "        plate_map = self.plate_map\n",
    "        size = plate_map.shape[0]\n",
    "        scinot = False\n",
    "        str_len = None\n",
    "        \n",
    "        if type(labelby) == tuple:   # option for labelling by the p or s anisotropy values\n",
    "            plate_map = self.plate_map.join(self.data_dict[labelby[0]]['data'][labelby[1]])   # data frame containing p or s values from specified repeat is added to the platemap\n",
    "            labelby = labelby[1]\n",
    "        if type(colorby) == tuple:   # option for colouring by the p or s anisotropy values\n",
    "            plate_map = plate_map.join(self.data_dict[colorby[0]]['data'][colorby[1]])\n",
    "            colorby = colorby[1]\n",
    "            \n",
    "        if labelby in ['Protein Concentration', 'Tracer Concentration', 'Competitor Concentration', 'p', 's', 'p_corrected', 's_corrected', 'r_raw', 'r_corrected', 'i_raw' , 'i_corrected']:\n",
    "            if sum((plate_map[labelby] > 1000) | (plate_map[labelby] < 0)) > 0:   # display in sci notation if the number is greater than 1000 or less than 0\n",
    "                scinot = True\n",
    "                str_len = 8\n",
    "        \n",
    "        return pm.visualise(platemap=plate_map, title=title, size=size, export=export, cmap=cmap, colorby=colorby, labelby=labelby, dpi=dpi, scinot=scinot, str_len=str_len)\n",
    "    \n",
    "    def invalidate(self, valid=False, **kwargs):\n",
    "        \"\"\"Invalidates wells, columns and/or rows. Any of the following arguments, or their combination, can be passed: wells, rows, columns. \n",
    "        For example to invalidate well A1, rows C and D and columns 7 and 8 execute the following: invalidate(wells='A1', rows=['C','D'], columns=[7,8]).\n",
    "        To validate previously invalidated wells, rows and/or columns, pass the additional 'valid' argument as True.\n",
    "    \n",
    "        :param valid: Sets the stipulated row or rows 'True' or 'False', default = False\n",
    "        :type valid: bool\n",
    "        :param wells: Wells to be invalidated passed as a string or a list of strings\n",
    "        :type wells: str or list\n",
    "        :param rows: Rows to be invalidated passed as a string or a list of strings\n",
    "        :type rows: str or list\n",
    "        :param columns: Columns to be invalidated passed as an integer or a list of integers\n",
    "        :type columns: int or list\n",
    "        \"\"\"\n",
    "        # execute the corresponding invalidate functon from the platemapping package\n",
    "        if 'wells' in kwargs:\n",
    "            pm.invalidate_wells(platemap=self.plate_map, wells=kwargs['wells'], valid=valid)\n",
    "        if 'rows' in kwargs:\n",
    "            rows = tuple(kwargs['rows']) # convert the rows to tuple because invalidate_rows cannot take in a list\n",
    "            pm.invalidate_rows(platemap=self.plate_map, rows=rows, valid=valid)\n",
    "        if 'columns' in kwargs:\n",
    "            pm.invalidate_cols(platemap=self.plate_map, cols=kwargs['columns'], valid=valid)\n",
    "        if len(kwargs) == 0:   # return error if neither of the keyword arguments is passed\n",
    "            raise TypeError('No arguments were passed. Specify the wells, rows and/or columns to be invalidated!')\n",
    "      \n",
    "    \n",
    "    def background_correct(self):\n",
    "        \"\"\"Calculate background corrected values for p and s channel in all repeats.\n",
    "        \n",
    "        Cacluclated by subtracting the mean value of blank p or s for a given concentration from each value of compound p or s for that concentration.\"\"\"\n",
    "        \n",
    "        for key, value in self.data_dict.items(): \n",
    "            metadata, data = value.values()   \n",
    "            ##### raise error if background correction has already been performed\n",
    "            #if 'p_corrected' or 's_corrected' in data:\n",
    "                #raise AttributeError ('The background correction has already been performed.')\n",
    "\n",
    "            # create joined dfs of platemap and p or s\n",
    "            p_df = self.plate_map.join(data['p'])  \n",
    "            s_df = self.plate_map.join(data['s'])\n",
    "            # calculate p and s corrected and add them to data dictionary\n",
    "            self.data_dict[key]['data']['p_corrected'] = FA._backg_correct(p_df, 'p_corrected')\n",
    "            self.data_dict[key]['data']['s_corrected'] = FA._backg_correct(s_df, 's_corrected')\n",
    "            \n",
    "            print('Background correction has been successfully performed!')\n",
    "            \n",
    "    def _backg_correct(df, col_name):\n",
    "        \"\"\"Calculate background corrected p or s.\n",
    "        \n",
    "        :param df: Joined platemap and raw p or s values \n",
    "        :type df: pandas df\n",
    "        :param col_name: Name of the column with background corrected values\n",
    "        :type col_name: str\n",
    "        :return: Data frame with background corrected p or s values (depending on col_name parameter)\n",
    "        :rtype: pandas df\"\"\"\n",
    "        \n",
    "        df[df.columns[-1]] = df[df.columns[-1]][df['Valid'] == True]   # 'p' or 's' values are replaced with NaN if the well is invalidated\n",
    "        no_index = df.reset_index()   # move the index to df column\n",
    "        mindex = pd.MultiIndex.from_frame(no_index[['Type', 'Protein Name', 'Protein Concentration']])   # create multiindex\n",
    "        reindexed = no_index.set_index(mindex).drop(['Type', 'Protein Name', 'Protein Concentration'], axis=1)   # add multiindex to df and drop the columns from which multiindex was created\n",
    "    \n",
    "        mean = reindexed.groupby(level=[0,1,2]).mean().drop('Valid', axis=1)   # calculate mean for each group of three wells and remove 'Valid' column\n",
    "        mean.rename(columns={mean.columns[-1]: 'Mean'}, inplace=True)   # rename the last column to 'Mean\n",
    "        blank = mean.xs('blank', level=0, drop_level=True)   # take a group with blank wells\n",
    "        \n",
    "        joined = reindexed.join(blank, on=['Protein Name', 'Protein Concentration'])\n",
    "        joined[col_name] = joined[joined.columns[-2]] - joined['Mean']   # calculate background corrected values\n",
    "        jindexed = joined.set_index('index', append=True).reset_index(level=[0,1,2]).rename_axis(None)   # set index to 'well id' and move multiindex to df columns\n",
    "        return jindexed[[col_name]]\n",
    "    \n",
    "    \n",
    "    def calculate_r_i(self, correct=True, plot_i=True, thr=80):\n",
    "        \"\"\"Calculates anisotropy and fluorescence intensity.\n",
    "        The fluorescence intensity (I) and anisotropy (r) are calculated using the follwing formulas: I = s + (2*g*p), r = (s - (g*p)) / I and stored \n",
    "        in data_dict as i_raw and r_raw (calculated using the uncorrected p and s channel values) \n",
    "        and i_corrected and r_corrected (if calculated using the background corrected p and s channel values, as well).\n",
    "        \n",
    "        :param correct: Calculate the anisotropy and intensity using the background corrected values of p and s, as well, default=True\n",
    "        :type correct: bool\n",
    "        :param plot_i:\n",
    "        :type plot_i: bool\n",
    "        :param th: \n",
    "        :type th: int\n",
    "        \"\"\"\n",
    "        FA.th = thr   # assign the threshold value to the class variable so that it can be accessed outside of this function\n",
    "    \n",
    "        for key, value in self.data_dict.items():   # iterate over all repeats\n",
    "            metadata, data = value.values()\n",
    "            \n",
    "            # calculate raw intensity and anisotropy and add them to data dictionary\n",
    "            i, r = FA._calc_r_I(data['p'], data['s'], self.g_factor, 'raw')\n",
    "            self.data_dict[key]['data']['i_raw'] = i   \n",
    "            self.data_dict[key]['data']['r_raw'] = r   \n",
    "            \n",
    "            if correct:   # calculate intensity and anisotropy using background corrected values of p and s\n",
    "                if 'p_corrected' and 's_corrected' not in data:   # check if background subtraction has been done\n",
    "                    raise AttributeError('The corrected anisotropy and intensity can only be calculated after background correction of the raw p and s channel data.')\n",
    "                \n",
    "                i_c, r_c = FA._calc_r_I(data['p_corrected'], data['s_corrected'], self.g_factor, 'corrected')\n",
    "                self.data_dict[key]['data']['i_corrected'] = i_c   \n",
    "                self.data_dict[key]['data']['r_corrected'] = r_c    \n",
    "                \n",
    "                self.data_dict[key]['data']['i_percent'] = FA._calc_I_percent(i, i_c, self.plate_map)\n",
    "        \n",
    "        print('The fluorescence intensity and anisotropy have been successfully calculated!\\n')\n",
    "        \n",
    "        if plot_i:   # plot the percentage intensity against the well ids for all repeats\n",
    "            FA._plot_i_percent(self.data_dict, self.plate_map)\n",
    "\n",
    "    def _calc_r_I(p, s, g, col_suffix):\n",
    "        \"\"\"Calculates either anisotropy or intensity and labels the resulting dfs according to the parameters passed\n",
    "        \n",
    "        :param p: Pandas data frame with p channel data (can be both raw and background corrected)\n",
    "        :type p: pandas df \n",
    "        :param s: Pandas data frame with s channel data (can be both raw and background corrected)\n",
    "        :type s: pandas df\n",
    "        :param g: G-factor\n",
    "        :type g: float\n",
    "        :param col_suffix: Suffix to add to column name of the resulting intensity or anisotropy data frame, e.g. 'raw', 'corrected'\n",
    "        :type col_suffix: str\n",
    "        :return: Data frames with calculated anisotropy and intensity values\n",
    "        :rtype: pandas df\"\"\"\n",
    "        \n",
    "        p_rn = p.rename(columns={p.columns[0]: s.columns[0]})   # rename the col name in p data frame so that both p and s dfs have the same col names to enable calculation on dfs\n",
    "        i = s + (2 * g * p_rn)       # calculate intensity\n",
    "        r = (s - (g * p_rn)) / i     # and anisotropy\n",
    "        i_rn = i.rename(columns={i.columns[0]: 'i_'+col_suffix})   # rename the col name using the column suffix argument\n",
    "        r_rn = r.rename(columns={r.columns[0]: 'r_'+col_suffix})           \n",
    "        return i_rn, r_rn  \n",
    "    \n",
    "    def _calc_I_percent(ir, ic, platemap):\n",
    "        \"\"\"Calculate the percentage intensity of blank wells compared to non-blank wells.\n",
    "        \n",
    "        :param ir: Data frame with corrected intensity \n",
    "        :type ir: pandas df\n",
    "        :param ic: Data frame with raw intensity\n",
    "        :type ic: pandas df\n",
    "        :param platemap: Platemap\n",
    "        :type platemap: pandas df\n",
    "        :return: df containing only the non-blank and non-empty columns\n",
    "        :rtype: pandas df\"\"\"\n",
    "        \n",
    "        ir_rn = ir.rename(columns={ir.columns[0]:ic.columns[0]})   # rename the col name in raw intensity df so that it's the same as in corrected intensity df\n",
    "        percent = (ir_rn - ic)/ir_rn * 100   \n",
    "        percent.rename(columns={'i_corrected':'i_percent'}, inplace=True)\n",
    "        joined = platemap.join(percent)   # join the percent data to platemap\n",
    "        return joined[['i_percent']]\n",
    "        \n",
    "    def _plot_i_percent(data_d, platemap):\n",
    "        \"\"\"Plot the percentage intensity against the well ids with a horizotanl threshold bar and preint the list of wells above the threshold for all repeats\n",
    "        \n",
    "        :param data_d: Dictionary with data for all repeats\n",
    "        :type data_d: dict \"\"\"\n",
    "        \n",
    "        st = ''   # empty string to which lists of wells to be printed are appended after checking data from each repeat\n",
    "        fig = plt.figure(figsize=(8*int((len(data_d) + 2 - abs(len(data_d) - 2))/2), 4*int( math.ceil((len(data_d))/2)) ), tight_layout=True)   # plot a figure with variable size depending on the number subplots (i.e. repeats)\n",
    "        fig.suptitle('The percentage intensity of a non-blank well was plotted for all repeats', fontsize=14)   # add the figure title\n",
    "        \n",
    "        for key, value in data_d.items():   # iterate over all repeats\n",
    "            metadata, data = value.values()\n",
    "            df = platemap.join(data['i_percent'])\n",
    "            df_per = df[(df['Type'] != 'blank') & (df['Type'] != 'empty')]   # subset only the non-blank and non-empty columns\n",
    "            \n",
    "            plt.subplot(int( math.ceil((len(data_d))/2) ), int( (len(data_d) + 2 - abs(len(data_d) - 2))/2 ), int(key[-1]))\n",
    "            plt.bar(df_per.index, df_per['i_percent'])   # plot a bar plot with intensity percentage data \n",
    "            plt.axhline(FA.th, color='red')   # plot a horizontal line representing the threshold on the bar plot\n",
    "            ax = plt.gca()   # get the axis object\n",
    "            ax.set_ylabel('')\n",
    "            ax.set_xlabel('wells')\n",
    "            ax.set_title(key)\n",
    "            ax.yaxis.set_major_formatter(mtick.PercentFormatter())   # set formatting of the y axis as percentage\n",
    "            xlabels = [i if len(i) == 2 and i[1] == '1' else '' for i in list(df_per.index)]   # create a list of xtics and xticklabels consiting only of the first wells from a each row\n",
    "            ax.set_xticks(xlabels)\n",
    "            ax.set_xticklabels(xlabels)\n",
    "        \n",
    "            wells = list(df_per[df_per['i_percent'] > FA.th].index)   # get a list of well ids above the threshold for this repeat\n",
    "            if wells != []:   # append wells above the threshold and the repective repeat number to the string with appropriate formatting\n",
    "                st = st + f'\\t{key}: {str(wells)}\\n'\n",
    "        \n",
    "        plt.show()   # ensure the figure is displayed before printing the summary message\n",
    "\n",
    "        if st != '':   # display the summary of wells above the threshold\n",
    "            print(f'In the following wells the percentage intensity value was above the {FA.th}% threshold:')\n",
    "            print(st)\n",
    "        else:\n",
    "            print(f'None of the wells has the percentage intensity value above the {FA.th}% threshold.')\n",
    "            \n",
    "    def plot_i_percent(self):\n",
    "        \"\"\"This function only displays the results calculated by the calculate_r_i function and does not recalculate it.\"\"\"\n",
    "        return FA._plot_i_percent(self.data_dict, self.platemap)\n",
    "    \n",
    "    ##### Functions for data fitting #####\n",
    "    def calc_data_to_fit(self):\n",
    "        \"\"\"Calculates data required for fitting a curve to the plot of anisotropy (or intensity) against protein concentration.\n",
    "        The following data is calcualted for both intensity and anisotropy for all repeats: mean, standard devition and standard error.\n",
    "        \n",
    "        Data frames for storing fitting parametres for each repeat ('fit_params') and a data frame for storing\n",
    "        final values of rmin, rmax and lambda for each protein-tracer pair are created.\n",
    "        \"\"\"\n",
    "        for key, value in self.data_dict.items():\n",
    "            metadata, data = value.values()\n",
    "               \n",
    "            data['r_mean'] = FA._fitting_data(data['r_corrected'], self.plate_map)   # create dictionary 'r_mean' with mean anisotropy data frames for each protein-tracer pair\n",
    "            data['i_mean'] = FA._fitting_data(data['i_corrected'], self.plate_map)   # create dictionary 'i_mean' with mean intensity data frames for each protein-tracer pair\n",
    "            # create data frame for storing the fitting params \n",
    "            data['fit_params'] = pd.DataFrame(index=FA.final_fit.index, columns=['rmin','rmin error', 'rmax', f'rmax error', 'r_EC50', 'r_EC50 error', 'r_hill', 'r_hill error', 'Ifree', 'Ifree error', 'Ibound', 'Ibound error', 'I_EC50', 'I_EC50 error', 'I_hill', 'I_hill error', 'lambda'])   # create new df for storing the fitting parameters\n",
    "            data['fit_params']['lambda'] = 1\n",
    "       \n",
    "    def _fitting_data(df, plate_map):\n",
    "        \"\"\"Calculates mean anisotropy for each protein concentration value, its standard deviation and standard error.\n",
    "        Creates an empty data frame for storing the fitting parameters for each repeat and sets the lambda value as 1.\n",
    "        \n",
    "        :param df: Data frame with anisotropy or intensity values\n",
    "        :type df: pandas df\n",
    "        :param plate_map: Plate map data frame\n",
    "        :type plate_map: pandas df\n",
    "        :return: A dictionary with data frames for each unique protein-tracer pair and data frame for storing the fitting parameter\n",
    "        :rtype: tuple (dict, pandas df)\"\"\"\n",
    "        \n",
    "        join = plate_map.join(df)   # join anisotropy values to platemap\n",
    "        subset = join[(join['Type'] != 'blank') & (join['Type'] != 'empty')]   # take only non-blank and non-empty cells\n",
    "        noidx = subset.reset_index()\n",
    "        group = noidx.groupby(['Protein Concentration', 'Protein Name', 'Tracer Name'])\n",
    "        mean = group.mean()   \n",
    "        std = group.std()     \n",
    "        sem = group.sem()    \n",
    "        meanr = mean.rename(columns={mean.columns[-1]: 'mean'})\n",
    "        stdr = std.rename(columns={std.columns[-1]: 'std'}).drop('Valid', axis=1)   # rename the std column and remove the 'Valid' column\n",
    "        semr = sem.rename(columns={sem.columns[-1]: 'sem'}).drop('Valid', axis=1)   # rename the sem column and remove the 'Valid' column\n",
    "        merge = pd.concat([meanr, stdr, semr], axis=1)\n",
    "        tosplit = merge.reset_index()   # remove multiindex\n",
    "        split = dict(tuple(tosplit.groupby(['Protein Name', 'Tracer Name'])))   # split df based on multiindex so that a new df is created for each unique combination of protein and tracer\n",
    "        \n",
    "        return split\n",
    "\n",
    "    \n",
    "    def _r_func(pc, rmin, rmax, EC50, hill):\n",
    "        \"\"\"Function for fitting a curve to the plot of anisotropy (or intensity) against protein concentration, \n",
    "        where pc is protein concentration, rmin is the lower asymptote, rmax is the upper asymptote, \n",
    "        EC50 is midpoint of transition (pc at point of inflection), hill is the slope\n",
    "        \"\"\"\n",
    "        return (rmin - rmax) / (1 + (pc/EC50)**hill) + rmax\n",
    "    \n",
    "    def _init_params(df):\n",
    "        \"\"\"Estimates initial parameters for the r_func that are passed to the curve fitting function\n",
    "        \n",
    "        :param df: Data frame containing mean values of anisotropy or intensity\n",
    "        :type df: pandas df\n",
    "        :return: List with estiamted parameters of min, max and EC50, hill is assumed to be 1\n",
    "        :rtype: list\n",
    "        \"\"\"\n",
    "        rmin = df['mean'].min()\n",
    "        rmax = df['mean'].max()\n",
    "        mid = (rmax + rmin) / 2\n",
    "        mid_idx = df['mean'].sub(mid).abs().argmin()\n",
    "        EC50 = df.iloc[mid_idx]['Protein Concentration']\n",
    "        init_param = [rmin, rmax, EC50, 1]\n",
    "        return init_param\n",
    "    \n",
    "    def _logistic_fit(df, sig=None, **kwargs):\n",
    "        \"\"\"Fits a curve to the plot of anisotropy (or intensity) against protein concentration\n",
    "        \n",
    "        :param df: Data frame containing mean values of anisotropy (or intensity)\n",
    "        :type df: pandas df\n",
    "        :param sig: A string specifying the error data passed to the SciPy curve_fit function, either 'std' or 'sem', default None\n",
    "        :type sig: str\n",
    "        :param **kwargs: Keyword arguments that can be passed into the scipy curve_fit function\n",
    "        :return: A list of fitting parameters along with their error in proper order so that it can be added to the fitting params data frame\n",
    "        :rtype: list\n",
    "        \"\"\"\n",
    "        drop = df[df['Protein Concentration'] != 0].dropna()   # exclude the protein concentration = 0 point and any NaNs from data fitting\n",
    "        \n",
    "        if sig != None:   \n",
    "            sig = drop[sig]   # take the column with std or sem error data\n",
    "            \n",
    "        popt, pcov = curve_fit(FA._r_func, drop['Protein Concentration'], drop['mean'], sigma=sig, **kwargs)\n",
    "        perr = np.sqrt(np.diag(pcov))   # calculate the error of the fitting params\n",
    "        all_params = np.insert(popt, obj=[1,2,3,4], values=perr)   # insert the errors after the respective fitting parameter value\n",
    "        return list(all_params) \n",
    "    \n",
    "    \n",
    "    def logistic_fit_all(self, sig=None, **kwargs):\n",
    "        \"\"\"Fits a logistic curve to the plot of anisotropy (or intensity) against protein concentration for all repeats.\n",
    "        Returns the fitting parameters with associated errors for each repeat that are stored in the fitting paramters data frame in data dict.\n",
    "        The calc_data_to_fit function must be executed prior to data fitting.\n",
    "        \n",
    "        :param sig: A string specifying the error data passed to the SciPy curve_fit function, either 'std' or 'sem', default None\n",
    "        :type sig: str\n",
    "        :params **kwargs: Keyword arguments that can be passed to the scipy curve_fit function\n",
    "        \"\"\"\n",
    "        errors = []   # list for storing the details of errors due to failed fitting\n",
    "        \n",
    "        for rep, value in self.data_dict.items():   # iterate over all repeats\n",
    "            metadata, data = value.values()\n",
    "            keys = list(data['r_mean'].keys())   # create a list of unique protein-tracer pairs\n",
    "            \n",
    "            for key in keys:   # iterate over all protein-tracer pairs\n",
    "                try:   # try fitting the curve to anisotropy data \n",
    "                    r_mean = data['r_mean'][key]   # extract the df with mean anisotropy for a given protein-tracer pair\n",
    "                    params_r = FA._logistic_fit(r_mean, p0=FA._init_params(r_mean), sig=sig, **kwargs)   # fit the data to logistic curve using the initial parameteers\n",
    "                    data['fit_params'].loc[key, ['rmin','rmin error','rmax', 'rmax error', 'r_EC50', 'r_EC50 error', 'r_hill', 'r_hill error']] = params_r   # add the fitting parameters to the respective df\n",
    "                except RuntimeError as e:   # if fitting fails, added details about the error to the errors list and proceed intensity data fitting\n",
    "                    r_errorinfo = (rep, 'r', key, e)\n",
    "                    errors.append(r_errorinfo)\n",
    "                \n",
    "                try:   # try fitting the curve to intensity data\n",
    "                    i_mean = data['i_mean'][key]   # extract the df with i mean for a given protein-tracer pair\n",
    "                    params_i = FA._logistic_fit(i_mean, p0=FA._init_params(i_mean), sig=sig, **kwargs)\n",
    "                    data['fit_params'].loc[key, ['Ifree', 'Ifree error', 'Ibound','Ibound error', 'I_EC50', 'I_EC50 error', 'I_hill', 'I_hill error']] = params_i\n",
    "                except RuntimeError as e:   # if fitting fails, added details about the error to the errors list and proceed to to the next protein-tracer pair\n",
    "                    i_errorinfo = (rep, 'i', key, e)\n",
    "                    errors.append(i_errorinfo)\n",
    "        \n",
    "        if errors != []:   # raise a warning if fitting failed for any protein-tracer pair\n",
    "            warnings.warn(f\"The curve fitting failed in the following cases:\\n\\n{errors}\\n\\nUse the 'logistic_fit_pair' function to adjust the initial guess for the parameters or pass other arguments to the fitting function.\", RuntimeWarning)\n",
    "            \n",
    "    def logistic_fit_pair(self, rep, var, pair, sig=None, **kwargs):\n",
    "        \"\"\"Fits a logistic curve to the plot of anisotropy (or intensity) against protein concentration only for the specified protein-tracer pair\n",
    "        Returns the fitting parameters with associated errors, the fitting parameters already present for this protein-tracer pair will be overwritten.\n",
    "        \n",
    "        :param rep: Repeat number, e.g. 'repeat_1'\n",
    "        :type rep: str\n",
    "        :param var: A one character string representing anisotropy ('r') or intensity ('I')\n",
    "        :type var: str\n",
    "        :param pair: A tuple of two strings representing the protein and tracer pair for which the fitting is to be performed, e.g. ('proteinA', 'tarcerB')\n",
    "        :type pair: tuple\n",
    "        :param sig: A string specifying the error data passed to the SciPy curve_fit function, either 'std' or 'sem', default None\n",
    "        :type sig: str\n",
    "        :param **kwargs: Keyword arguments that can be passed to the scipy curve_fit function\n",
    "        \"\"\"\n",
    "        df = self.data_dict[rep]['data'][f'{var.lower()}_mean'][pair]   # extract the df with data to be fitted\n",
    "        if 'p0' not in kwargs:   # if the user did not pass their intial parameter guess, use the ones from init_params function\n",
    "            par = FA._logistic_fit(df, p0=FA._init_params(df), sig=sig, **kwargs)\n",
    "        else:\n",
    "            par = FA._logistic_fit(df, sig=sig, **kwargs)\n",
    "        \n",
    "        if var == 'r':   # if fitting done for anisotropy, add the resulting params to to fit_params df\n",
    "            self.data_dict[rep]['data']['fit_params'].loc[pair, ['rmin','rmin error','rmax', 'rmax error', 'r_EC50', 'r_EC50 error', 'r_hill', 'r_hill error']] = par\n",
    "        if var.lower() == 'i':\n",
    "            self.data_dict[rep]['data']['fit_params'].loc[pair, ['Ifree', 'Ifree error', 'Ibound','Ibound error', 'I_EC50', 'I_EC50 error', 'I_hill', 'I_hill error']] = par\n",
    "      \n",
    "        \n",
    "    def set_fitparams(self, rep, var, pair, **kwargs):\n",
    "        \"\"\"Allows to set a value of any parameter in the fitting params data frame for specific protein-tracer pair and repeat\n",
    "        \n",
    "        :param rep: Repeat number, e.g. 'repeat_1'\n",
    "        :type rep: str\n",
    "        :param var: A one character string representing anisotropy ('r') or intensity ('i')\n",
    "        :type var: str\n",
    "        :param pair: A tuple of two strings representing the protein and tracer names for which the parameters will be changed, e.g. ('proteinA', 'tarcerB')\n",
    "        :type pair: tuple\n",
    "        :param **kwargs: Keyword arguments represeting the parameter and its value, e.g. lambda=1.5, rmin=0.30\n",
    "        \"\"\"\n",
    "        if var in ['r', 'I'] and f'{var}_params' not in self.data_dict[rep]['data']:   # check whether fitting parameters data frame exists\n",
    "            raise AttributeError('The table with fitting parameters has not been created. Run the calc_data_to_fit function first.')\n",
    "            \n",
    "        for key, value in kwargs.items():   # iterate over the kwargs dictionary\n",
    "            self.data_dict[rep]['data']['fit_params'].loc[pair, key] = value   # overwrite the parameters in fitting params df with all params passed as keyword arguments\n",
    "            \n",
    "            \n",
    "    def calc_lambda(self, approve=True):\n",
    "        \"\"\"Calculates lambda value for each protein-tracer pair for all repeats. \n",
    "\n",
    "        If 'approve=True', a list with calcualted lambda values with checkboxes will be displayed. To approve the proposed value \n",
    "        tick the selected checkboxes and click 'Update' button. If 'approve=False', all of the calculated values will be saved and \n",
    "        the list with checkboxes will not be displayed. You can still amend any values in the fitting parameters data frame using the 'set_fitparams function.\n",
    "\n",
    "        :param approve: If True a list of checkboxes will be displayed to choose the lambda values that will be saved, default True\n",
    "        :type approve: bool\n",
    "        :return: If approve=True, return a list of calculated lambda values along with checkboxes to be approved, \n",
    "        else save the calulated lambda values in the fitting params data frames for each repeat \n",
    "        \"\"\"\n",
    "        w_info = []   # list of tuples with info (rep no, lambda value, etc) for generation of widgets\n",
    "        \n",
    "        for key, value in self.data_dict.items():   # iterate over all repeats\n",
    "            metadata, data = value.values()\n",
    "            df = data['fit_params'].copy()    # create a copy of the fitting params df\n",
    "            df['lambda'] = df['Ibound']/df['Ifree']   # calculate the lambda value in a copied data frame\n",
    "            \n",
    "            if approve == False:   # if the user does not want to manually approve the proposed values\n",
    "                self.data_dict[key]['data']['fit_params']['lambda'] = df['lambda']   # add the lambda values to fitting params df\n",
    "                print('The lambda values were calculated and saved.')\n",
    "            else:\n",
    "                indexes = list(df.index)   # create list of tuples with protein-tracer names\n",
    "                for item in indexes:   # iterate over each protein-tracer pair and create tuples with info needed for generation of widgets\n",
    "                    rating = 100\n",
    "                    tp = (key, item, rating, df.loc[item, \"lambda\"],  data['fit_params'].loc[item, \"rmin\"],  data['fit_params'].loc[item, \"rmax\"])   # tuples conataining repeat no., calculated lambda, and protein-tracer names\n",
    "                    w_info.append(tp)\n",
    "\n",
    "        if approve == True:   # execute the function for displying and handling the widgets\n",
    "            return FA._widget(self.data_dict, w_info, df)\n",
    "            \n",
    "    def _widget(data_dict, w_info, df):\n",
    "        \"\"\"Function for generating and displaying the widgets with lambda values.\n",
    "        It generates widgets for each tuple in the w_info list.\n",
    "        \n",
    "        :param data_dict: Data dictionary with all repeats\n",
    "        :type data_dict: dict\n",
    "        :param w_info: A list of tuples containg information needed for the generation of widgets\n",
    "        :type w_info: list\n",
    "        :param df: Data frame with calculated lambda values\n",
    "        :type df: pandas df\n",
    "        \"\"\"\n",
    "        w_info.sort(key=lambda x: x[1])   # sort the tuples by the protein name so that the widgets are displayed by protein-tracer name\n",
    "        reps = [wg.HTML(f\"{i[0]}\") for i in w_info]   # list of text widgets with repeat numbres\n",
    "        proteins = [wg.HTML(f\"{i[1][0]}\") for i in w_info]   # list of text widgets with protein names\n",
    "        tracers = [wg.HTML(f\"{i[1][1]}\") for i in w_info]   # list of text widgets with tracer names\n",
    "        scores = [wg.HTML(f\"Score: {i[2]}\") for i in w_info]   \n",
    "        lambdas = [wg.Checkbox(value=False, description=\"lambda=%.4f\" % (i[3])) for i in w_info]   # list of checkbox widgets with lambda values\n",
    "        rminmax = [wg.Checkbox(value=False, description=\"rmin=%.5f, rmax=%.5f\" % (i[4], i[5])) for i in w_info]   # list of checkbox widgets with rmin and rmax values\n",
    "            \n",
    "        v_lambdas = wg.VBox(lambdas)   # group all lambda checkbox widgets into a vertical list layout\n",
    "        v_proteins = wg.VBox(proteins)   # group all protein name widgets into a vertical list layout\n",
    "        v_tracers = wg.VBox(tracers)   # group all tracer name widgets into a vertical list layout\n",
    "        v_reps = wg.VBox(reps)   # group all repeat number widgets into a vertical list layout\n",
    "        v_scores = wg.VBox(scores)\n",
    "        v_rminmax = wg.VBox(rminmax)   # group all rmin and rmax checkbox widgets into a vertical list layout\n",
    "            \n",
    "        hbox = wg.HBox([v_proteins, v_tracers, v_reps, v_scores, v_lambdas, v_rminmax])   # arrange the six vertical boxes into one widget box'\n",
    "        button = wg.Button(description='Save')   # create a button for saving the selected values\n",
    "        print(\"\"\"Choose the lambda values that will be saved for each protein-tracer pair. \\nIf you choose more than one lambda value for a given protein-tracer pair, only the first choice will be saved.\\nIf you do not choose any lambda value for a given protein-trcacer pair, then you have select the rmin and rmax for this pair.\"\"\")\n",
    "        display(hbox, button)   # display the box with widgets and the button\n",
    "            \n",
    "        def btn_eventhandler(obj): \n",
    "            \"\"\"Function that is executed when the 'Save' button is clicked. It checks which checkboxes were ticked and \n",
    "            updates the final fit df with the calcualted lambda values and/or rmin and rmax values. \n",
    "            Only the first value of lambda for a given protein-tracer will be saved.\n",
    "            \"\"\"\n",
    "            added_lambda = []   # protein-tracer pairs for which lambda values were added\n",
    "            added_rminmax = []   # protein-tracer pairs for which rmin and rmax values were added\n",
    "            \n",
    "            for i in range(0, len(lambdas)):   # iterate over each checkbox widget\n",
    "                index = (proteins[i].value, tracers[i].value)   # get the tuple with protein-tracer names\n",
    "                \n",
    "                if lambdas[i].value == True:   # if the lambda checkbox was ticked, the widget's 'value' attribute is True \n",
    "                    if index not in added_lambda:   # if lambda for this protein-tracer pair has not yet been added \n",
    "                        FA.final_fit.loc[index, \"lambda\"] = df.loc[index, \"lambda\"]   # add the calculated lambda to the final_fit d\n",
    "                        FA.final_fit.loc[index, ['rmin','rmin error','rmax','rmax error']] = data_dict[reps[i].value]['data']['fit_params'].loc[index, ['rmin','rmin error','rmax','rmax error']]   #add rmin, rmax and their errors to the final_fit df\n",
    "                        added_lambda.append(index)  \n",
    "                        \n",
    "                if rminmax[i].value == True:\n",
    "                    if index not in added_lambda and index not in added_rminmax:   # if neither lambda nor rmin/rmax for this protein-tracer pair have been added \n",
    "                        FA.final_fit.loc[index, ['rmin','rmin error','rmax','rmax error']] = data_dict[reps[i].value]['data']['fit_params'].loc[index, ['rmin','rmin error','rmax','rmax error']]\n",
    "                        added_rminmax.append(index)\n",
    "            \n",
    "            print('Selected values were saved.')\n",
    "        button.on_click(btn_eventhandler)   #link the button event handler function with actual clicking of the button using 'on_click' function\n",
    "        \n",
    "        \n",
    "    def _plot(data_df, params_df, pt_pair, fig, axs, err, var, rep, export=True, display=True, labels=True, dpi=250):\n",
    "        \"\"\"General function for plotting the anisotropy and intensity and saving the figures.\n",
    "        \n",
    "        :param data_df: Data frame with mean values of anisotropy or intensity and their errors\n",
    "        :type data_df: pandas df\n",
    "        :params_df: Data frame with fitting parameters\n",
    "        :type params_df: pandas df\n",
    "        :param pt_pair: protein-tracer pair for which the graph is to be generated\n",
    "        :type pt_pair: tuple\n",
    "        :param fig: Figure on which the data is to be plotted, can either a single figure object or an indexed index axis object for plotting on a grid (e.g. axs[0, 1])\n",
    "        :type fig: matplotlib Figure or AxesSubplot\n",
    "        :param err: A string representing type of error data to displayed as error bars, either 'std' or 'sem'\n",
    "        :type err: str\n",
    "        :param var: Variable for which the plot is to be generated, either anisotropy ('r') or intensity ('i')\n",
    "        :type var: str\n",
    "        :param repeat: Repeat number for labelling of the graph\n",
    "        :type repeat: 'str'\n",
    "        :param export: Determines whether the figure will be saved, can be either bool or string with directory path\n",
    "        :type export: bool or 'str'\n",
    "        :param display: Determines whether the figure will be displayed after plotting, default True\n",
    "        :type display: bool\n",
    "        :param labels: Determines whether the legend and box with fitting parameters will be displayed on the figure, default True\n",
    "        :type labels: bool\n",
    "        :param dpi: Resolution of the figure in points per inch\n",
    "        :type dpi: int\n",
    "        \"\"\"\n",
    "        #r = [i for i in list(params_df.columns) if i[0]=='r' and i[-1] != 'r']\n",
    "        #rp = params_df.loc[pt_pair, r].to_list()\n",
    "        if var == 'r':   # define the parameters, legend text and legend coordinates characteristic for anisotropy data\n",
    "            params = [params_df.loc[pt_pair, 'rmin'], params_df.loc[pt_pair, 'rmax'], params_df.loc[pt_pair, 'r_EC50'], params_df.loc[pt_pair, 'r_hill']]\n",
    "            text = \"rmin=%.2f \\u00B1 %.4f\\nrmax=%.2f \\u00B1 %.4f\\nEC50=%.0f \\u00B1 %.0f\\nhill=%.2f \\u00B1 %.2f\" % (params_df.loc[pt_pair, 'rmin'], \n",
    "                params_df.loc[pt_pair, 'rmin error'], params_df.loc[pt_pair, 'rmax'], params_df.loc[pt_pair, 'rmax error'], \n",
    "                params_df.loc[pt_pair, 'r_EC50'], params_df.loc[pt_pair, 'r_EC50 error'], params_df.loc[pt_pair, 'r_hill'], params_df.loc[pt_pair, 'r_hill error'])\n",
    "            label_coords = (0.02, 0.72)\n",
    "            ylabel = 'Anisotropy'\n",
    "        if var.lower() == 'i':   # define the parameters, legend text and legend coordinates characteristic for intensity data\n",
    "            params = [params_df.loc[pt_pair, 'Ifree'], params_df.loc[pt_pair, 'Ibound'], params_df.loc[pt_pair, 'I_EC50'], params_df.loc[pt_pair, 'I_hill']]\n",
    "            text = \"Ifree=%.0f \\u00B1 %.0f\\nIbound=%.0f \\u00B1 %.0f\\nEC50=%.0f \\u00B1 %.0f\\nhill=%.2f \\u00B1 %.2f\" % (params_df.loc[pt_pair, 'Ifree'], \n",
    "                params_df.loc[pt_pair, 'Ifree error'], params_df.loc[pt_pair, 'Ibound'], params_df.loc[pt_pair, 'Ibound error'], \n",
    "                params_df.loc[pt_pair, 'I_EC50'], params_df.loc[pt_pair, 'I_EC50 error'], params_df.loc[pt_pair, 'I_hill'], params_df.loc[pt_pair, 'I_hill error'])\n",
    "            label_coords = (0.02, 0.03)\n",
    "            ylabel = 'Intensity'\n",
    "        \n",
    "        drop = data_df[data_df['Protein Concentration'] != 0].dropna()   # exclude the protein concentration = 0 point and any NaNs from plotting\n",
    "        axs.errorbar(drop['Protein Concentration'], drop['mean'], yerr=drop[err], color='black', fmt='o', capsize=3, marker='s')\n",
    "        axs.set_xscale('symlog')\n",
    "        axs.set_ylabel(ylabel)\n",
    "        axs.set_xlabel(f'{pt_pair[0]} concentration (nM)')\n",
    "        axs.plot(drop['Protein Concentration'], FA._r_func(drop['Protein Concentration'], *params), color='blue')\n",
    "        \n",
    "        if labels == True:   # display legend and a box with fitting parameters on the graph\n",
    "            axs.set_title(f'{rep}, Protein: {pt_pair[0]}, Tracer: {pt_pair[1]}')\n",
    "            axs.legend(['logistic fitted curve'])\n",
    "            axs.annotate(text, xy=label_coords, xycoords='axes fraction', bbox=dict(boxstyle=\"round\", fc=\"w\"))\n",
    "            \n",
    "        if export == True:   # save figures in the same directory as the notebook\n",
    "            fig.savefig(f\"{rep}_{var}_{str(pt_pair[0])}_{str(pt_pair[1])}.png\", dpi=dpi)\n",
    "        if type(export) == str:   # save figures in the user defined directory\n",
    "            fig.savefig(f\"{export}{rep}_{var}_{str(pt_pair[0])}_{str(pt_pair[1])}.png\", dpi=dpi)\n",
    "        if display == False:   \n",
    "            plt.close(fig)\n",
    "                \n",
    "    def export_ani_figs(self, err='std', export=True, dpi=250):\n",
    "        \"\"\"Saves single figures of annisotropy and intensity for each protein-tracer pair for all repeats in the same directory as this notebook or\n",
    "        in user defined directory if the path is provided. figures for all repeats.\n",
    "        \n",
    "        :param err: A string representing type of error data to displayed as error bars, either 'std' or 'sem', default 'std'\n",
    "        :type err: str\n",
    "        :param dpi: Resolution of the figure in points per inch\n",
    "        :type dpi: int\n",
    "        \"\"\"\n",
    "        for key, value in self.data_dict.items():   # iterate over all repeats\n",
    "            metadata, data = value.values()\n",
    "            pairs = list(data['r_mean'].keys())   # generate a list of protein-tracer names\n",
    "                                \n",
    "            for pt_pair in pairs:   # iterate over each protein-tracer pair in\n",
    "                r_data_df = data['r_mean'][pt_pair]   # extract the df with anisotropy\n",
    "                i_data_df = data['i_mean'][pt_pair]   # and intensity\n",
    "                \n",
    "                fig_r, ax_r = plt.subplots(figsize=(6.4, 4.8), tight_layout=True)   # create a figure with a single axis for anisotropy \n",
    "                fig_i, ax_i = plt.subplots(figsize=(6.4, 4.8), tight_layout=True)   # and intensity graphs\n",
    "                \n",
    "                # execute the general plotting function with the correct parameters\n",
    "                FA._plot(data_df=r_data_df, params_df=data['fit_params'], pt_pair=pt_pair, fig=fig_r, axs=ax_r, err=err, var='r', rep=key, export=export, display=False, labels=False, dpi=dpi)\n",
    "                FA._plot(data_df=i_data_df, params_df=data['fit_params'], pt_pair=pt_pair, fig=fig_i, axs=ax_i, err=err, var='i', rep=key, export=export, display=False, labels=False, dpi=dpi)\n",
    "    \n",
    "    def plot_ani_all(self, err='std'):   \n",
    "        \"\"\"Plots anisotropy and intensity side by side for each protein-tracer pair on separate figures for all repeats.\n",
    "        \n",
    "        :param err: A string representing type of error data to displayed as error bars, either 'std' or 'sem', default 'std'\n",
    "        :type err: str\n",
    "        \"\"\"\n",
    "        for key, value in self.data_dict.items():   # iterte over all repeats\n",
    "            metadata, data = value.values()\n",
    "            keys = list(data['r_mean'].keys())\n",
    "            fig, axs = plt.subplots(len(keys), 2, figsize=(2*6.4, len(keys)*4.8), tight_layout=True)   # grid for subplots has two columns and a variable number of rows, figsize automatically scales up\n",
    "            fig.suptitle(key, fontsize=18)\n",
    "\n",
    "            for idx, item in enumerate(keys):   # for each portein-tracer pair plot two graphs: anisotropy and intensity\n",
    "                r_data_df = data['r_mean'][item]   # extract the df with anisotropy\n",
    "                i_data_df = data['i_mean'][item]   # intensity\n",
    "                FA._plot(data_df=r_data_df, params_df=data['fit_params'], pt_pair=item, fig=fig, axs=axs[idx,0], err=err, var='r', rep=key, export=False, display=True, labels=True)\n",
    "                FA._plot(data_df=i_data_df, params_df=data['fit_params'], pt_pair=item, fig=fig, axs=axs[idx,1], err=err, var='i', rep=key, export=False, display=True, labels=True)\n",
    "                \n",
    "    def plot_ani(self, rep, var, pair, err='std', export=False, labels=True, dpi=250):\n",
    "        \"\"\"Plots a single variable (anisotropy or intensity) for a specified protein-tracer pair.\n",
    "        \n",
    "        :param rep: Repeat number (e.g. 'repeat_1')\n",
    "        :type rep: 'str'\n",
    "        :param pair: protein-tracer pair for which the graph is to be generated\n",
    "        :type pair: tuple\n",
    "        :param err: A string representing type of error data to displayed as error bars, either 'std' or 'sem'\n",
    "        :type err: str\n",
    "        :param var: Variable for which the plot is to be generated, either anisotropy ('r') or intensity ('i')\n",
    "        :type var: str\n",
    "        :param export: Determines whether the figure will be saved, can be either bool or string with directory path\n",
    "        :type export: bool or 'str'\n",
    "        :param labels: Determines whether the legend and box with fitting parameters will be displayed on the figure, default True\n",
    "        :type labels: bool\n",
    "        :param dpi: Resolution of the figure in points per inch\n",
    "        :type dpi: int\n",
    "        \"\"\"\n",
    "        data_df = self.data_dict[rep]['data'][f'{var}_mean'][pair]\n",
    "        params_df = self.data_dict[rep]['data']['fit_params']\n",
    "        fig, ax = plt.subplots(figsize=(6.4, 4.8), tight_layout=True)   # create a figure with a single axis\n",
    "        \n",
    "        # execut the general plotting function with correct parameters\n",
    "        return FA._plot(data_df=data_df, params_df=params_df, pt_pair=pair, fig=fig, axs=ax, err=err, var=var, rep=rep, export=export, display=True, labels=labels, dpi=dpi)\n",
    "    \n",
    "    \n",
    "    def export_params(self, directory='', file_type='csv'):\n",
    "        \"\"\"Export the final fit parameters and \n",
    "        \n",
    "        :param directory: A path for the directory in which the files will be saved, defaults to the same directory as this notebook\n",
    "        :type param: str\n",
    "        :param file_type: String deermienig the type of file generated, either 'csv' or 'excel', defaults to csv\n",
    "        \"\"\"\n",
    "        if file_type == 'csv':   # export as csv file\n",
    "            FA.final_fit.to_csv(path_or_buf=f\"{directory}final_fit_parameters.csv\")\n",
    "        if file_type == 'excel':   # export as excel file\n",
    "            FA.final_fit.to_excel(excel_writer=f\"{directory}{key}final_fit_parameters.xlsx\")\n",
    "    \n",
    "        for key, value in self.data_dict.items():   #iterate over all repeats\n",
    "            metadata, data = value.values()\n",
    "            \n",
    "            if file_type == 'csv':   # export as csv file\n",
    "                data['fit_params'].to_csv(path_or_buf=f\"{directory}{key}_fitting_parameters.csv\")\n",
    "            if file_type == 'excel':   # export as excel file\n",
    "                data['fit_params'].to_excel(excel_writer=f\"{directory}{key}_fitting_parameters.xlsx\")\n",
    "        \n",
    "        print(f'The fitting parameters were exported to {file_type} files.')\n",
    "        \n",
    "        \n",
    "    def import_params(self, csv_file):\n",
    "        \"\"\"Allows to import a csv file with final_fit parameters (i.e. rmin, rmax, thier errors and lamda).\n",
    "        \n",
    "        :param csv_file: A .csv file with parameters to be imported\n",
    "        \"\"\"\n",
    "        with open(csv_file) as file:   # read the csv into pandas df\n",
    "            df = pd.read_csv(file, sep=',', index_col=[0,1], engine='python', encoding='utf-8')   # import with multiindex\n",
    "            indexes = list(df.index)   # create a list with protein-tracer names\n",
    "        \n",
    "        for col in df.columns:   # iterate over the imported columns\n",
    "            if col not in FA.final_fit.columns:   # if there is no such column in final_fit df, raise a warning, otherwise column with wrong name will be added to final_fit\n",
    "                warnings.warn(f\"The final_fit data frame does not contain matching columns: '{col}'\")\n",
    "            else:   # overwrite the existing values in the final_fit df with the ones from imported df\n",
    "                FA.final_fit.loc[FA.final_fit.index.intersection(indexes), col] = df.loc[df.index.intersection(indexes), col]\n",
    "            \n",
    "            \n",
    "    def calc_amountbound(self):\n",
    "        \"\"\"Calcualtes the fraction of tracer bound to the protein using the following formula: \n",
    "        L_B =( ( (λ*(rmin-rmax⁡)) / (r-rmin ) +1) )^(-1) * L_T\n",
    "        Where L_B is the concentration of fluorescent tracer bound to the target protein, \n",
    "        L_T is the total tracer concertation,\n",
    "        \"\"\"\n",
    "        for key, value in self.data_dict.items():\n",
    "            metadata, data = value.values()\n",
    "            keys = list(data['r_mean'].keys())\n",
    "\n",
    "            for pt_pair, df in data['r_mean'].items():   # iterate over each protein-tracer pair\n",
    "                lam = FA.final_fit.loc[pt_pair, \"lambda\"]   # extract lambda for this pair\n",
    "                rmin = FA.final_fit.loc[pt_pair, 'rmin']    # extract rmin for this pair\n",
    "                rmax = FA.final_fit.loc[pt_pair, 'rmax']    # extract rmax for this pair\n",
    "                df['amount'] = ( ( ( ( (lam * (rmax-rmin)) / (df['mean'] - rmin) ) )+1) **(-1)) * 200   # ??? tracer concentration ???\n",
    "                \n",
    "                "
   ]
  },
  {
   "cell_type": "code",
   "execution_count": 3,
   "metadata": {},
   "outputs": [
    {
     "name": "stdout",
     "output_type": "stream",
     "text": [
      "Data has been uploaded!\n",
      "\n",
      "Value of g-factor: 1.0 \n",
      "Number of repeats: 1 \n",
      "Overall number of empty cells is 192 in 2 data frames.\n"
     ]
    }
   ],
   "source": [
    "my_data1 = FA.read_in_envision(data_csv=HsHis6_PEX5C_vs_HsPEX5C, platemap_csv=Hs_His6_PEX5C_vs_HsPEX5C_platemap, data_type='plate', size=384)"
   ]
  },
  {
   "cell_type": "code",
   "execution_count": 4,
   "metadata": {},
   "outputs": [
    {
     "name": "stdout",
     "output_type": "stream",
     "text": [
      "Background correction has been successfully performed!\n",
      "The fluorescence intensity and anisotropy have been successfully calculated!\n",
      "\n"
     ]
    },
    {
     "name": "stderr",
     "output_type": "stream",
     "text": [
      "<ipython-input-2-0825cef2a9b7>:639: RuntimeWarning: invalid value encountered in sqrt\n",
      "  perr = np.sqrt(np.diag(pcov))   # calculate the error of the fitting params\n"
     ]
    }
   ],
   "source": [
    "my_data1.background_correct()\n",
    "my_data1.calculate_r_i(plot_i=False)\n",
    "my_data1.calc_data_to_fit()\n",
    "my_data1.logistic_fit_all()"
   ]
  },
  {
   "cell_type": "code",
   "execution_count": 5,
   "metadata": {},
   "outputs": [],
   "source": [
    "my_data1.logistic_fit_pair(rep='repeat_1', var='I', pair=('Hs-His6-PEX5C','Lissamine-YQSKL'), sig='std', p0=[500000, 300000, 1300, 2])"
   ]
  },
  {
   "cell_type": "code",
   "execution_count": 6,
   "metadata": {},
   "outputs": [
    {
     "name": "stdout",
     "output_type": "stream",
     "text": [
      "Choose the lambda values that will be saved for each protein-tracer pair. \n",
      "If you choose more than one lambda value for a given protein-tracer pair, only the first choice will be saved.\n",
      "If you do not choose any lambda value for a given protein-trcacer pair, then you have select the rmin and rmax for this pair.\n"
     ]
    },
    {
     "data": {
      "application/vnd.jupyter.widget-view+json": {
       "model_id": "3e2d14a5991f4a009cf492d8dd885621",
       "version_major": 2,
       "version_minor": 0
      },
      "text/plain": [
       "HBox(children=(VBox(children=(HTML(value='Hs-His6-PEX5C'), HTML(value='HsPEX5C'))), VBox(children=(HTML(value=…"
      ]
     },
     "metadata": {},
     "output_type": "display_data"
    },
    {
     "data": {
      "application/vnd.jupyter.widget-view+json": {
       "model_id": "70a1887fe40748a69dfa0b7427c193ed",
       "version_major": 2,
       "version_minor": 0
      },
      "text/plain": [
       "Button(description='Save', style=ButtonStyle())"
      ]
     },
     "metadata": {},
     "output_type": "display_data"
    },
    {
     "name": "stdout",
     "output_type": "stream",
     "text": [
      "Selected values were saved.\n"
     ]
    }
   ],
   "source": [
    "my_data1.calc_lambda()"
   ]
  },
  {
   "cell_type": "code",
   "execution_count": 7,
   "metadata": {},
   "outputs": [
    {
     "data": {
      "text/html": [
       "<div>\n",
       "<style scoped>\n",
       "    .dataframe tbody tr th:only-of-type {\n",
       "        vertical-align: middle;\n",
       "    }\n",
       "\n",
       "    .dataframe tbody tr th {\n",
       "        vertical-align: top;\n",
       "    }\n",
       "\n",
       "    .dataframe thead th {\n",
       "        text-align: right;\n",
       "    }\n",
       "</style>\n",
       "<table border=\"1\" class=\"dataframe\">\n",
       "  <thead>\n",
       "    <tr style=\"text-align: right;\">\n",
       "      <th></th>\n",
       "      <th></th>\n",
       "      <th>rmin</th>\n",
       "      <th>rmin error</th>\n",
       "      <th>rmax</th>\n",
       "      <th>rmax error</th>\n",
       "      <th>lambda</th>\n",
       "      <th>Kd</th>\n",
       "    </tr>\n",
       "  </thead>\n",
       "  <tbody>\n",
       "    <tr>\n",
       "      <th>Hs-His6-PEX5C</th>\n",
       "      <th>Lissamine-YQSKL</th>\n",
       "      <td>0.101713</td>\n",
       "      <td>0.00242669</td>\n",
       "      <td>0.238391</td>\n",
       "      <td>0.0138689</td>\n",
       "      <td>0.807355</td>\n",
       "      <td>NaN</td>\n",
       "    </tr>\n",
       "    <tr>\n",
       "      <th>HsPEX5C</th>\n",
       "      <th>Lissamine-YQSKL</th>\n",
       "      <td>0.100903</td>\n",
       "      <td>0.00248909</td>\n",
       "      <td>0.280979</td>\n",
       "      <td>0.00305313</td>\n",
       "      <td>0.320507</td>\n",
       "      <td>NaN</td>\n",
       "    </tr>\n",
       "  </tbody>\n",
       "</table>\n",
       "</div>"
      ],
      "text/plain": [
       "                                   rmin  rmin error      rmax  rmax error  \\\n",
       "Hs-His6-PEX5C Lissamine-YQSKL  0.101713  0.00242669  0.238391   0.0138689   \n",
       "HsPEX5C       Lissamine-YQSKL  0.100903  0.00248909  0.280979  0.00305313   \n",
       "\n",
       "                                 lambda   Kd  \n",
       "Hs-His6-PEX5C Lissamine-YQSKL  0.807355  NaN  \n",
       "HsPEX5C       Lissamine-YQSKL  0.320507  NaN  "
      ]
     },
     "execution_count": 7,
     "metadata": {},
     "output_type": "execute_result"
    }
   ],
   "source": [
    "my_data1.final_fit"
   ]
  },
  {
   "cell_type": "code",
   "execution_count": 8,
   "metadata": {},
   "outputs": [
    {
     "data": {
      "image/png": "[encoded data removed]",
      "text/plain": [
       "<Figure size 921.6x691.2 with 4 Axes>"
      ]
     },
     "metadata": {
      "needs_background": "light"
     },
     "output_type": "display_data"
    }
   ],
   "source": [
    "my_data1.plot_ani_all(err='std')"
   ]
  },
  {
   "cell_type": "code",
   "execution_count": 9,
   "metadata": {},
   "outputs": [],
   "source": [
    "my_data1.calc_amountbound()"
   ]
  },
  {
   "cell_type": "code",
   "execution_count": 10,
   "metadata": {},
   "outputs": [
    {
     "data": {
      "text/html": [
       "<div>\n",
       "<style scoped>\n",
       "    .dataframe tbody tr th:only-of-type {\n",
       "        vertical-align: middle;\n",
       "    }\n",
       "\n",
       "    .dataframe tbody tr th {\n",
       "        vertical-align: top;\n",
       "    }\n",
       "\n",
       "    .dataframe thead th {\n",
       "        text-align: right;\n",
       "    }\n",
       "</style>\n",
       "<table border=\"1\" class=\"dataframe\">\n",
       "  <thead>\n",
       "    <tr style=\"text-align: right;\">\n",
       "      <th></th>\n",
       "      <th>Protein Concentration</th>\n",
       "      <th>Protein Name</th>\n",
       "      <th>Tracer Name</th>\n",
       "      <th>Valid</th>\n",
       "      <th>mean</th>\n",
       "      <th>std</th>\n",
       "      <th>sem</th>\n",
       "      <th>amount</th>\n",
       "    </tr>\n",
       "  </thead>\n",
       "  <tbody>\n",
       "    <tr>\n",
       "      <th>0</th>\n",
       "      <td>0.00</td>\n",
       "      <td>Hs-His6-PEX5C</td>\n",
       "      <td>Lissamine-YQSKL</td>\n",
       "      <td>True</td>\n",
       "      <td>0.119012</td>\n",
       "      <td>0.005419</td>\n",
       "      <td>0.003129</td>\n",
       "      <td>27.104415</td>\n",
       "    </tr>\n",
       "    <tr>\n",
       "      <th>2</th>\n",
       "      <td>1.34</td>\n",
       "      <td>Hs-His6-PEX5C</td>\n",
       "      <td>Lissamine-YQSKL</td>\n",
       "      <td>True</td>\n",
       "      <td>0.122990</td>\n",
       "      <td>0.007839</td>\n",
       "      <td>0.004526</td>\n",
       "      <td>32.329864</td>\n",
       "    </tr>\n",
       "    <tr>\n",
       "      <th>4</th>\n",
       "      <td>2.00</td>\n",
       "      <td>Hs-His6-PEX5C</td>\n",
       "      <td>Lissamine-YQSKL</td>\n",
       "      <td>True</td>\n",
       "      <td>0.113773</td>\n",
       "      <td>0.006537</td>\n",
       "      <td>0.003774</td>\n",
       "      <td>19.704968</td>\n",
       "    </tr>\n",
       "    <tr>\n",
       "      <th>6</th>\n",
       "      <td>3.01</td>\n",
       "      <td>Hs-His6-PEX5C</td>\n",
       "      <td>Lissamine-YQSKL</td>\n",
       "      <td>True</td>\n",
       "      <td>0.105597</td>\n",
       "      <td>0.009274</td>\n",
       "      <td>0.005355</td>\n",
       "      <td>6.801092</td>\n",
       "    </tr>\n",
       "    <tr>\n",
       "      <th>8</th>\n",
       "      <td>4.51</td>\n",
       "      <td>Hs-His6-PEX5C</td>\n",
       "      <td>Lissamine-YQSKL</td>\n",
       "      <td>True</td>\n",
       "      <td>0.112596</td>\n",
       "      <td>0.021957</td>\n",
       "      <td>0.012677</td>\n",
       "      <td>17.955325</td>\n",
       "    </tr>\n",
       "    <tr>\n",
       "      <th>10</th>\n",
       "      <td>6.77</td>\n",
       "      <td>Hs-His6-PEX5C</td>\n",
       "      <td>Lissamine-YQSKL</td>\n",
       "      <td>True</td>\n",
       "      <td>0.106670</td>\n",
       "      <td>0.018799</td>\n",
       "      <td>0.010854</td>\n",
       "      <td>8.598763</td>\n",
       "    </tr>\n",
       "    <tr>\n",
       "      <th>12</th>\n",
       "      <td>10.15</td>\n",
       "      <td>Hs-His6-PEX5C</td>\n",
       "      <td>Lissamine-YQSKL</td>\n",
       "      <td>True</td>\n",
       "      <td>0.110241</td>\n",
       "      <td>0.008629</td>\n",
       "      <td>0.004982</td>\n",
       "      <td>14.348053</td>\n",
       "    </tr>\n",
       "    <tr>\n",
       "      <th>14</th>\n",
       "      <td>15.22</td>\n",
       "      <td>Hs-His6-PEX5C</td>\n",
       "      <td>Lissamine-YQSKL</td>\n",
       "      <td>True</td>\n",
       "      <td>0.104318</td>\n",
       "      <td>0.015428</td>\n",
       "      <td>0.008907</td>\n",
       "      <td>4.613423</td>\n",
       "    </tr>\n",
       "    <tr>\n",
       "      <th>16</th>\n",
       "      <td>22.84</td>\n",
       "      <td>Hs-His6-PEX5C</td>\n",
       "      <td>Lissamine-YQSKL</td>\n",
       "      <td>True</td>\n",
       "      <td>0.107586</td>\n",
       "      <td>0.006013</td>\n",
       "      <td>0.003471</td>\n",
       "      <td>10.108027</td>\n",
       "    </tr>\n",
       "    <tr>\n",
       "      <th>18</th>\n",
       "      <td>34.25</td>\n",
       "      <td>Hs-His6-PEX5C</td>\n",
       "      <td>Lissamine-YQSKL</td>\n",
       "      <td>True</td>\n",
       "      <td>0.097739</td>\n",
       "      <td>0.004524</td>\n",
       "      <td>0.002612</td>\n",
       "      <td>-7.471755</td>\n",
       "    </tr>\n",
       "    <tr>\n",
       "      <th>20</th>\n",
       "      <td>51.38</td>\n",
       "      <td>Hs-His6-PEX5C</td>\n",
       "      <td>Lissamine-YQSKL</td>\n",
       "      <td>True</td>\n",
       "      <td>0.092616</td>\n",
       "      <td>0.005792</td>\n",
       "      <td>0.003344</td>\n",
       "      <td>-17.967991</td>\n",
       "    </tr>\n",
       "    <tr>\n",
       "      <th>22</th>\n",
       "      <td>77.07</td>\n",
       "      <td>Hs-His6-PEX5C</td>\n",
       "      <td>Lissamine-YQSKL</td>\n",
       "      <td>True</td>\n",
       "      <td>0.089642</td>\n",
       "      <td>0.001947</td>\n",
       "      <td>0.001124</td>\n",
       "      <td>-24.564833</td>\n",
       "    </tr>\n",
       "    <tr>\n",
       "      <th>24</th>\n",
       "      <td>115.61</td>\n",
       "      <td>Hs-His6-PEX5C</td>\n",
       "      <td>Lissamine-YQSKL</td>\n",
       "      <td>True</td>\n",
       "      <td>0.088531</td>\n",
       "      <td>0.000322</td>\n",
       "      <td>0.000186</td>\n",
       "      <td>-27.132003</td>\n",
       "    </tr>\n",
       "    <tr>\n",
       "      <th>26</th>\n",
       "      <td>173.42</td>\n",
       "      <td>Hs-His6-PEX5C</td>\n",
       "      <td>Lissamine-YQSKL</td>\n",
       "      <td>True</td>\n",
       "      <td>0.094769</td>\n",
       "      <td>0.000211</td>\n",
       "      <td>0.000122</td>\n",
       "      <td>-13.429843</td>\n",
       "    </tr>\n",
       "    <tr>\n",
       "      <th>28</th>\n",
       "      <td>260.12</td>\n",
       "      <td>Hs-His6-PEX5C</td>\n",
       "      <td>Lissamine-YQSKL</td>\n",
       "      <td>True</td>\n",
       "      <td>0.093465</td>\n",
       "      <td>0.004344</td>\n",
       "      <td>0.002508</td>\n",
       "      <td>-16.156247</td>\n",
       "    </tr>\n",
       "    <tr>\n",
       "      <th>30</th>\n",
       "      <td>390.18</td>\n",
       "      <td>Hs-His6-PEX5C</td>\n",
       "      <td>Lissamine-YQSKL</td>\n",
       "      <td>True</td>\n",
       "      <td>0.095510</td>\n",
       "      <td>0.001499</td>\n",
       "      <td>0.000865</td>\n",
       "      <td>-11.911197</td>\n",
       "    </tr>\n",
       "    <tr>\n",
       "      <th>32</th>\n",
       "      <td>585.28</td>\n",
       "      <td>Hs-His6-PEX5C</td>\n",
       "      <td>Lissamine-YQSKL</td>\n",
       "      <td>True</td>\n",
       "      <td>0.093876</td>\n",
       "      <td>0.005259</td>\n",
       "      <td>0.003036</td>\n",
       "      <td>-15.288172</td>\n",
       "    </tr>\n",
       "    <tr>\n",
       "      <th>34</th>\n",
       "      <td>877.91</td>\n",
       "      <td>Hs-His6-PEX5C</td>\n",
       "      <td>Lissamine-YQSKL</td>\n",
       "      <td>True</td>\n",
       "      <td>0.106926</td>\n",
       "      <td>0.004022</td>\n",
       "      <td>0.002322</td>\n",
       "      <td>9.022520</td>\n",
       "    </tr>\n",
       "    <tr>\n",
       "      <th>36</th>\n",
       "      <td>1316.87</td>\n",
       "      <td>Hs-His6-PEX5C</td>\n",
       "      <td>Lissamine-YQSKL</td>\n",
       "      <td>True</td>\n",
       "      <td>0.099504</td>\n",
       "      <td>0.020704</td>\n",
       "      <td>0.011954</td>\n",
       "      <td>-4.084542</td>\n",
       "    </tr>\n",
       "    <tr>\n",
       "      <th>38</th>\n",
       "      <td>1975.31</td>\n",
       "      <td>Hs-His6-PEX5C</td>\n",
       "      <td>Lissamine-YQSKL</td>\n",
       "      <td>True</td>\n",
       "      <td>0.137954</td>\n",
       "      <td>0.006253</td>\n",
       "      <td>0.003610</td>\n",
       "      <td>49.445792</td>\n",
       "    </tr>\n",
       "    <tr>\n",
       "      <th>40</th>\n",
       "      <td>2962.96</td>\n",
       "      <td>Hs-His6-PEX5C</td>\n",
       "      <td>Lissamine-YQSKL</td>\n",
       "      <td>True</td>\n",
       "      <td>0.153390</td>\n",
       "      <td>0.011481</td>\n",
       "      <td>0.006628</td>\n",
       "      <td>63.789333</td>\n",
       "    </tr>\n",
       "    <tr>\n",
       "      <th>42</th>\n",
       "      <td>4444.44</td>\n",
       "      <td>Hs-His6-PEX5C</td>\n",
       "      <td>Lissamine-YQSKL</td>\n",
       "      <td>True</td>\n",
       "      <td>0.192647</td>\n",
       "      <td>0.013776</td>\n",
       "      <td>0.007953</td>\n",
       "      <td>90.354862</td>\n",
       "    </tr>\n",
       "    <tr>\n",
       "      <th>44</th>\n",
       "      <td>6666.67</td>\n",
       "      <td>Hs-His6-PEX5C</td>\n",
       "      <td>Lissamine-YQSKL</td>\n",
       "      <td>True</td>\n",
       "      <td>0.223068</td>\n",
       "      <td>0.030118</td>\n",
       "      <td>0.017389</td>\n",
       "      <td>104.750756</td>\n",
       "    </tr>\n",
       "    <tr>\n",
       "      <th>46</th>\n",
       "      <td>10000.00</td>\n",
       "      <td>Hs-His6-PEX5C</td>\n",
       "      <td>Lissamine-YQSKL</td>\n",
       "      <td>True</td>\n",
       "      <td>0.230897</td>\n",
       "      <td>0.003898</td>\n",
       "      <td>0.002251</td>\n",
       "      <td>107.863628</td>\n",
       "    </tr>\n",
       "  </tbody>\n",
       "</table>\n",
       "</div>"
      ],
      "text/plain": [
       "    Protein Concentration   Protein Name      Tracer Name  Valid      mean  \\\n",
       "0                    0.00  Hs-His6-PEX5C  Lissamine-YQSKL   True  0.119012   \n",
       "2                    1.34  Hs-His6-PEX5C  Lissamine-YQSKL   True  0.122990   \n",
       "4                    2.00  Hs-His6-PEX5C  Lissamine-YQSKL   True  0.113773   \n",
       "6                    3.01  Hs-His6-PEX5C  Lissamine-YQSKL   True  0.105597   \n",
       "8                    4.51  Hs-His6-PEX5C  Lissamine-YQSKL   True  0.112596   \n",
       "10                   6.77  Hs-His6-PEX5C  Lissamine-YQSKL   True  0.106670   \n",
       "12                  10.15  Hs-His6-PEX5C  Lissamine-YQSKL   True  0.110241   \n",
       "14                  15.22  Hs-His6-PEX5C  Lissamine-YQSKL   True  0.104318   \n",
       "16                  22.84  Hs-His6-PEX5C  Lissamine-YQSKL   True  0.107586   \n",
       "18                  34.25  Hs-His6-PEX5C  Lissamine-YQSKL   True  0.097739   \n",
       "20                  51.38  Hs-His6-PEX5C  Lissamine-YQSKL   True  0.092616   \n",
       "22                  77.07  Hs-His6-PEX5C  Lissamine-YQSKL   True  0.089642   \n",
       "24                 115.61  Hs-His6-PEX5C  Lissamine-YQSKL   True  0.088531   \n",
       "26                 173.42  Hs-His6-PEX5C  Lissamine-YQSKL   True  0.094769   \n",
       "28                 260.12  Hs-His6-PEX5C  Lissamine-YQSKL   True  0.093465   \n",
       "30                 390.18  Hs-His6-PEX5C  Lissamine-YQSKL   True  0.095510   \n",
       "32                 585.28  Hs-His6-PEX5C  Lissamine-YQSKL   True  0.093876   \n",
       "34                 877.91  Hs-His6-PEX5C  Lissamine-YQSKL   True  0.106926   \n",
       "36                1316.87  Hs-His6-PEX5C  Lissamine-YQSKL   True  0.099504   \n",
       "38                1975.31  Hs-His6-PEX5C  Lissamine-YQSKL   True  0.137954   \n",
       "40                2962.96  Hs-His6-PEX5C  Lissamine-YQSKL   True  0.153390   \n",
       "42                4444.44  Hs-His6-PEX5C  Lissamine-YQSKL   True  0.192647   \n",
       "44                6666.67  Hs-His6-PEX5C  Lissamine-YQSKL   True  0.223068   \n",
       "46               10000.00  Hs-His6-PEX5C  Lissamine-YQSKL   True  0.230897   \n",
       "\n",
       "         std       sem      amount  \n",
       "0   0.005419  0.003129   27.104415  \n",
       "2   0.007839  0.004526   32.329864  \n",
       "4   0.006537  0.003774   19.704968  \n",
       "6   0.009274  0.005355    6.801092  \n",
       "8   0.021957  0.012677   17.955325  \n",
       "10  0.018799  0.010854    8.598763  \n",
       "12  0.008629  0.004982   14.348053  \n",
       "14  0.015428  0.008907    4.613423  \n",
       "16  0.006013  0.003471   10.108027  \n",
       "18  0.004524  0.002612   -7.471755  \n",
       "20  0.005792  0.003344  -17.967991  \n",
       "22  0.001947  0.001124  -24.564833  \n",
       "24  0.000322  0.000186  -27.132003  \n",
       "26  0.000211  0.000122  -13.429843  \n",
       "28  0.004344  0.002508  -16.156247  \n",
       "30  0.001499  0.000865  -11.911197  \n",
       "32  0.005259  0.003036  -15.288172  \n",
       "34  0.004022  0.002322    9.022520  \n",
       "36  0.020704  0.011954   -4.084542  \n",
       "38  0.006253  0.003610   49.445792  \n",
       "40  0.011481  0.006628   63.789333  \n",
       "42  0.013776  0.007953   90.354862  \n",
       "44  0.030118  0.017389  104.750756  \n",
       "46  0.003898  0.002251  107.863628  "
      ]
     },
     "execution_count": 10,
     "metadata": {},
     "output_type": "execute_result"
    }
   ],
   "source": [
    "protein1 = my_data1.data_dict['repeat_1']['data']['r_mean'][('Hs-His6-PEX5C','Lissamine-YQSKL')]\n",
    "my_data1.data_dict['repeat_1']['data']['r_mean'][('Hs-His6-PEX5C','Lissamine-YQSKL')]"
   ]
  },
  {
   "cell_type": "code",
   "execution_count": 11,
   "metadata": {},
   "outputs": [
    {
     "data": {
      "text/html": [
       "<div>\n",
       "<style scoped>\n",
       "    .dataframe tbody tr th:only-of-type {\n",
       "        vertical-align: middle;\n",
       "    }\n",
       "\n",
       "    .dataframe tbody tr th {\n",
       "        vertical-align: top;\n",
       "    }\n",
       "\n",
       "    .dataframe thead th {\n",
       "        text-align: right;\n",
       "    }\n",
       "</style>\n",
       "<table border=\"1\" class=\"dataframe\">\n",
       "  <thead>\n",
       "    <tr style=\"text-align: right;\">\n",
       "      <th></th>\n",
       "      <th>Protein Concentration</th>\n",
       "      <th>Protein Name</th>\n",
       "      <th>Tracer Name</th>\n",
       "      <th>Valid</th>\n",
       "      <th>mean</th>\n",
       "      <th>std</th>\n",
       "      <th>sem</th>\n",
       "      <th>amount</th>\n",
       "    </tr>\n",
       "  </thead>\n",
       "  <tbody>\n",
       "    <tr>\n",
       "      <th>1</th>\n",
       "      <td>0.00</td>\n",
       "      <td>HsPEX5C</td>\n",
       "      <td>Lissamine-YQSKL</td>\n",
       "      <td>True</td>\n",
       "      <td>0.118006</td>\n",
       "      <td>0.001583</td>\n",
       "      <td>0.000914</td>\n",
       "      <td>45.718347</td>\n",
       "    </tr>\n",
       "    <tr>\n",
       "      <th>3</th>\n",
       "      <td>1.34</td>\n",
       "      <td>HsPEX5C</td>\n",
       "      <td>Lissamine-YQSKL</td>\n",
       "      <td>True</td>\n",
       "      <td>0.115256</td>\n",
       "      <td>0.006918</td>\n",
       "      <td>0.003994</td>\n",
       "      <td>39.830363</td>\n",
       "    </tr>\n",
       "    <tr>\n",
       "      <th>5</th>\n",
       "      <td>2.00</td>\n",
       "      <td>HsPEX5C</td>\n",
       "      <td>Lissamine-YQSKL</td>\n",
       "      <td>True</td>\n",
       "      <td>0.105908</td>\n",
       "      <td>0.008794</td>\n",
       "      <td>0.005077</td>\n",
       "      <td>15.958466</td>\n",
       "    </tr>\n",
       "    <tr>\n",
       "      <th>7</th>\n",
       "      <td>3.01</td>\n",
       "      <td>HsPEX5C</td>\n",
       "      <td>Lissamine-YQSKL</td>\n",
       "      <td>True</td>\n",
       "      <td>0.103442</td>\n",
       "      <td>0.005615</td>\n",
       "      <td>0.003242</td>\n",
       "      <td>8.427875</td>\n",
       "    </tr>\n",
       "    <tr>\n",
       "      <th>9</th>\n",
       "      <td>4.51</td>\n",
       "      <td>HsPEX5C</td>\n",
       "      <td>Lissamine-YQSKL</td>\n",
       "      <td>True</td>\n",
       "      <td>0.105228</td>\n",
       "      <td>0.005865</td>\n",
       "      <td>0.003386</td>\n",
       "      <td>13.940645</td>\n",
       "    </tr>\n",
       "    <tr>\n",
       "      <th>11</th>\n",
       "      <td>6.77</td>\n",
       "      <td>HsPEX5C</td>\n",
       "      <td>Lissamine-YQSKL</td>\n",
       "      <td>True</td>\n",
       "      <td>0.103610</td>\n",
       "      <td>0.004614</td>\n",
       "      <td>0.002664</td>\n",
       "      <td>8.958574</td>\n",
       "    </tr>\n",
       "    <tr>\n",
       "      <th>13</th>\n",
       "      <td>10.15</td>\n",
       "      <td>HsPEX5C</td>\n",
       "      <td>Lissamine-YQSKL</td>\n",
       "      <td>True</td>\n",
       "      <td>0.095033</td>\n",
       "      <td>0.007806</td>\n",
       "      <td>0.004507</td>\n",
       "      <td>-22.643620</td>\n",
       "    </tr>\n",
       "    <tr>\n",
       "      <th>15</th>\n",
       "      <td>15.22</td>\n",
       "      <td>HsPEX5C</td>\n",
       "      <td>Lissamine-YQSKL</td>\n",
       "      <td>True</td>\n",
       "      <td>0.093455</td>\n",
       "      <td>0.013487</td>\n",
       "      <td>0.007787</td>\n",
       "      <td>-29.634662</td>\n",
       "    </tr>\n",
       "    <tr>\n",
       "      <th>17</th>\n",
       "      <td>22.84</td>\n",
       "      <td>HsPEX5C</td>\n",
       "      <td>Lissamine-YQSKL</td>\n",
       "      <td>True</td>\n",
       "      <td>0.089354</td>\n",
       "      <td>0.004921</td>\n",
       "      <td>0.002841</td>\n",
       "      <td>-50.029699</td>\n",
       "    </tr>\n",
       "    <tr>\n",
       "      <th>19</th>\n",
       "      <td>34.25</td>\n",
       "      <td>HsPEX5C</td>\n",
       "      <td>Lissamine-YQSKL</td>\n",
       "      <td>True</td>\n",
       "      <td>0.109715</td>\n",
       "      <td>0.008536</td>\n",
       "      <td>0.004928</td>\n",
       "      <td>26.490784</td>\n",
       "    </tr>\n",
       "    <tr>\n",
       "      <th>21</th>\n",
       "      <td>51.38</td>\n",
       "      <td>HsPEX5C</td>\n",
       "      <td>Lissamine-YQSKL</td>\n",
       "      <td>True</td>\n",
       "      <td>0.107674</td>\n",
       "      <td>0.003376</td>\n",
       "      <td>0.001949</td>\n",
       "      <td>20.999872</td>\n",
       "    </tr>\n",
       "    <tr>\n",
       "      <th>23</th>\n",
       "      <td>77.07</td>\n",
       "      <td>HsPEX5C</td>\n",
       "      <td>Lissamine-YQSKL</td>\n",
       "      <td>True</td>\n",
       "      <td>0.116930</td>\n",
       "      <td>0.010005</td>\n",
       "      <td>0.005777</td>\n",
       "      <td>43.466032</td>\n",
       "    </tr>\n",
       "    <tr>\n",
       "      <th>25</th>\n",
       "      <td>115.61</td>\n",
       "      <td>HsPEX5C</td>\n",
       "      <td>Lissamine-YQSKL</td>\n",
       "      <td>True</td>\n",
       "      <td>0.148812</td>\n",
       "      <td>0.021966</td>\n",
       "      <td>0.012682</td>\n",
       "      <td>90.715296</td>\n",
       "    </tr>\n",
       "    <tr>\n",
       "      <th>27</th>\n",
       "      <td>173.42</td>\n",
       "      <td>HsPEX5C</td>\n",
       "      <td>Lissamine-YQSKL</td>\n",
       "      <td>True</td>\n",
       "      <td>0.178159</td>\n",
       "      <td>0.019261</td>\n",
       "      <td>0.011120</td>\n",
       "      <td>114.477282</td>\n",
       "    </tr>\n",
       "    <tr>\n",
       "      <th>29</th>\n",
       "      <td>260.12</td>\n",
       "      <td>HsPEX5C</td>\n",
       "      <td>Lissamine-YQSKL</td>\n",
       "      <td>True</td>\n",
       "      <td>0.214425</td>\n",
       "      <td>0.021974</td>\n",
       "      <td>0.012687</td>\n",
       "      <td>132.589887</td>\n",
       "    </tr>\n",
       "    <tr>\n",
       "      <th>31</th>\n",
       "      <td>390.18</td>\n",
       "      <td>HsPEX5C</td>\n",
       "      <td>Lissamine-YQSKL</td>\n",
       "      <td>True</td>\n",
       "      <td>0.240277</td>\n",
       "      <td>0.004114</td>\n",
       "      <td>0.002375</td>\n",
       "      <td>141.432026</td>\n",
       "    </tr>\n",
       "    <tr>\n",
       "      <th>33</th>\n",
       "      <td>585.28</td>\n",
       "      <td>HsPEX5C</td>\n",
       "      <td>Lissamine-YQSKL</td>\n",
       "      <td>True</td>\n",
       "      <td>0.252568</td>\n",
       "      <td>0.011638</td>\n",
       "      <td>0.006719</td>\n",
       "      <td>144.869893</td>\n",
       "    </tr>\n",
       "    <tr>\n",
       "      <th>35</th>\n",
       "      <td>877.91</td>\n",
       "      <td>HsPEX5C</td>\n",
       "      <td>Lissamine-YQSKL</td>\n",
       "      <td>True</td>\n",
       "      <td>0.267019</td>\n",
       "      <td>0.005011</td>\n",
       "      <td>0.002893</td>\n",
       "      <td>148.429326</td>\n",
       "    </tr>\n",
       "    <tr>\n",
       "      <th>37</th>\n",
       "      <td>1316.87</td>\n",
       "      <td>HsPEX5C</td>\n",
       "      <td>Lissamine-YQSKL</td>\n",
       "      <td>True</td>\n",
       "      <td>0.287461</td>\n",
       "      <td>0.005703</td>\n",
       "      <td>0.003293</td>\n",
       "      <td>152.745043</td>\n",
       "    </tr>\n",
       "    <tr>\n",
       "      <th>39</th>\n",
       "      <td>1975.31</td>\n",
       "      <td>HsPEX5C</td>\n",
       "      <td>Lissamine-YQSKL</td>\n",
       "      <td>True</td>\n",
       "      <td>0.282933</td>\n",
       "      <td>0.003019</td>\n",
       "      <td>0.001743</td>\n",
       "      <td>151.852400</td>\n",
       "    </tr>\n",
       "    <tr>\n",
       "      <th>41</th>\n",
       "      <td>2962.96</td>\n",
       "      <td>HsPEX5C</td>\n",
       "      <td>Lissamine-YQSKL</td>\n",
       "      <td>True</td>\n",
       "      <td>0.286630</td>\n",
       "      <td>0.003708</td>\n",
       "      <td>0.002141</td>\n",
       "      <td>152.583742</td>\n",
       "    </tr>\n",
       "    <tr>\n",
       "      <th>43</th>\n",
       "      <td>4444.44</td>\n",
       "      <td>HsPEX5C</td>\n",
       "      <td>Lissamine-YQSKL</td>\n",
       "      <td>True</td>\n",
       "      <td>0.278774</td>\n",
       "      <td>0.006253</td>\n",
       "      <td>0.003610</td>\n",
       "      <td>151.002483</td>\n",
       "    </tr>\n",
       "    <tr>\n",
       "      <th>45</th>\n",
       "      <td>6666.67</td>\n",
       "      <td>HsPEX5C</td>\n",
       "      <td>Lissamine-YQSKL</td>\n",
       "      <td>True</td>\n",
       "      <td>0.278532</td>\n",
       "      <td>0.012385</td>\n",
       "      <td>0.007150</td>\n",
       "      <td>150.952169</td>\n",
       "    </tr>\n",
       "    <tr>\n",
       "      <th>47</th>\n",
       "      <td>10000.00</td>\n",
       "      <td>HsPEX5C</td>\n",
       "      <td>Lissamine-YQSKL</td>\n",
       "      <td>True</td>\n",
       "      <td>0.275160</td>\n",
       "      <td>0.020921</td>\n",
       "      <td>0.012079</td>\n",
       "      <td>150.239203</td>\n",
       "    </tr>\n",
       "  </tbody>\n",
       "</table>\n",
       "</div>"
      ],
      "text/plain": [
       "    Protein Concentration Protein Name      Tracer Name  Valid      mean  \\\n",
       "1                    0.00      HsPEX5C  Lissamine-YQSKL   True  0.118006   \n",
       "3                    1.34      HsPEX5C  Lissamine-YQSKL   True  0.115256   \n",
       "5                    2.00      HsPEX5C  Lissamine-YQSKL   True  0.105908   \n",
       "7                    3.01      HsPEX5C  Lissamine-YQSKL   True  0.103442   \n",
       "9                    4.51      HsPEX5C  Lissamine-YQSKL   True  0.105228   \n",
       "11                   6.77      HsPEX5C  Lissamine-YQSKL   True  0.103610   \n",
       "13                  10.15      HsPEX5C  Lissamine-YQSKL   True  0.095033   \n",
       "15                  15.22      HsPEX5C  Lissamine-YQSKL   True  0.093455   \n",
       "17                  22.84      HsPEX5C  Lissamine-YQSKL   True  0.089354   \n",
       "19                  34.25      HsPEX5C  Lissamine-YQSKL   True  0.109715   \n",
       "21                  51.38      HsPEX5C  Lissamine-YQSKL   True  0.107674   \n",
       "23                  77.07      HsPEX5C  Lissamine-YQSKL   True  0.116930   \n",
       "25                 115.61      HsPEX5C  Lissamine-YQSKL   True  0.148812   \n",
       "27                 173.42      HsPEX5C  Lissamine-YQSKL   True  0.178159   \n",
       "29                 260.12      HsPEX5C  Lissamine-YQSKL   True  0.214425   \n",
       "31                 390.18      HsPEX5C  Lissamine-YQSKL   True  0.240277   \n",
       "33                 585.28      HsPEX5C  Lissamine-YQSKL   True  0.252568   \n",
       "35                 877.91      HsPEX5C  Lissamine-YQSKL   True  0.267019   \n",
       "37                1316.87      HsPEX5C  Lissamine-YQSKL   True  0.287461   \n",
       "39                1975.31      HsPEX5C  Lissamine-YQSKL   True  0.282933   \n",
       "41                2962.96      HsPEX5C  Lissamine-YQSKL   True  0.286630   \n",
       "43                4444.44      HsPEX5C  Lissamine-YQSKL   True  0.278774   \n",
       "45                6666.67      HsPEX5C  Lissamine-YQSKL   True  0.278532   \n",
       "47               10000.00      HsPEX5C  Lissamine-YQSKL   True  0.275160   \n",
       "\n",
       "         std       sem      amount  \n",
       "1   0.001583  0.000914   45.718347  \n",
       "3   0.006918  0.003994   39.830363  \n",
       "5   0.008794  0.005077   15.958466  \n",
       "7   0.005615  0.003242    8.427875  \n",
       "9   0.005865  0.003386   13.940645  \n",
       "11  0.004614  0.002664    8.958574  \n",
       "13  0.007806  0.004507  -22.643620  \n",
       "15  0.013487  0.007787  -29.634662  \n",
       "17  0.004921  0.002841  -50.029699  \n",
       "19  0.008536  0.004928   26.490784  \n",
       "21  0.003376  0.001949   20.999872  \n",
       "23  0.010005  0.005777   43.466032  \n",
       "25  0.021966  0.012682   90.715296  \n",
       "27  0.019261  0.011120  114.477282  \n",
       "29  0.021974  0.012687  132.589887  \n",
       "31  0.004114  0.002375  141.432026  \n",
       "33  0.011638  0.006719  144.869893  \n",
       "35  0.005011  0.002893  148.429326  \n",
       "37  0.005703  0.003293  152.745043  \n",
       "39  0.003019  0.001743  151.852400  \n",
       "41  0.003708  0.002141  152.583742  \n",
       "43  0.006253  0.003610  151.002483  \n",
       "45  0.012385  0.007150  150.952169  \n",
       "47  0.020921  0.012079  150.239203  "
      ]
     },
     "execution_count": 11,
     "metadata": {},
     "output_type": "execute_result"
    }
   ],
   "source": [
    "protein2 = my_data1.data_dict['repeat_1']['data']['r_mean'][('HsPEX5C','Lissamine-YQSKL')]\n",
    "my_data1.data_dict['repeat_1']['data']['r_mean'][('HsPEX5C','Lissamine-YQSKL')]"
   ]
  },
  {
   "cell_type": "code",
   "execution_count": null,
   "metadata": {
    "scrolled": true
   },
   "outputs": [],
   "source": []
  },
  {
   "cell_type": "code",
   "execution_count": 12,
   "metadata": {},
   "outputs": [],
   "source": [
    "def LB(LT, PT, Kd):\n",
    "    \"\"\"Function for fitting a curve to the plot of concentration of fluorescent tracer bound to the target protein against\n",
    "    protein concentration.\n",
    "    LB is the concentration of fluorescent tracer bound to the target protein\n",
    "    LT is total protein concentration\n",
    "    PT is total tracer concentration\n",
    "    Kd is dissociation constant \n",
    "     \"\"\"\n",
    "    return ( (LT+PT+Kd) - np.sqrt( ( ((LT+PT+Kd)**2) - (4*LT*PT) ) ) ) / 2"
   ]
  },
  {
   "cell_type": "code",
   "execution_count": 13,
   "metadata": {},
   "outputs": [],
   "source": [
    "def logistic_fit_kd(df, **kwargs):\n",
    "    \n",
    "    drop = df[df['Protein Concentration'] != 0].dropna()   # exclude the protein concentration = 0 point and any NaNs from data fitting\n",
    "        \n",
    "    popt, pcov = curve_fit(LB, drop['Protein Concentration'], drop['amount'], **kwargs)\n",
    "    perr = np.sqrt(np.diag(pcov))   # calculate the error of the fitting params\n",
    "    #all_params = np.insert(popt, obj=[1,2], values=perr)   # insert the errors after the respective fitting parameter value\n",
    "    return popt, perr "
   ]
  },
  {
   "cell_type": "code",
   "execution_count": 14,
   "metadata": {},
   "outputs": [
    {
     "name": "stderr",
     "output_type": "stream",
     "text": [
      "C:\\Program Files (x86)\\anaconda3\\lib\\site-packages\\pandas\\core\\series.py:726: RuntimeWarning: invalid value encountered in sqrt\n",
      "  result = getattr(ufunc, method)(*inputs, **kwargs)\n"
     ]
    }
   ],
   "source": [
    "p2_fit = logistic_fit_kd(protein2)"
   ]
  },
  {
   "cell_type": "code",
   "execution_count": 15,
   "metadata": {},
   "outputs": [
    {
     "data": {
      "text/plain": [
       "array([155.47764695,  34.37504895])"
      ]
     },
     "execution_count": 15,
     "metadata": {},
     "output_type": "execute_result"
    }
   ],
   "source": [
    "p2_fit[0]"
   ]
  },
  {
   "cell_type": "code",
   "execution_count": 16,
   "metadata": {},
   "outputs": [
    {
     "data": {
      "text/plain": [
       "array([ 8.63967681, 19.74607135])"
      ]
     },
     "execution_count": 16,
     "metadata": {},
     "output_type": "execute_result"
    }
   ],
   "source": [
    "p2_fit[1]"
   ]
  },
  {
   "cell_type": "code",
   "execution_count": 17,
   "metadata": {},
   "outputs": [],
   "source": [
    "def plot_kd(data_df, pt_pair, params):\n",
    "    \n",
    "    fig, axs =plt.subplots(figsize=(6.4,4.8))\n",
    "    label_coords = (0.02, 0.80)\n",
    "    text='PT=%.2f\\nKd=%.2f'% tuple(params)  \n",
    "    drop = data_df[data_df['Protein Concentration'] != 0].dropna()   # exclude the protein concentration = 0 point and any NaNs from plotting\n",
    "    axs.errorbar(drop['Protein Concentration'], drop['amount'], color='black', fmt='o', capsize=3, marker='s')\n",
    "    axs.set_xscale('symlog')\n",
    "    axs.set_ylabel('[Fluorescent Tracer Bound] (nM)')\n",
    "    axs.set_xlabel(f'[{pt_pair[0]}] (nM)')\n",
    "    axs.plot(drop['Protein Concentration'], LB(drop['Protein Concentration'], *params), color='blue')\n",
    "        \n",
    "    axs.set_title(f'Protein: {pt_pair[0]}, Tracer: {pt_pair[1]}')\n",
    "    axs.legend(['logistic fitted curve'])\n",
    "    axs.annotate(text, xy=label_coords, xycoords='axes fraction', bbox=dict(boxstyle=\"round\", fc=\"w\"))\n",
    "    plt.show()"
   ]
  },
  {
   "cell_type": "code",
   "execution_count": 19,
   "metadata": {},
   "outputs": [
    {
     "data": {
      "image/png": "[encoded data removed]",
      "text/plain": [
       "<Figure size 460.8x345.6 with 1 Axes>"
      ]
     },
     "metadata": {
      "needs_background": "light"
     },
     "output_type": "display_data"
    }
   ],
   "source": [
    "plot_kd(protein2, ('HsPEX5C','Lissamine-YQSKL'), p2_fit[0])"
   ]
  },
  {
   "cell_type": "code",
   "execution_count": null,
   "metadata": {},
   "outputs": [],
   "source": []
  },
  {
   "cell_type": "code",
   "execution_count": null,
   "metadata": {},
   "outputs": [],
   "source": []
  },
  {
   "cell_type": "code",
   "execution_count": 20,
   "metadata": {},
   "outputs": [
    {
     "name": "stderr",
     "output_type": "stream",
     "text": [
      "C:\\Program Files (x86)\\anaconda3\\lib\\site-packages\\pandas\\core\\series.py:726: RuntimeWarning: invalid value encountered in sqrt\n",
      "  result = getattr(ufunc, method)(*inputs, **kwargs)\n"
     ]
    },
    {
     "ename": "RuntimeError",
     "evalue": "Optimal parameters not found: Number of calls to function has reached maxfev = 600.",
     "output_type": "error",
     "traceback": [
      "\u001b[1;31m---------------------------------------------------------------------------\u001b[0m",
      "\u001b[1;31mRuntimeError\u001b[0m                              Traceback (most recent call last)",
      "\u001b[1;32m<ipython-input-20-3fe7dedb5ae3>\u001b[0m in \u001b[0;36m<module>\u001b[1;34m\u001b[0m\n\u001b[1;32m----> 1\u001b[1;33m \u001b[0mp1_fit\u001b[0m \u001b[1;33m=\u001b[0m \u001b[0mlogistic_fit_kd\u001b[0m\u001b[1;33m(\u001b[0m\u001b[0mprotein1\u001b[0m\u001b[1;33m)\u001b[0m\u001b[1;33m\u001b[0m\u001b[1;33m\u001b[0m\u001b[0m\n\u001b[0m",
      "\u001b[1;32m<ipython-input-13-5a28f51ad67a>\u001b[0m in \u001b[0;36mlogistic_fit_kd\u001b[1;34m(df, **kwargs)\u001b[0m\n\u001b[0;32m      3\u001b[0m     \u001b[0mdrop\u001b[0m \u001b[1;33m=\u001b[0m \u001b[0mdf\u001b[0m\u001b[1;33m[\u001b[0m\u001b[0mdf\u001b[0m\u001b[1;33m[\u001b[0m\u001b[1;34m'Protein Concentration'\u001b[0m\u001b[1;33m]\u001b[0m \u001b[1;33m!=\u001b[0m \u001b[1;36m0\u001b[0m\u001b[1;33m]\u001b[0m\u001b[1;33m.\u001b[0m\u001b[0mdropna\u001b[0m\u001b[1;33m(\u001b[0m\u001b[1;33m)\u001b[0m   \u001b[1;31m# exclude the protein concentration = 0 point and any NaNs from data fitting\u001b[0m\u001b[1;33m\u001b[0m\u001b[1;33m\u001b[0m\u001b[0m\n\u001b[0;32m      4\u001b[0m \u001b[1;33m\u001b[0m\u001b[0m\n\u001b[1;32m----> 5\u001b[1;33m     \u001b[0mpopt\u001b[0m\u001b[1;33m,\u001b[0m \u001b[0mpcov\u001b[0m \u001b[1;33m=\u001b[0m \u001b[0mcurve_fit\u001b[0m\u001b[1;33m(\u001b[0m\u001b[0mLB\u001b[0m\u001b[1;33m,\u001b[0m \u001b[0mdrop\u001b[0m\u001b[1;33m[\u001b[0m\u001b[1;34m'Protein Concentration'\u001b[0m\u001b[1;33m]\u001b[0m\u001b[1;33m,\u001b[0m \u001b[0mdrop\u001b[0m\u001b[1;33m[\u001b[0m\u001b[1;34m'amount'\u001b[0m\u001b[1;33m]\u001b[0m\u001b[1;33m,\u001b[0m \u001b[1;33m**\u001b[0m\u001b[0mkwargs\u001b[0m\u001b[1;33m)\u001b[0m\u001b[1;33m\u001b[0m\u001b[1;33m\u001b[0m\u001b[0m\n\u001b[0m\u001b[0;32m      6\u001b[0m     \u001b[0mperr\u001b[0m \u001b[1;33m=\u001b[0m \u001b[0mnp\u001b[0m\u001b[1;33m.\u001b[0m\u001b[0msqrt\u001b[0m\u001b[1;33m(\u001b[0m\u001b[0mnp\u001b[0m\u001b[1;33m.\u001b[0m\u001b[0mdiag\u001b[0m\u001b[1;33m(\u001b[0m\u001b[0mpcov\u001b[0m\u001b[1;33m)\u001b[0m\u001b[1;33m)\u001b[0m   \u001b[1;31m# calculate the error of the fitting params\u001b[0m\u001b[1;33m\u001b[0m\u001b[1;33m\u001b[0m\u001b[0m\n\u001b[0;32m      7\u001b[0m     \u001b[1;31m#all_params = np.insert(popt, obj=[1,2], values=perr)   # insert the errors after the respective fitting parameter value\u001b[0m\u001b[1;33m\u001b[0m\u001b[1;33m\u001b[0m\u001b[1;33m\u001b[0m\u001b[0m\n",
      "\u001b[1;32mC:\\Program Files (x86)\\anaconda3\\lib\\site-packages\\scipy\\optimize\\minpack.py\u001b[0m in \u001b[0;36mcurve_fit\u001b[1;34m(f, xdata, ydata, p0, sigma, absolute_sigma, check_finite, bounds, method, jac, **kwargs)\u001b[0m\n\u001b[0;32m    787\u001b[0m         \u001b[0mcost\u001b[0m \u001b[1;33m=\u001b[0m \u001b[0mnp\u001b[0m\u001b[1;33m.\u001b[0m\u001b[0msum\u001b[0m\u001b[1;33m(\u001b[0m\u001b[0minfodict\u001b[0m\u001b[1;33m[\u001b[0m\u001b[1;34m'fvec'\u001b[0m\u001b[1;33m]\u001b[0m \u001b[1;33m**\u001b[0m \u001b[1;36m2\u001b[0m\u001b[1;33m)\u001b[0m\u001b[1;33m\u001b[0m\u001b[1;33m\u001b[0m\u001b[0m\n\u001b[0;32m    788\u001b[0m         \u001b[1;32mif\u001b[0m \u001b[0mier\u001b[0m \u001b[1;32mnot\u001b[0m \u001b[1;32min\u001b[0m \u001b[1;33m[\u001b[0m\u001b[1;36m1\u001b[0m\u001b[1;33m,\u001b[0m \u001b[1;36m2\u001b[0m\u001b[1;33m,\u001b[0m \u001b[1;36m3\u001b[0m\u001b[1;33m,\u001b[0m \u001b[1;36m4\u001b[0m\u001b[1;33m]\u001b[0m\u001b[1;33m:\u001b[0m\u001b[1;33m\u001b[0m\u001b[1;33m\u001b[0m\u001b[0m\n\u001b[1;32m--> 789\u001b[1;33m             \u001b[1;32mraise\u001b[0m \u001b[0mRuntimeError\u001b[0m\u001b[1;33m(\u001b[0m\u001b[1;34m\"Optimal parameters not found: \"\u001b[0m \u001b[1;33m+\u001b[0m \u001b[0merrmsg\u001b[0m\u001b[1;33m)\u001b[0m\u001b[1;33m\u001b[0m\u001b[1;33m\u001b[0m\u001b[0m\n\u001b[0m\u001b[0;32m    790\u001b[0m     \u001b[1;32melse\u001b[0m\u001b[1;33m:\u001b[0m\u001b[1;33m\u001b[0m\u001b[1;33m\u001b[0m\u001b[0m\n\u001b[0;32m    791\u001b[0m         \u001b[1;31m# Rename maxfev (leastsq) to max_nfev (least_squares), if specified.\u001b[0m\u001b[1;33m\u001b[0m\u001b[1;33m\u001b[0m\u001b[1;33m\u001b[0m\u001b[0m\n",
      "\u001b[1;31mRuntimeError\u001b[0m: Optimal parameters not found: Number of calls to function has reached maxfev = 600."
     ]
    }
   ],
   "source": [
    "p1_fit = logistic_fit_kd(protein1)"
   ]
  },
  {
   "cell_type": "code",
   "execution_count": 21,
   "metadata": {},
   "outputs": [],
   "source": [
    "p1_fit = logistic_fit_kd(protein1, p0=[120, 10])"
   ]
  },
  {
   "cell_type": "code",
   "execution_count": 22,
   "metadata": {},
   "outputs": [
    {
     "data": {
      "text/plain": [
       "array([  280.53757964, 12873.06422653])"
      ]
     },
     "execution_count": 22,
     "metadata": {},
     "output_type": "execute_result"
    }
   ],
   "source": [
    "p1_fit[0]"
   ]
  },
  {
   "cell_type": "code",
   "execution_count": 23,
   "metadata": {},
   "outputs": [
    {
     "data": {
      "text/plain": [
       "array([  189.97756729, 13007.58733644])"
      ]
     },
     "execution_count": 23,
     "metadata": {},
     "output_type": "execute_result"
    }
   ],
   "source": [
    "p1_fit[1]"
   ]
  },
  {
   "cell_type": "code",
   "execution_count": 24,
   "metadata": {},
   "outputs": [
    {
     "data": {
      "image/png": "[encoded data removed]",
      "text/plain": [
       "<Figure size 460.8x345.6 with 1 Axes>"
      ]
     },
     "metadata": {
      "needs_background": "light"
     },
     "output_type": "display_data"
    }
   ],
   "source": [
    "plot_kd(protein1, ('Hs-His6-PEX5C','Lissamine-YQSKL'), p1_fit[0])"
   ]
  },
  {
   "cell_type": "code",
   "execution_count": 25,
   "metadata": {},
   "outputs": [],
   "source": [
    "p1_fit2 = logistic_fit_kd(protein1, p0=[120, 10], bounds=([0,0], [200,2000]))"
   ]
  },
  {
   "cell_type": "code",
   "execution_count": 26,
   "metadata": {},
   "outputs": [
    {
     "data": {
      "text/plain": [
       "array([ 106.72768694, 2000.        ])"
      ]
     },
     "execution_count": 26,
     "metadata": {},
     "output_type": "execute_result"
    }
   ],
   "source": [
    "p1_fit2[0]"
   ]
  },
  {
   "cell_type": "code",
   "execution_count": 27,
   "metadata": {},
   "outputs": [
    {
     "data": {
      "image/png": "[encoded data removed]",
      "text/plain": [
       "<Figure size 460.8x345.6 with 1 Axes>"
      ]
     },
     "metadata": {
      "needs_background": "light"
     },
     "output_type": "display_data"
    }
   ],
   "source": [
    "plot_kd(protein1, ('Hs-His6-PEX5C','Lissamine-YQSKL'), p1_fit2[0])"
   ]
  },
  {
   "cell_type": "code",
   "execution_count": null,
   "metadata": {},
   "outputs": [],
   "source": []
  },
  {
   "cell_type": "code",
   "execution_count": null,
   "metadata": {},
   "outputs": [],
   "source": []
  },
  {
   "cell_type": "code",
   "execution_count": null,
   "metadata": {},
   "outputs": [],
   "source": []
  },
  {
   "cell_type": "code",
   "execution_count": 37,
   "metadata": {},
   "outputs": [
    {
     "name": "stdout",
     "output_type": "stream",
     "text": [
      "Data has been uploaded!\n",
      "\n",
      "Value of g-factor: 1.0 \n",
      "Number of repeats: 1 \n",
      "Overall number of empty cells is 192 in 2 data frames.\n",
      "Background correction has been successfully performed!\n",
      "The fluorescence intensity and anisotropy have been successfully calculated!\n",
      "\n"
     ]
    },
    {
     "name": "stderr",
     "output_type": "stream",
     "text": [
      "<ipython-input-2-0825cef2a9b7>:677: RuntimeWarning: The curve fitting failed in the following cases:\n",
      "\n",
      "[('repeat_1', 'i', ('AtPEX5C WT', 'Lissamine-YQSKL'), RuntimeError('Optimal parameters not found: Number of calls to function has reached maxfev = 1000.'))]\n",
      "\n",
      "Use the 'logistic_fit_pair' function to adjust the initial guess for the parameters or pass other arguments to the fitting function.\n",
      "  warnings.warn(f\"The curve fitting failed in the following cases:\\n\\n{errors}\\n\\nUse the 'logistic_fit_pair' function to adjust the initial guess for the parameters or pass other arguments to the fitting function.\", RuntimeWarning)\n"
     ]
    }
   ],
   "source": [
    "my_data2 = FA.read_in_envision(data_csv=HsPEX5C_Y467C_vs_AtPEX5C_WT, platemap_csv=HsPEX5C_Y467C_vs_AtPEX5C_WT_platemap, data_type='plate', size=384)\n",
    "my_data2.background_correct()\n",
    "my_data2.calculate_r_i(thr=60, plot_i = False)\n",
    "my_data2.calc_data_to_fit()\n",
    "my_data2.logistic_fit_all()"
   ]
  },
  {
   "cell_type": "code",
   "execution_count": 38,
   "metadata": {},
   "outputs": [],
   "source": [
    "my_data2.logistic_fit_pair(rep='repeat_1', var='I', pair=('AtPEX5C WT','Lissamine-YQSKL'), sig='std')"
   ]
  },
  {
   "cell_type": "code",
   "execution_count": 39,
   "metadata": {},
   "outputs": [
    {
     "data": {
      "image/png": "[encoded data removed]",
      "text/plain": [
       "<Figure size 921.6x691.2 with 4 Axes>"
      ]
     },
     "metadata": {
      "needs_background": "light"
     },
     "output_type": "display_data"
    }
   ],
   "source": [
    "my_data2.plot_ani_all(err='std')"
   ]
  },
  {
   "cell_type": "code",
   "execution_count": 40,
   "metadata": {},
   "outputs": [
    {
     "name": "stdout",
     "output_type": "stream",
     "text": [
      "Choose the lambda values that will be saved for each protein-tracer pair. \n",
      "If you choose more than one lambda value for a given protein-tracer pair, only the first choice will be saved.\n",
      "If you do not choose any lambda value for a given protein-trcacer pair, then you have select the rmin and rmax for this pair.\n"
     ]
    },
    {
     "data": {
      "application/vnd.jupyter.widget-view+json": {
       "model_id": "3af16baa500d40a89d066a89522d0a21",
       "version_major": 2,
       "version_minor": 0
      },
      "text/plain": [
       "HBox(children=(VBox(children=(HTML(value='AtPEX5C WT'), HTML(value='HsPEx5C Y467C'))), VBox(children=(HTML(val…"
      ]
     },
     "metadata": {},
     "output_type": "display_data"
    },
    {
     "data": {
      "application/vnd.jupyter.widget-view+json": {
       "model_id": "cc8ef3edfd094e9ea96f96dec39f1f37",
       "version_major": 2,
       "version_minor": 0
      },
      "text/plain": [
       "Button(description='Save', style=ButtonStyle())"
      ]
     },
     "metadata": {},
     "output_type": "display_data"
    }
   ],
   "source": [
    "my_data2.calc_lambda()"
   ]
  },
  {
   "cell_type": "code",
   "execution_count": null,
   "metadata": {},
   "outputs": [],
   "source": []
  },
  {
   "cell_type": "code",
   "execution_count": 32,
   "metadata": {},
   "outputs": [
    {
     "name": "stdout",
     "output_type": "stream",
     "text": [
      "Data has been uploaded!\n",
      "\n",
      "Value of g-factor: 1.0 \n",
      "Number of repeats: 1 \n",
      "Overall number of empty cells is 192 in 2 data frames.\n",
      "Background correction has been successfully performed!\n",
      "The fluorescence intensity and anisotropy have been successfully calculated!\n",
      "\n"
     ]
    }
   ],
   "source": [
    "my_data3 = FA.read_in_envision(data_csv=F606C_vs_AtPEX5C_WT_1_hour, platemap_csv=F606C_vs_AtPEX5C_WT_1_hour_platemap, data_type='plate', size=384)\n",
    "my_data3.background_correct()\n",
    "my_data3.calculate_r_i(thr=60, plot_i = False)\n",
    "my_data3.calc_data_to_fit()\n",
    "my_data3.logistic_fit_all()"
   ]
  },
  {
   "cell_type": "code",
   "execution_count": 33,
   "metadata": {},
   "outputs": [
    {
     "data": {
      "image/png": "[encoded data removed]",
      "text/plain": [
       "<Figure size 921.6x691.2 with 4 Axes>"
      ]
     },
     "metadata": {
      "needs_background": "light"
     },
     "output_type": "display_data"
    }
   ],
   "source": [
    "my_data3.plot_ani_all()"
   ]
  },
  {
   "cell_type": "code",
   "execution_count": null,
   "metadata": {},
   "outputs": [],
   "source": []
  },
  {
   "cell_type": "code",
   "execution_count": null,
   "metadata": {},
   "outputs": [],
   "source": []
  },
  {
   "cell_type": "code",
   "execution_count": null,
   "metadata": {},
   "outputs": [],
   "source": []
  },
  {
   "cell_type": "code",
   "execution_count": null,
   "metadata": {},
   "outputs": [],
   "source": []
  },
  {
   "cell_type": "code",
   "execution_count": null,
   "metadata": {},
   "outputs": [],
   "source": []
  },
  {
   "cell_type": "code",
   "execution_count": null,
   "metadata": {},
   "outputs": [],
   "source": []
  },
  {
   "cell_type": "code",
   "execution_count": null,
   "metadata": {},
   "outputs": [],
   "source": []
  },
  {
   "cell_type": "code",
   "execution_count": null,
   "metadata": {},
   "outputs": [],
   "source": []
  },
  {
   "cell_type": "code",
   "execution_count": null,
   "metadata": {},
   "outputs": [],
   "source": []
  },
  {
   "cell_type": "code",
   "execution_count": null,
   "metadata": {},
   "outputs": [],
   "source": []
  },
  {
   "cell_type": "code",
   "execution_count": null,
   "metadata": {},
   "outputs": [],
   "source": []
  },
  {
   "cell_type": "code",
   "execution_count": null,
   "metadata": {},
   "outputs": [],
   "source": []
  },
  {
   "cell_type": "code",
   "execution_count": null,
   "metadata": {},
   "outputs": [],
   "source": []
  },
  {
   "cell_type": "raw",
   "metadata": {},
   "source": []
  },
  {
   "cell_type": "code",
   "execution_count": null,
   "metadata": {},
   "outputs": [],
   "source": []
  },
  {
   "cell_type": "code",
   "execution_count": null,
   "metadata": {},
   "outputs": [],
   "source": []
  },
  {
   "cell_type": "code",
   "execution_count": null,
   "metadata": {},
   "outputs": [],
   "source": []
  },
  {
   "cell_type": "code",
   "execution_count": null,
   "metadata": {},
   "outputs": [],
   "source": []
  },
  {
   "cell_type": "code",
   "execution_count": null,
   "metadata": {},
   "outputs": [],
   "source": []
  },
  {
   "cell_type": "code",
   "execution_count": null,
   "metadata": {},
   "outputs": [],
   "source": []
  },
  {
   "cell_type": "code",
   "execution_count": null,
   "metadata": {},
   "outputs": [],
   "source": []
  },
  {
   "cell_type": "code",
   "execution_count": null,
   "metadata": {},
   "outputs": [],
   "source": []
  },
  {
   "cell_type": "code",
   "execution_count": null,
   "metadata": {},
   "outputs": [],
   "source": []
  },
  {
   "cell_type": "code",
   "execution_count": null,
   "metadata": {},
   "outputs": [],
   "source": []
  },
  {
   "cell_type": "code",
   "execution_count": null,
   "metadata": {},
   "outputs": [],
   "source": []
  },
  {
   "cell_type": "code",
   "execution_count": null,
   "metadata": {},
   "outputs": [],
   "source": []
  },
  {
   "cell_type": "code",
   "execution_count": null,
   "metadata": {},
   "outputs": [],
   "source": []
  },
  {
   "cell_type": "code",
   "execution_count": null,
   "metadata": {},
   "outputs": [],
   "source": []
  },
  {
   "cell_type": "code",
   "execution_count": null,
   "metadata": {},
   "outputs": [],
   "source": []
  },
  {
   "cell_type": "code",
   "execution_count": null,
   "metadata": {},
   "outputs": [],
   "source": []
  },
  {
   "cell_type": "code",
   "execution_count": null,
   "metadata": {},
   "outputs": [],
   "source": []
  },
  {
   "cell_type": "code",
   "execution_count": null,
   "metadata": {},
   "outputs": [],
   "source": []
  },
  {
   "cell_type": "code",
   "execution_count": null,
   "metadata": {},
   "outputs": [],
   "source": []
  },
  {
   "cell_type": "code",
   "execution_count": null,
   "metadata": {},
   "outputs": [],
   "source": []
  },
  {
   "cell_type": "code",
   "execution_count": null,
   "metadata": {},
   "outputs": [],
   "source": []
  },
  {
   "cell_type": "code",
   "execution_count": null,
   "metadata": {},
   "outputs": [],
   "source": []
  },
  {
   "cell_type": "code",
   "execution_count": null,
   "metadata": {},
   "outputs": [],
   "source": []
  },
  {
   "cell_type": "code",
   "execution_count": null,
   "metadata": {},
   "outputs": [],
   "source": []
  },
  {
   "cell_type": "code",
   "execution_count": null,
   "metadata": {},
   "outputs": [],
   "source": []
  },
  {
   "cell_type": "code",
   "execution_count": null,
   "metadata": {},
   "outputs": [],
   "source": []
  },
  {
   "cell_type": "code",
   "execution_count": null,
   "metadata": {},
   "outputs": [],
   "source": []
  },
  {
   "cell_type": "code",
   "execution_count": null,
   "metadata": {},
   "outputs": [],
   "source": []
  },
  {
   "cell_type": "code",
   "execution_count": null,
   "metadata": {},
   "outputs": [],
   "source": []
  },
  {
   "cell_type": "code",
   "execution_count": null,
   "metadata": {},
   "outputs": [],
   "source": []
  },
  {
   "cell_type": "code",
   "execution_count": null,
   "metadata": {},
   "outputs": [],
   "source": []
  },
  {
   "cell_type": "code",
   "execution_count": null,
   "metadata": {},
   "outputs": [],
   "source": []
  },
  {
   "cell_type": "code",
   "execution_count": null,
   "metadata": {},
   "outputs": [],
   "source": []
  },
  {
   "cell_type": "code",
   "execution_count": null,
   "metadata": {},
   "outputs": [],
   "source": []
  },
  {
   "cell_type": "code",
   "execution_count": null,
   "metadata": {},
   "outputs": [],
   "source": []
  },
  {
   "cell_type": "code",
   "execution_count": null,
   "metadata": {},
   "outputs": [],
   "source": []
  },
  {
   "cell_type": "code",
   "execution_count": null,
   "metadata": {},
   "outputs": [],
   "source": []
  },
  {
   "cell_type": "code",
   "execution_count": null,
   "metadata": {},
   "outputs": [],
   "source": []
  },
  {
   "cell_type": "code",
   "execution_count": null,
   "metadata": {},
   "outputs": [],
   "source": []
  },
  {
   "cell_type": "code",
   "execution_count": null,
   "metadata": {},
   "outputs": [],
   "source": []
  },
  {
   "cell_type": "code",
   "execution_count": null,
   "metadata": {},
   "outputs": [],
   "source": []
  },
  {
   "cell_type": "code",
   "execution_count": null,
   "metadata": {},
   "outputs": [],
   "source": []
  },
  {
   "cell_type": "code",
   "execution_count": null,
   "metadata": {},
   "outputs": [],
   "source": []
  },
  {
   "cell_type": "code",
   "execution_count": null,
   "metadata": {},
   "outputs": [],
   "source": []
  },
  {
   "cell_type": "code",
   "execution_count": null,
   "metadata": {},
   "outputs": [],
   "source": []
  },
  {
   "cell_type": "code",
   "execution_count": null,
   "metadata": {},
   "outputs": [],
   "source": []
  },
  {
   "cell_type": "code",
   "execution_count": null,
   "metadata": {},
   "outputs": [],
   "source": []
  },
  {
   "cell_type": "code",
   "execution_count": null,
   "metadata": {},
   "outputs": [],
   "source": []
  },
  {
   "cell_type": "code",
   "execution_count": null,
   "metadata": {},
   "outputs": [],
   "source": []
  },
  {
   "cell_type": "code",
   "execution_count": null,
   "metadata": {},
   "outputs": [],
   "source": []
  },
  {
   "cell_type": "code",
   "execution_count": null,
   "metadata": {},
   "outputs": [],
   "source": []
  },
  {
   "cell_type": "code",
   "execution_count": null,
   "metadata": {},
   "outputs": [],
   "source": []
  },
  {
   "cell_type": "code",
   "execution_count": null,
   "metadata": {},
   "outputs": [],
   "source": []
  },
  {
   "cell_type": "code",
   "execution_count": null,
   "metadata": {},
   "outputs": [],
   "source": []
  },
  {
   "cell_type": "code",
   "execution_count": null,
   "metadata": {},
   "outputs": [],
   "source": []
  },
  {
   "cell_type": "code",
   "execution_count": null,
   "metadata": {},
   "outputs": [],
   "source": []
  },
  {
   "cell_type": "code",
   "execution_count": null,
   "metadata": {},
   "outputs": [],
   "source": []
  },
  {
   "cell_type": "code",
   "execution_count": null,
   "metadata": {},
   "outputs": [],
   "source": []
  },
  {
   "cell_type": "code",
   "execution_count": null,
   "metadata": {},
   "outputs": [],
   "source": []
  },
  {
   "cell_type": "code",
   "execution_count": null,
   "metadata": {},
   "outputs": [],
   "source": []
  },
  {
   "cell_type": "code",
   "execution_count": null,
   "metadata": {},
   "outputs": [],
   "source": []
  },
  {
   "cell_type": "code",
   "execution_count": null,
   "metadata": {},
   "outputs": [],
   "source": []
  },
  {
   "cell_type": "code",
   "execution_count": null,
   "metadata": {},
   "outputs": [],
   "source": []
  },
  {
   "cell_type": "code",
   "execution_count": null,
   "metadata": {},
   "outputs": [],
   "source": []
  },
  {
   "cell_type": "code",
   "execution_count": null,
   "metadata": {},
   "outputs": [],
   "source": []
  },
  {
   "cell_type": "code",
   "execution_count": null,
   "metadata": {},
   "outputs": [],
   "source": []
  },
  {
   "cell_type": "code",
   "execution_count": null,
   "metadata": {},
   "outputs": [],
   "source": []
  },
  {
   "cell_type": "code",
   "execution_count": null,
   "metadata": {},
   "outputs": [],
   "source": []
  },
  {
   "cell_type": "code",
   "execution_count": null,
   "metadata": {},
   "outputs": [],
   "source": []
  },
  {
   "cell_type": "code",
   "execution_count": null,
   "metadata": {},
   "outputs": [],
   "source": []
  },
  {
   "cell_type": "code",
   "execution_count": null,
   "metadata": {},
   "outputs": [],
   "source": []
  },
  {
   "cell_type": "code",
   "execution_count": null,
   "metadata": {},
   "outputs": [],
   "source": []
  },
  {
   "cell_type": "code",
   "execution_count": null,
   "metadata": {},
   "outputs": [],
   "source": []
  },
  {
   "cell_type": "code",
   "execution_count": null,
   "metadata": {},
   "outputs": [],
   "source": []
  },
  {
   "cell_type": "code",
   "execution_count": null,
   "metadata": {},
   "outputs": [],
   "source": []
  },
  {
   "cell_type": "code",
   "execution_count": null,
   "metadata": {},
   "outputs": [],
   "source": []
  },
  {
   "cell_type": "code",
   "execution_count": null,
   "metadata": {},
   "outputs": [],
   "source": []
  },
  {
   "cell_type": "code",
   "execution_count": null,
   "metadata": {},
   "outputs": [],
   "source": []
  },
  {
   "cell_type": "code",
   "execution_count": null,
   "metadata": {},
   "outputs": [],
   "source": []
  },
  {
   "cell_type": "code",
   "execution_count": null,
   "metadata": {},
   "outputs": [],
   "source": []
  },
  {
   "cell_type": "code",
   "execution_count": null,
   "metadata": {},
   "outputs": [],
   "source": []
  },
  {
   "cell_type": "code",
   "execution_count": null,
   "metadata": {},
   "outputs": [],
   "source": []
  },
  {
   "cell_type": "code",
   "execution_count": null,
   "metadata": {},
   "outputs": [],
   "source": []
  },
  {
   "cell_type": "code",
   "execution_count": null,
   "metadata": {},
   "outputs": [],
   "source": []
  },
  {
   "cell_type": "code",
   "execution_count": null,
   "metadata": {},
   "outputs": [],
   "source": []
  },
  {
   "cell_type": "code",
   "execution_count": null,
   "metadata": {},
   "outputs": [],
   "source": []
  },
  {
   "cell_type": "code",
   "execution_count": null,
   "metadata": {},
   "outputs": [],
   "source": []
  },
  {
   "cell_type": "code",
   "execution_count": null,
   "metadata": {},
   "outputs": [],
   "source": []
  },
  {
   "cell_type": "code",
   "execution_count": null,
   "metadata": {},
   "outputs": [],
   "source": []
  },
  {
   "cell_type": "code",
   "execution_count": null,
   "metadata": {},
   "outputs": [],
   "source": []
  },
  {
   "cell_type": "code",
   "execution_count": null,
   "metadata": {},
   "outputs": [],
   "source": []
  },
  {
   "cell_type": "code",
   "execution_count": null,
   "metadata": {},
   "outputs": [],
   "source": []
  },
  {
   "cell_type": "code",
   "execution_count": null,
   "metadata": {},
   "outputs": [],
   "source": []
  },
  {
   "cell_type": "code",
   "execution_count": null,
   "metadata": {},
   "outputs": [],
   "source": []
  },
  {
   "cell_type": "code",
   "execution_count": null,
   "metadata": {},
   "outputs": [],
   "source": []
  },
  {
   "cell_type": "code",
   "execution_count": null,
   "metadata": {},
   "outputs": [],
   "source": []
  },
  {
   "cell_type": "code",
   "execution_count": null,
   "metadata": {},
   "outputs": [],
   "source": []
  },
  {
   "cell_type": "code",
   "execution_count": null,
   "metadata": {},
   "outputs": [],
   "source": []
  },
  {
   "cell_type": "code",
   "execution_count": null,
   "metadata": {},
   "outputs": [],
   "source": []
  },
  {
   "cell_type": "code",
   "execution_count": null,
   "metadata": {},
   "outputs": [],
   "source": []
  },
  {
   "cell_type": "code",
   "execution_count": null,
   "metadata": {},
   "outputs": [],
   "source": []
  },
  {
   "cell_type": "code",
   "execution_count": null,
   "metadata": {},
   "outputs": [],
   "source": []
  },
  {
   "cell_type": "code",
   "execution_count": null,
   "metadata": {},
   "outputs": [],
   "source": []
  },
  {
   "cell_type": "code",
   "execution_count": null,
   "metadata": {},
   "outputs": [],
   "source": []
  },
  {
   "cell_type": "code",
   "execution_count": null,
   "metadata": {},
   "outputs": [],
   "source": []
  },
  {
   "cell_type": "code",
   "execution_count": null,
   "metadata": {},
   "outputs": [],
   "source": []
  },
  {
   "cell_type": "code",
   "execution_count": null,
   "metadata": {},
   "outputs": [],
   "source": []
  },
  {
   "cell_type": "code",
   "execution_count": null,
   "metadata": {},
   "outputs": [],
   "source": []
  },
  {
   "cell_type": "code",
   "execution_count": null,
   "metadata": {},
   "outputs": [],
   "source": []
  },
  {
   "cell_type": "code",
   "execution_count": null,
   "metadata": {},
   "outputs": [],
   "source": []
  },
  {
   "cell_type": "code",
   "execution_count": null,
   "metadata": {},
   "outputs": [],
   "source": []
  },
  {
   "cell_type": "code",
   "execution_count": null,
   "metadata": {},
   "outputs": [],
   "source": []
  },
  {
   "cell_type": "code",
   "execution_count": null,
   "metadata": {},
   "outputs": [],
   "source": []
  },
  {
   "cell_type": "code",
   "execution_count": null,
   "metadata": {},
   "outputs": [],
   "source": []
  },
  {
   "cell_type": "code",
   "execution_count": null,
   "metadata": {},
   "outputs": [],
   "source": []
  },
  {
   "cell_type": "code",
   "execution_count": null,
   "metadata": {},
   "outputs": [],
   "source": []
  },
  {
   "cell_type": "code",
   "execution_count": null,
   "metadata": {},
   "outputs": [],
   "source": []
  },
  {
   "cell_type": "code",
   "execution_count": null,
   "metadata": {},
   "outputs": [],
   "source": []
  },
  {
   "cell_type": "code",
   "execution_count": null,
   "metadata": {},
   "outputs": [],
   "source": []
  },
  {
   "cell_type": "code",
   "execution_count": null,
   "metadata": {},
   "outputs": [],
   "source": []
  },
  {
   "cell_type": "code",
   "execution_count": null,
   "metadata": {},
   "outputs": [],
   "source": []
  },
  {
   "cell_type": "code",
   "execution_count": null,
   "metadata": {},
   "outputs": [],
   "source": []
  },
  {
   "cell_type": "code",
   "execution_count": null,
   "metadata": {},
   "outputs": [],
   "source": []
  },
  {
   "cell_type": "code",
   "execution_count": null,
   "metadata": {},
   "outputs": [],
   "source": []
  },
  {
   "cell_type": "code",
   "execution_count": null,
   "metadata": {},
   "outputs": [],
   "source": []
  },
  {
   "cell_type": "code",
   "execution_count": null,
   "metadata": {},
   "outputs": [],
   "source": []
  },
  {
   "cell_type": "code",
   "execution_count": null,
   "metadata": {},
   "outputs": [],
   "source": []
  },
  {
   "cell_type": "code",
   "execution_count": null,
   "metadata": {},
   "outputs": [],
   "source": []
  },
  {
   "cell_type": "code",
   "execution_count": null,
   "metadata": {},
   "outputs": [],
   "source": []
  },
  {
   "cell_type": "code",
   "execution_count": null,
   "metadata": {},
   "outputs": [],
   "source": []
  },
  {
   "cell_type": "code",
   "execution_count": null,
   "metadata": {},
   "outputs": [],
   "source": []
  },
  {
   "cell_type": "code",
   "execution_count": null,
   "metadata": {},
   "outputs": [],
   "source": []
  },
  {
   "cell_type": "code",
   "execution_count": null,
   "metadata": {},
   "outputs": [],
   "source": []
  },
  {
   "cell_type": "code",
   "execution_count": null,
   "metadata": {},
   "outputs": [],
   "source": []
  },
  {
   "cell_type": "code",
   "execution_count": null,
   "metadata": {},
   "outputs": [],
   "source": []
  },
  {
   "cell_type": "code",
   "execution_count": null,
   "metadata": {},
   "outputs": [],
   "source": []
  },
  {
   "cell_type": "code",
   "execution_count": null,
   "metadata": {},
   "outputs": [],
   "source": []
  },
  {
   "cell_type": "code",
   "execution_count": null,
   "metadata": {},
   "outputs": [],
   "source": []
  },
  {
   "cell_type": "code",
   "execution_count": null,
   "metadata": {},
   "outputs": [],
   "source": []
  },
  {
   "cell_type": "code",
   "execution_count": null,
   "metadata": {},
   "outputs": [],
   "source": []
  },
  {
   "cell_type": "code",
   "execution_count": null,
   "metadata": {},
   "outputs": [],
   "source": []
  },
  {
   "cell_type": "code",
   "execution_count": null,
   "metadata": {},
   "outputs": [],
   "source": []
  },
  {
   "cell_type": "code",
   "execution_count": null,
   "metadata": {},
   "outputs": [],
   "source": []
  },
  {
   "cell_type": "code",
   "execution_count": null,
   "metadata": {},
   "outputs": [],
   "source": []
  },
  {
   "cell_type": "code",
   "execution_count": null,
   "metadata": {},
   "outputs": [],
   "source": []
  },
  {
   "cell_type": "code",
   "execution_count": null,
   "metadata": {},
   "outputs": [],
   "source": []
  },
  {
   "cell_type": "code",
   "execution_count": null,
   "metadata": {},
   "outputs": [],
   "source": []
  },
  {
   "cell_type": "code",
   "execution_count": null,
   "metadata": {},
   "outputs": [],
   "source": []
  },
  {
   "cell_type": "code",
   "execution_count": null,
   "metadata": {},
   "outputs": [],
   "source": []
  },
  {
   "cell_type": "code",
   "execution_count": null,
   "metadata": {},
   "outputs": [],
   "source": []
  },
  {
   "cell_type": "code",
   "execution_count": null,
   "metadata": {},
   "outputs": [],
   "source": []
  },
  {
   "cell_type": "code",
   "execution_count": null,
   "metadata": {},
   "outputs": [],
   "source": []
  },
  {
   "cell_type": "code",
   "execution_count": null,
   "metadata": {},
   "outputs": [],
   "source": []
  },
  {
   "cell_type": "code",
   "execution_count": null,
   "metadata": {},
   "outputs": [],
   "source": []
  },
  {
   "cell_type": "code",
   "execution_count": null,
   "metadata": {},
   "outputs": [],
   "source": []
  },
  {
   "cell_type": "code",
   "execution_count": null,
   "metadata": {},
   "outputs": [],
   "source": []
  },
  {
   "cell_type": "code",
   "execution_count": null,
   "metadata": {},
   "outputs": [],
   "source": []
  },
  {
   "cell_type": "code",
   "execution_count": null,
   "metadata": {},
   "outputs": [],
   "source": []
  },
  {
   "cell_type": "code",
   "execution_count": null,
   "metadata": {},
   "outputs": [],
   "source": []
  },
  {
   "cell_type": "code",
   "execution_count": null,
   "metadata": {},
   "outputs": [],
   "source": []
  },
  {
   "cell_type": "code",
   "execution_count": null,
   "metadata": {},
   "outputs": [],
   "source": []
  },
  {
   "cell_type": "code",
   "execution_count": null,
   "metadata": {},
   "outputs": [],
   "source": []
  },
  {
   "cell_type": "code",
   "execution_count": null,
   "metadata": {},
   "outputs": [],
   "source": []
  },
  {
   "cell_type": "code",
   "execution_count": null,
   "metadata": {},
   "outputs": [],
   "source": []
  },
  {
   "cell_type": "code",
   "execution_count": null,
   "metadata": {},
   "outputs": [],
   "source": []
  },
  {
   "cell_type": "code",
   "execution_count": null,
   "metadata": {},
   "outputs": [],
   "source": []
  },
  {
   "cell_type": "code",
   "execution_count": null,
   "metadata": {},
   "outputs": [],
   "source": []
  },
  {
   "cell_type": "code",
   "execution_count": null,
   "metadata": {},
   "outputs": [],
   "source": []
  },
  {
   "cell_type": "code",
   "execution_count": null,
   "metadata": {},
   "outputs": [],
   "source": []
  },
  {
   "cell_type": "code",
   "execution_count": null,
   "metadata": {},
   "outputs": [],
   "source": []
  },
  {
   "cell_type": "code",
   "execution_count": null,
   "metadata": {},
   "outputs": [],
   "source": []
  },
  {
   "cell_type": "code",
   "execution_count": null,
   "metadata": {},
   "outputs": [],
   "source": []
  },
  {
   "cell_type": "code",
   "execution_count": null,
   "metadata": {},
   "outputs": [],
   "source": []
  },
  {
   "cell_type": "code",
   "execution_count": null,
   "metadata": {},
   "outputs": [],
   "source": []
  },
  {
   "cell_type": "code",
   "execution_count": null,
   "metadata": {},
   "outputs": [],
   "source": []
  },
  {
   "cell_type": "code",
   "execution_count": null,
   "metadata": {},
   "outputs": [],
   "source": []
  },
  {
   "cell_type": "code",
   "execution_count": null,
   "metadata": {},
   "outputs": [],
   "source": []
  },
  {
   "cell_type": "code",
   "execution_count": null,
   "metadata": {},
   "outputs": [],
   "source": []
  },
  {
   "cell_type": "code",
   "execution_count": null,
   "metadata": {},
   "outputs": [],
   "source": []
  },
  {
   "cell_type": "code",
   "execution_count": null,
   "metadata": {},
   "outputs": [],
   "source": []
  },
  {
   "cell_type": "code",
   "execution_count": null,
   "metadata": {},
   "outputs": [],
   "source": []
  },
  {
   "cell_type": "code",
   "execution_count": null,
   "metadata": {},
   "outputs": [],
   "source": []
  },
  {
   "cell_type": "code",
   "execution_count": null,
   "metadata": {},
   "outputs": [],
   "source": []
  },
  {
   "cell_type": "code",
   "execution_count": null,
   "metadata": {},
   "outputs": [],
   "source": []
  },
  {
   "cell_type": "code",
   "execution_count": null,
   "metadata": {},
   "outputs": [],
   "source": []
  },
  {
   "cell_type": "code",
   "execution_count": null,
   "metadata": {},
   "outputs": [],
   "source": []
  },
  {
   "cell_type": "code",
   "execution_count": null,
   "metadata": {},
   "outputs": [],
   "source": []
  },
  {
   "cell_type": "code",
   "execution_count": null,
   "metadata": {},
   "outputs": [],
   "source": []
  },
  {
   "cell_type": "code",
   "execution_count": null,
   "metadata": {},
   "outputs": [],
   "source": []
  },
  {
   "cell_type": "code",
   "execution_count": null,
   "metadata": {},
   "outputs": [],
   "source": []
  },
  {
   "cell_type": "code",
   "execution_count": null,
   "metadata": {},
   "outputs": [],
   "source": []
  },
  {
   "cell_type": "code",
   "execution_count": null,
   "metadata": {},
   "outputs": [],
   "source": []
  },
  {
   "cell_type": "code",
   "execution_count": null,
   "metadata": {},
   "outputs": [],
   "source": []
  },
  {
   "cell_type": "code",
   "execution_count": null,
   "metadata": {},
   "outputs": [],
   "source": []
  },
  {
   "cell_type": "code",
   "execution_count": null,
   "metadata": {},
   "outputs": [],
   "source": []
  },
  {
   "cell_type": "code",
   "execution_count": 43,
   "metadata": {},
   "outputs": [],
   "source": []
  },
  {
   "cell_type": "code",
   "execution_count": null,
   "metadata": {},
   "outputs": [],
   "source": []
  },
  {
   "cell_type": "code",
   "execution_count": null,
   "metadata": {},
   "outputs": [],
   "source": []
  },
  {
   "cell_type": "code",
   "execution_count": null,
   "metadata": {},
   "outputs": [],
   "source": []
  },
  {
   "cell_type": "code",
   "execution_count": null,
   "metadata": {},
   "outputs": [],
   "source": []
  },
  {
   "cell_type": "code",
   "execution_count": null,
   "metadata": {},
   "outputs": [],
   "source": []
  },
  {
   "cell_type": "code",
   "execution_count": null,
   "metadata": {},
   "outputs": [],
   "source": []
  },
  {
   "cell_type": "code",
   "execution_count": null,
   "metadata": {},
   "outputs": [],
   "source": []
  },
  {
   "cell_type": "code",
   "execution_count": null,
   "metadata": {},
   "outputs": [],
   "source": []
  },
  {
   "cell_type": "code",
   "execution_count": null,
   "metadata": {},
   "outputs": [],
   "source": []
  },
  {
   "cell_type": "code",
   "execution_count": null,
   "metadata": {},
   "outputs": [],
   "source": []
  },
  {
   "cell_type": "code",
   "execution_count": null,
   "metadata": {},
   "outputs": [],
   "source": []
  },
  {
   "cell_type": "code",
   "execution_count": null,
   "metadata": {},
   "outputs": [],
   "source": []
  },
  {
   "cell_type": "code",
   "execution_count": null,
   "metadata": {},
   "outputs": [],
   "source": []
  },
  {
   "cell_type": "code",
   "execution_count": null,
   "metadata": {},
   "outputs": [],
   "source": []
  },
  {
   "cell_type": "code",
   "execution_count": null,
   "metadata": {},
   "outputs": [],
   "source": []
  },
  {
   "cell_type": "code",
   "execution_count": null,
   "metadata": {},
   "outputs": [],
   "source": []
  },
  {
   "cell_type": "code",
   "execution_count": null,
   "metadata": {},
   "outputs": [],
   "source": []
  },
  {
   "cell_type": "code",
   "execution_count": null,
   "metadata": {},
   "outputs": [],
   "source": []
  },
  {
   "cell_type": "code",
   "execution_count": null,
   "metadata": {},
   "outputs": [],
   "source": []
  },
  {
   "cell_type": "code",
   "execution_count": null,
   "metadata": {},
   "outputs": [],
   "source": []
  },
  {
   "cell_type": "code",
   "execution_count": null,
   "metadata": {},
   "outputs": [],
   "source": []
  },
  {
   "cell_type": "code",
   "execution_count": null,
   "metadata": {},
   "outputs": [],
   "source": []
  },
  {
   "cell_type": "code",
   "execution_count": null,
   "metadata": {},
   "outputs": [],
   "source": []
  },
  {
   "cell_type": "code",
   "execution_count": null,
   "metadata": {},
   "outputs": [],
   "source": []
  },
  {
   "cell_type": "code",
   "execution_count": null,
   "metadata": {},
   "outputs": [],
   "source": []
  },
  {
   "cell_type": "code",
   "execution_count": null,
   "metadata": {},
   "outputs": [],
   "source": []
  },
  {
   "cell_type": "code",
   "execution_count": null,
   "metadata": {},
   "outputs": [],
   "source": []
  },
  {
   "cell_type": "code",
   "execution_count": null,
   "metadata": {},
   "outputs": [],
   "source": []
  },
  {
   "cell_type": "code",
   "execution_count": null,
   "metadata": {},
   "outputs": [],
   "source": []
  },
  {
   "cell_type": "code",
   "execution_count": null,
   "metadata": {},
   "outputs": [],
   "source": []
  },
  {
   "cell_type": "code",
   "execution_count": null,
   "metadata": {},
   "outputs": [],
   "source": []
  },
  {
   "cell_type": "code",
   "execution_count": null,
   "metadata": {},
   "outputs": [],
   "source": []
  },
  {
   "cell_type": "code",
   "execution_count": null,
   "metadata": {},
   "outputs": [],
   "source": []
  },
  {
   "cell_type": "code",
   "execution_count": null,
   "metadata": {},
   "outputs": [],
   "source": []
  },
  {
   "cell_type": "code",
   "execution_count": null,
   "metadata": {},
   "outputs": [],
   "source": []
  },
  {
   "cell_type": "code",
   "execution_count": null,
   "metadata": {},
   "outputs": [],
   "source": []
  },
  {
   "cell_type": "code",
   "execution_count": null,
   "metadata": {},
   "outputs": [],
   "source": []
  },
  {
   "cell_type": "code",
   "execution_count": null,
   "metadata": {},
   "outputs": [],
   "source": []
  },
  {
   "cell_type": "code",
   "execution_count": null,
   "metadata": {},
   "outputs": [],
   "source": []
  },
  {
   "cell_type": "code",
   "execution_count": null,
   "metadata": {},
   "outputs": [],
   "source": []
  },
  {
   "cell_type": "code",
   "execution_count": null,
   "metadata": {},
   "outputs": [],
   "source": []
  },
  {
   "cell_type": "code",
   "execution_count": null,
   "metadata": {},
   "outputs": [],
   "source": []
  },
  {
   "cell_type": "code",
   "execution_count": null,
   "metadata": {},
   "outputs": [],
   "source": []
  },
  {
   "cell_type": "code",
   "execution_count": null,
   "metadata": {},
   "outputs": [],
   "source": []
  },
  {
   "cell_type": "code",
   "execution_count": null,
   "metadata": {},
   "outputs": [],
   "source": []
  },
  {
   "cell_type": "code",
   "execution_count": null,
   "metadata": {},
   "outputs": [],
   "source": []
  },
  {
   "cell_type": "code",
   "execution_count": null,
   "metadata": {},
   "outputs": [],
   "source": []
  },
  {
   "cell_type": "code",
   "execution_count": null,
   "metadata": {},
   "outputs": [],
   "source": []
  },
  {
   "cell_type": "code",
   "execution_count": null,
   "metadata": {},
   "outputs": [],
   "source": []
  },
  {
   "cell_type": "code",
   "execution_count": null,
   "metadata": {},
   "outputs": [],
   "source": []
  },
  {
   "cell_type": "code",
   "execution_count": null,
   "metadata": {},
   "outputs": [],
   "source": []
  },
  {
   "cell_type": "code",
   "execution_count": null,
   "metadata": {},
   "outputs": [],
   "source": []
  },
  {
   "cell_type": "code",
   "execution_count": null,
   "metadata": {},
   "outputs": [],
   "source": []
  },
  {
   "cell_type": "code",
   "execution_count": null,
   "metadata": {},
   "outputs": [],
   "source": []
  },
  {
   "cell_type": "code",
   "execution_count": null,
   "metadata": {},
   "outputs": [],
   "source": []
  },
  {
   "cell_type": "code",
   "execution_count": null,
   "metadata": {},
   "outputs": [],
   "source": []
  },
  {
   "cell_type": "code",
   "execution_count": null,
   "metadata": {},
   "outputs": [],
   "source": []
  },
  {
   "cell_type": "code",
   "execution_count": null,
   "metadata": {},
   "outputs": [],
   "source": []
  },
  {
   "cell_type": "code",
   "execution_count": null,
   "metadata": {},
   "outputs": [],
   "source": []
  },
  {
   "cell_type": "code",
   "execution_count": null,
   "metadata": {},
   "outputs": [],
   "source": []
  },
  {
   "cell_type": "code",
   "execution_count": null,
   "metadata": {},
   "outputs": [],
   "source": []
  },
  {
   "cell_type": "code",
   "execution_count": null,
   "metadata": {},
   "outputs": [],
   "source": []
  },
  {
   "cell_type": "code",
   "execution_count": null,
   "metadata": {},
   "outputs": [],
   "source": []
  },
  {
   "cell_type": "code",
   "execution_count": null,
   "metadata": {},
   "outputs": [],
   "source": []
  },
  {
   "cell_type": "code",
   "execution_count": null,
   "metadata": {},
   "outputs": [],
   "source": []
  },
  {
   "cell_type": "code",
   "execution_count": null,
   "metadata": {},
   "outputs": [],
   "source": []
  },
  {
   "cell_type": "code",
   "execution_count": null,
   "metadata": {},
   "outputs": [],
   "source": []
  },
  {
   "cell_type": "code",
   "execution_count": null,
   "metadata": {},
   "outputs": [],
   "source": []
  },
  {
   "cell_type": "code",
   "execution_count": null,
   "metadata": {},
   "outputs": [],
   "source": []
  },
  {
   "cell_type": "code",
   "execution_count": null,
   "metadata": {},
   "outputs": [],
   "source": []
  },
  {
   "cell_type": "code",
   "execution_count": null,
   "metadata": {},
   "outputs": [],
   "source": []
  },
  {
   "cell_type": "code",
   "execution_count": null,
   "metadata": {},
   "outputs": [],
   "source": []
  },
  {
   "cell_type": "code",
   "execution_count": null,
   "metadata": {},
   "outputs": [],
   "source": []
  },
  {
   "cell_type": "code",
   "execution_count": null,
   "metadata": {},
   "outputs": [],
   "source": []
  },
  {
   "cell_type": "code",
   "execution_count": null,
   "metadata": {},
   "outputs": [],
   "source": []
  },
  {
   "cell_type": "code",
   "execution_count": null,
   "metadata": {},
   "outputs": [],
   "source": []
  },
  {
   "cell_type": "code",
   "execution_count": null,
   "metadata": {},
   "outputs": [],
   "source": []
  },
  {
   "cell_type": "code",
   "execution_count": null,
   "metadata": {},
   "outputs": [],
   "source": []
  },
  {
   "cell_type": "code",
   "execution_count": null,
   "metadata": {},
   "outputs": [],
   "source": []
  },
  {
   "cell_type": "code",
   "execution_count": null,
   "metadata": {},
   "outputs": [],
   "source": []
  },
  {
   "cell_type": "code",
   "execution_count": null,
   "metadata": {},
   "outputs": [],
   "source": []
  },
  {
   "cell_type": "code",
   "execution_count": null,
   "metadata": {},
   "outputs": [],
   "source": []
  },
  {
   "cell_type": "code",
   "execution_count": null,
   "metadata": {},
   "outputs": [],
   "source": []
  },
  {
   "cell_type": "code",
   "execution_count": null,
   "metadata": {},
   "outputs": [],
   "source": []
  },
  {
   "cell_type": "code",
   "execution_count": null,
   "metadata": {},
   "outputs": [],
   "source": []
  },
  {
   "cell_type": "code",
   "execution_count": null,
   "metadata": {},
   "outputs": [],
   "source": []
  },
  {
   "cell_type": "code",
   "execution_count": null,
   "metadata": {},
   "outputs": [],
   "source": []
  },
  {
   "cell_type": "code",
   "execution_count": null,
   "metadata": {},
   "outputs": [],
   "source": []
  },
  {
   "cell_type": "code",
   "execution_count": null,
   "metadata": {},
   "outputs": [],
   "source": []
  },
  {
   "cell_type": "code",
   "execution_count": null,
   "metadata": {},
   "outputs": [],
   "source": []
  },
  {
   "cell_type": "code",
   "execution_count": null,
   "metadata": {},
   "outputs": [],
   "source": []
  },
  {
   "cell_type": "code",
   "execution_count": null,
   "metadata": {},
   "outputs": [],
   "source": []
  },
  {
   "cell_type": "code",
   "execution_count": null,
   "metadata": {},
   "outputs": [],
   "source": []
  },
  {
   "cell_type": "code",
   "execution_count": null,
   "metadata": {},
   "outputs": [],
   "source": []
  },
  {
   "cell_type": "code",
   "execution_count": null,
   "metadata": {},
   "outputs": [],
   "source": []
  },
  {
   "cell_type": "code",
   "execution_count": null,
   "metadata": {},
   "outputs": [],
   "source": []
  },
  {
   "cell_type": "code",
   "execution_count": null,
   "metadata": {},
   "outputs": [],
   "source": []
  },
  {
   "cell_type": "code",
   "execution_count": null,
   "metadata": {},
   "outputs": [],
   "source": []
  },
  {
   "cell_type": "code",
   "execution_count": null,
   "metadata": {},
   "outputs": [],
   "source": []
  },
  {
   "cell_type": "code",
   "execution_count": null,
   "metadata": {},
   "outputs": [],
   "source": []
  },
  {
   "cell_type": "code",
   "execution_count": null,
   "metadata": {},
   "outputs": [],
   "source": []
  },
  {
   "cell_type": "code",
   "execution_count": null,
   "metadata": {},
   "outputs": [],
   "source": []
  },
  {
   "cell_type": "code",
   "execution_count": null,
   "metadata": {},
   "outputs": [],
   "source": []
  },
  {
   "cell_type": "code",
   "execution_count": null,
   "metadata": {},
   "outputs": [],
   "source": []
  },
  {
   "cell_type": "code",
   "execution_count": null,
   "metadata": {},
   "outputs": [],
   "source": []
  },
  {
   "cell_type": "code",
   "execution_count": null,
   "metadata": {},
   "outputs": [],
   "source": []
  },
  {
   "cell_type": "code",
   "execution_count": null,
   "metadata": {},
   "outputs": [],
   "source": []
  },
  {
   "cell_type": "code",
   "execution_count": null,
   "metadata": {},
   "outputs": [],
   "source": []
  },
  {
   "cell_type": "code",
   "execution_count": null,
   "metadata": {},
   "outputs": [],
   "source": []
  },
  {
   "cell_type": "code",
   "execution_count": null,
   "metadata": {},
   "outputs": [],
   "source": []
  },
  {
   "cell_type": "code",
   "execution_count": null,
   "metadata": {},
   "outputs": [],
   "source": []
  },
  {
   "cell_type": "code",
   "execution_count": null,
   "metadata": {},
   "outputs": [],
   "source": []
  },
  {
   "cell_type": "code",
   "execution_count": null,
   "metadata": {},
   "outputs": [],
   "source": []
  },
  {
   "cell_type": "code",
   "execution_count": null,
   "metadata": {},
   "outputs": [],
   "source": []
  },
  {
   "cell_type": "code",
   "execution_count": null,
   "metadata": {},
   "outputs": [],
   "source": []
  },
  {
   "cell_type": "code",
   "execution_count": null,
   "metadata": {},
   "outputs": [],
   "source": []
  },
  {
   "cell_type": "code",
   "execution_count": null,
   "metadata": {},
   "outputs": [],
   "source": []
  },
  {
   "cell_type": "code",
   "execution_count": null,
   "metadata": {},
   "outputs": [],
   "source": []
  },
  {
   "cell_type": "code",
   "execution_count": null,
   "metadata": {},
   "outputs": [],
   "source": []
  },
  {
   "cell_type": "code",
   "execution_count": null,
   "metadata": {},
   "outputs": [],
   "source": []
  },
  {
   "cell_type": "code",
   "execution_count": null,
   "metadata": {},
   "outputs": [],
   "source": []
  },
  {
   "cell_type": "code",
   "execution_count": null,
   "metadata": {},
   "outputs": [],
   "source": []
  },
  {
   "cell_type": "code",
   "execution_count": null,
   "metadata": {},
   "outputs": [],
   "source": []
  },
  {
   "cell_type": "code",
   "execution_count": null,
   "metadata": {},
   "outputs": [],
   "source": []
  },
  {
   "cell_type": "code",
   "execution_count": null,
   "metadata": {},
   "outputs": [],
   "source": []
  },
  {
   "cell_type": "code",
   "execution_count": null,
   "metadata": {},
   "outputs": [],
   "source": []
  },
  {
   "cell_type": "code",
   "execution_count": null,
   "metadata": {},
   "outputs": [],
   "source": []
  },
  {
   "cell_type": "code",
   "execution_count": null,
   "metadata": {},
   "outputs": [],
   "source": []
  },
  {
   "cell_type": "code",
   "execution_count": null,
   "metadata": {},
   "outputs": [],
   "source": []
  },
  {
   "cell_type": "code",
   "execution_count": null,
   "metadata": {},
   "outputs": [],
   "source": []
  },
  {
   "cell_type": "code",
   "execution_count": null,
   "metadata": {},
   "outputs": [],
   "source": []
  },
  {
   "cell_type": "code",
   "execution_count": null,
   "metadata": {},
   "outputs": [],
   "source": []
  },
  {
   "cell_type": "code",
   "execution_count": null,
   "metadata": {},
   "outputs": [],
   "source": []
  },
  {
   "cell_type": "code",
   "execution_count": null,
   "metadata": {},
   "outputs": [],
   "source": []
  },
  {
   "cell_type": "code",
   "execution_count": null,
   "metadata": {},
   "outputs": [],
   "source": []
  },
  {
   "cell_type": "code",
   "execution_count": null,
   "metadata": {},
   "outputs": [],
   "source": []
  },
  {
   "cell_type": "code",
   "execution_count": null,
   "metadata": {},
   "outputs": [],
   "source": []
  },
  {
   "cell_type": "code",
   "execution_count": null,
   "metadata": {},
   "outputs": [],
   "source": []
  },
  {
   "cell_type": "code",
   "execution_count": null,
   "metadata": {},
   "outputs": [],
   "source": []
  },
  {
   "cell_type": "code",
   "execution_count": null,
   "metadata": {},
   "outputs": [],
   "source": []
  },
  {
   "cell_type": "code",
   "execution_count": null,
   "metadata": {},
   "outputs": [],
   "source": []
  },
  {
   "cell_type": "code",
   "execution_count": null,
   "metadata": {},
   "outputs": [],
   "source": []
  }
 ],
 "metadata": {
  "kernelspec": {
   "display_name": "Python 3",
   "language": "python",
   "name": "python3"
  },
  "language_info": {
   "codemirror_mode": {
    "name": "ipython",
    "version": 3
   },
   "file_extension": ".py",
   "mimetype": "text/x-python",
   "name": "python",
   "nbconvert_exporter": "python",
   "pygments_lexer": "ipython3",
   "version": "3.8.5"
  }
 },
 "nbformat": 4,
 "nbformat_minor": 4
}
