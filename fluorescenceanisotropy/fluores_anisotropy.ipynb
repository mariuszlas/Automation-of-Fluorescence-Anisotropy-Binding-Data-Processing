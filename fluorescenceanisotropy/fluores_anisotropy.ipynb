{
 "cells": [
  {
   "cell_type": "code",
   "execution_count": 1,
   "metadata": {},
   "outputs": [],
   "source": [
    "import pandas as pd\n",
    "import numpy as np\n",
    "import csv\n",
    "import re"
   ]
  },
  {
   "cell_type": "code",
   "execution_count": 2,
   "metadata": {},
   "outputs": [],
   "source": [
    "test_file_plate_2_1 = \"C:\\\\Users\\\\Bartek\\\\OneDrive\\\\Documents\\\\Programming\\\\Python\\\\Test data\\\\Protein titration LissamineFA_22267.csv\"\n",
    "test_file_plate_2_2 = \"C:\\\\Users\\\\Bartek\\\\OneDrive\\\\Documents\\\\Programming\\\\Python\\\\Test data\\\\Protein titration LissamineFA_22741.csv\"\n",
    "test_file_list_A = \"C:\\\\Users\\\\Bartek\\\\OneDrive\\\\Documents\\\\Programming\\\\Python\\\\Test data\\\\Outputfiles\\\\csv\\\\listA.csv\""
   ]
  },
  {
   "cell_type": "code",
   "execution_count": 3,
   "metadata": {},
   "outputs": [],
   "source": [
    "pattern_p = 'Results for (.*) P channel'\n",
    "pattern_s = 'Results for (.*) S channel'"
   ]
  },
  {
   "cell_type": "code",
   "execution_count": 4,
   "metadata": {},
   "outputs": [],
   "source": [
    "def read_in(file): #(skipfooter and skiprows as arguments) # use python read csv function to find row number with the data\n",
    "    \n",
    "    \"\"\"Reads raw data from a csv file and returns a data frame with two columns: well ID and p or s channel values.\n",
    "    \n",
    "    :param file: Raw data file in csv format\n",
    "    :param type: str\n",
    "    :return: pandas DataFrame\n",
    "    \"\"\"  \n",
    "    reader = csv.reader(open(file, 'r'), delimiter=',')   # converts each line into a list\n",
    "    \n",
    "    for row in reader:\n",
    "        if row != []:   # some rows are blank and so are converted to empty lists which cannot be indexed\n",
    "            #if re.findall(r\"Plate information\", row[0]) == [\"Plate information\"]:\n",
    "                    \n",
    "            if re.search(pattern_p, row[0]) != None:   # Reg exp iterates over all lines of the csv file returning a match object, if no match is found then None is returned\n",
    "                skiprows = reader.line_num   # .line_num returns the number of rows that has already been iterated over\n",
    "                \n",
    "            if re.search(r\"Exported with EnVision Workstation\", row[0]) != None:   # get total number of rwos in the file\n",
    "                total_lines = reader.line_num\n",
    "                skipfooter = total_lines - (skiprows + 18)   \n",
    "    \n",
    "    df = pd.read_csv(file, sep=',', index_col=0, engine='python', skiprows=skiprows, skipfooter=skipfooter, encoding='utf-8')\n",
    "    df.drop(df.columns[-1], axis=1, inplace=True)   # delete the last column because it contains 'NaN' values\n",
    "    \n",
    "    # create lists with column names and index names\n",
    "    col_names = list(df.columns.values)\n",
    "    index_names = list(df.index.values)\n",
    "    well_IDs = []\n",
    "    \n",
    "    # create list with well IDs based on the column and index names\n",
    "    for index_name in index_names:\n",
    "        for col_name in col_names:\n",
    "            well_ID = index_name + col_name\n",
    "            well_IDs.append(well_ID)\n",
    "    \n",
    "    # convert the data frame into numpy array and resahpe it to fit the 384 rows by 1 column table\n",
    "    data = np.reshape(df.to_numpy(), (384, 1)) \n",
    "        \n",
    "    new_df = pd.DataFrame(data=data, index=well_IDs, columns=['p'])   # create new data frame 384 by 1\n",
    "    \n",
    "    return new_df"
   ]
  },
  {
   "cell_type": "code",
   "execution_count": 5,
   "metadata": {},
   "outputs": [
    {
     "data": {
      "text/html": [
       "<div>\n",
       "<style scoped>\n",
       "    .dataframe tbody tr th:only-of-type {\n",
       "        vertical-align: middle;\n",
       "    }\n",
       "\n",
       "    .dataframe tbody tr th {\n",
       "        vertical-align: top;\n",
       "    }\n",
       "\n",
       "    .dataframe thead th {\n",
       "        text-align: right;\n",
       "    }\n",
       "</style>\n",
       "<table border=\"1\" class=\"dataframe\">\n",
       "  <thead>\n",
       "    <tr style=\"text-align: right;\">\n",
       "      <th></th>\n",
       "      <th>p</th>\n",
       "    </tr>\n",
       "  </thead>\n",
       "  <tbody>\n",
       "    <tr>\n",
       "      <th>A01</th>\n",
       "      <td>26329.0</td>\n",
       "    </tr>\n",
       "    <tr>\n",
       "      <th>A02</th>\n",
       "      <td>31935.0</td>\n",
       "    </tr>\n",
       "    <tr>\n",
       "      <th>A03</th>\n",
       "      <td>26748.0</td>\n",
       "    </tr>\n",
       "    <tr>\n",
       "      <th>A04</th>\n",
       "      <td>26750.0</td>\n",
       "    </tr>\n",
       "    <tr>\n",
       "      <th>A05</th>\n",
       "      <td>27792.0</td>\n",
       "    </tr>\n",
       "    <tr>\n",
       "      <th>...</th>\n",
       "      <td>...</td>\n",
       "    </tr>\n",
       "    <tr>\n",
       "      <th>P20</th>\n",
       "      <td>NaN</td>\n",
       "    </tr>\n",
       "    <tr>\n",
       "      <th>P21</th>\n",
       "      <td>NaN</td>\n",
       "    </tr>\n",
       "    <tr>\n",
       "      <th>P22</th>\n",
       "      <td>NaN</td>\n",
       "    </tr>\n",
       "    <tr>\n",
       "      <th>P23</th>\n",
       "      <td>NaN</td>\n",
       "    </tr>\n",
       "    <tr>\n",
       "      <th>P24</th>\n",
       "      <td>NaN</td>\n",
       "    </tr>\n",
       "  </tbody>\n",
       "</table>\n",
       "<p>384 rows × 1 columns</p>\n",
       "</div>"
      ],
      "text/plain": [
       "           p\n",
       "A01  26329.0\n",
       "A02  31935.0\n",
       "A03  26748.0\n",
       "A04  26750.0\n",
       "A05  27792.0\n",
       "..       ...\n",
       "P20      NaN\n",
       "P21      NaN\n",
       "P22      NaN\n",
       "P23      NaN\n",
       "P24      NaN\n",
       "\n",
       "[384 rows x 1 columns]"
      ]
     },
     "execution_count": 5,
     "metadata": {},
     "output_type": "execute_result"
    }
   ],
   "source": [
    "read_in(test_file_plate_2_1)"
   ]
  },
  {
   "cell_type": "code",
   "execution_count": 103,
   "metadata": {},
   "outputs": [],
   "source": []
  },
  {
   "cell_type": "code",
   "execution_count": 6,
   "metadata": {},
   "outputs": [],
   "source": [
    "def g_factor(file):\n",
    "    \n",
    "    \"\"\"Return the value of g-factor as a float\n",
    "    \n",
    "    :param file: raw data file in csv format\n",
    "    :param type: str\n",
    "    \"\"\"\n",
    "    reader = csv.reader(open(file, 'r'), delimiter=',')\n",
    "    \n",
    "    for row in reader:\n",
    "        if row != [] and re.findall(r\"G-factor\", row[0]) == [\"G-factor\"] and len(row) > 1:\n",
    "            g = float(row[4])\n",
    "    return g"
   ]
  },
  {
   "cell_type": "code",
   "execution_count": 7,
   "metadata": {},
   "outputs": [
    {
     "data": {
      "text/plain": [
       "1.0"
      ]
     },
     "execution_count": 7,
     "metadata": {},
     "output_type": "execute_result"
    }
   ],
   "source": [
    "g_factor(test_file_plate_2_1)"
   ]
  },
  {
   "cell_type": "code",
   "execution_count": null,
   "metadata": {},
   "outputs": [],
   "source": []
  },
  {
   "cell_type": "code",
   "execution_count": null,
   "metadata": {},
   "outputs": [],
   "source": []
  },
  {
   "cell_type": "code",
   "execution_count": null,
   "metadata": {},
   "outputs": [],
   "source": []
  },
  {
   "cell_type": "code",
   "execution_count": 77,
   "metadata": {},
   "outputs": [],
   "source": []
  },
  {
   "cell_type": "code",
   "execution_count": 84,
   "metadata": {},
   "outputs": [],
   "source": []
  },
  {
   "cell_type": "code",
   "execution_count": null,
   "metadata": {},
   "outputs": [],
   "source": []
  },
  {
   "cell_type": "code",
   "execution_count": null,
   "metadata": {},
   "outputs": [],
   "source": []
  },
  {
   "cell_type": "code",
   "execution_count": null,
   "metadata": {},
   "outputs": [],
   "source": []
  },
  {
   "cell_type": "code",
   "execution_count": null,
   "metadata": {},
   "outputs": [],
   "source": []
  }
 ],
 "metadata": {
  "kernelspec": {
   "display_name": "Python 3",
   "language": "python",
   "name": "python3"
  },
  "language_info": {
   "codemirror_mode": {
    "name": "ipython",
    "version": 3
   },
   "file_extension": ".py",
   "mimetype": "text/x-python",
   "name": "python",
   "nbconvert_exporter": "python",
   "pygments_lexer": "ipython3",
   "version": "3.8.3"
  }
 },
 "nbformat": 4,
 "nbformat_minor": 4
}
