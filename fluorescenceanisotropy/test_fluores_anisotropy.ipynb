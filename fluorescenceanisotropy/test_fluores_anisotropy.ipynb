{
 "cells": [
  {
   "cell_type": "code",
   "execution_count": 17,
   "metadata": {},
   "outputs": [],
   "source": [
    "import pandas as pd\n",
    "import pytest\n",
    "import pickle\n",
    "from flu_ani_analysis import flu_ani_analysis as fa\n",
    "\n",
    "def test_read_in_envision():\n",
    "    \n",
    "    # read in expected data from .pkl file\n",
    "    with open(\"C:\\\\Users\\\\Bartek\\\\Documents\\\\MChem project\\\\tests\\\\example outputs\\\\plate_1_repeat_test.pkl\", 'rb') as file:\n",
    "        expected_output = pickle.load(file)\n",
    "    \n",
    "    # execute the tested function\n",
    "    actual_dict = fa.FA.read_in_envision(csv_file = \"C:\\\\Users\\\\Bartek\\\\OneDrive\\\\Documents\\\\Programming\\\\Python\\\\Test data\\\\plate1_repeat.csv\", data_type='plate', size=384)\n",
    "    \n",
    "    #convert the dict into a list of data frames\n",
    "    actual_list = []\n",
    "    for rep in actual_dict.data_dict.values():\n",
    "        m, d = rep.values()\n",
    "        p, s = d.values()\n",
    "        actual_list.append(m)\n",
    "        actual_list.append(p)\n",
    "        actual_list.append(s)\n",
    "    \n",
    "    # compare the expected and actual data frames\n",
    "    for output, example in zip(expected_output, actual_list):\n",
    "        pd.testing.assert_frame_equal(output, example)"
   ]
  },
  {
   "cell_type": "code",
   "execution_count": null,
   "metadata": {},
   "outputs": [],
   "source": []
  },
  {
   "cell_type": "code",
   "execution_count": null,
   "metadata": {},
   "outputs": [],
   "source": []
  },
  {
   "cell_type": "code",
   "execution_count": null,
   "metadata": {},
   "outputs": [],
   "source": []
  },
  {
   "cell_type": "code",
   "execution_count": null,
   "metadata": {},
   "outputs": [],
   "source": []
  },
  {
   "cell_type": "code",
   "execution_count": null,
   "metadata": {},
   "outputs": [],
   "source": []
  },
  {
   "cell_type": "code",
   "execution_count": null,
   "metadata": {},
   "outputs": [],
   "source": []
  }
 ],
 "metadata": {
  "kernelspec": {
   "display_name": "Python 3",
   "language": "python",
   "name": "python3"
  },
  "language_info": {
   "codemirror_mode": {
    "name": "ipython",
    "version": 3
   },
   "file_extension": ".py",
   "mimetype": "text/x-python",
   "name": "python",
   "nbconvert_exporter": "python",
   "pygments_lexer": "ipython3",
   "version": "3.8.5"
  }
 },
 "nbformat": 4,
 "nbformat_minor": 4
}
