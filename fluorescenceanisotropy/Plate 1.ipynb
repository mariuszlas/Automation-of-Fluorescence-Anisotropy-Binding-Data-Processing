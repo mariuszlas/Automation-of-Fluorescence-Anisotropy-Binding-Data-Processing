{
 "cells": [
  {
   "cell_type": "code",
   "execution_count": 1,
   "metadata": {},
   "outputs": [],
   "source": [
    "import pandas as pd\n",
    "import numpy as np\n",
    "import csv\n",
    "import re"
   ]
  },
  {
   "cell_type": "code",
   "execution_count": 2,
   "metadata": {},
   "outputs": [],
   "source": [
    "test_file_plate_2_1 = \"C:\\\\Users\\\\Bartek\\\\OneDrive\\\\Documents\\\\Programming\\\\Python\\\\Test data\\\\Protein titration LissamineFA_22267.csv\"\n",
    "test_file_plate_2_2 = \"C:\\\\Users\\\\Bartek\\\\OneDrive\\\\Documents\\\\Programming\\\\Python\\\\Test data\\\\Protein titration LissamineFA_22741.csv\"\n",
    "test_file_list_A = \"C:\\\\Users\\\\Bartek\\\\OneDrive\\\\Documents\\\\Programming\\\\Python\\\\Test data\\\\Outputfiles\\\\csv\\\\listA.csv\"\n",
    "test_file_repeat_read_plate_1 = \"C:\\\\Users\\\\Bartek\\\\OneDrive\\\\Documents\\\\Programming\\\\Python\\\\Test data\\\\Outputfiles\\\\csv\\\\repeat read_plate1.csv\""
   ]
  },
  {
   "cell_type": "code",
   "execution_count": null,
   "metadata": {},
   "outputs": [],
   "source": [
    "reader = csv.reader(open(test_file_repeat_read_plate_1, 'r'), delimiter=',') \n",
    "    \n",
    "all_data = [] \n",
    "dfs = {}\n",
    "counter = 0\n",
    "\n",
    "# Create a list of lists with all data in the csv file\n",
    "for row in reader:\n",
    "    all_data.append(row)\n",
    "\n",
    "# Find the total noumber of rows in the file\n",
    "for index, item in enumerate(all_data):\n",
    "    if item != [] and re.search(r\"Exported with EnVision Workstation\", item[0]) != None:   # Blank rows cannot be indexed \n",
    "        total_lines = index + 1  \n",
    "\n",
    "# Find the data        \n",
    "for index, item in enumerate(all_data):\n",
    "    if item != [] and re.findall(r\"Plate information\", item[0]) == ['Plate information'] and all_data[index + 8] == []:\n",
    "        skiprows = index + 9   # Set the skiprows parameter\n",
    "        end_of_data = 0\n",
    "        \n",
    "        # find the index of the first blank row after the data table\n",
    "        while end_of_data == 0:   \n",
    "            for index, item in enumerate(all_data):\n",
    "                if item == [] and index > skiprows:  \n",
    "                    end_of_data = end_of_data + index\n",
    "                    break\n",
    "                    \n",
    "        skipfooter = total_lines - end_of_data   # calucalte the skipfooter parameter\n",
    "        \n",
    "        # extract data into pandas df\n",
    "        df = pd.read_csv(test_file_repeat_read_plate_1, sep=',', index_col=0, engine='python', skiprows=skiprows, skipfooter=skipfooter, encoding='utf-8')\n",
    "        \n",
    "        # add only the s and p channel df to dictionary \n",
    "        if counter != 0 and counter % 3 != 0:\n",
    "            dfs[counter] = df\n",
    "        \n",
    "        counter = counter + 1"
   ]
  },
  {
   "cell_type": "code",
   "execution_count": null,
   "metadata": {},
   "outputs": [],
   "source": []
  },
  {
   "cell_type": "code",
   "execution_count": null,
   "metadata": {},
   "outputs": [],
   "source": []
  },
  {
   "cell_type": "code",
   "execution_count": 103,
   "metadata": {},
   "outputs": [],
   "source": []
  },
  {
   "cell_type": "code",
   "execution_count": null,
   "metadata": {},
   "outputs": [],
   "source": []
  },
  {
   "cell_type": "code",
   "execution_count": null,
   "metadata": {},
   "outputs": [],
   "source": []
  },
  {
   "cell_type": "code",
   "execution_count": null,
   "metadata": {},
   "outputs": [],
   "source": []
  },
  {
   "cell_type": "code",
   "execution_count": null,
   "metadata": {},
   "outputs": [],
   "source": []
  },
  {
   "cell_type": "code",
   "execution_count": null,
   "metadata": {},
   "outputs": [],
   "source": []
  },
  {
   "cell_type": "code",
   "execution_count": null,
   "metadata": {},
   "outputs": [],
   "source": []
  },
  {
   "cell_type": "code",
   "execution_count": null,
   "metadata": {},
   "outputs": [],
   "source": []
  },
  {
   "cell_type": "code",
   "execution_count": null,
   "metadata": {},
   "outputs": [],
   "source": []
  },
  {
   "cell_type": "code",
   "execution_count": null,
   "metadata": {},
   "outputs": [],
   "source": []
  },
  {
   "cell_type": "code",
   "execution_count": null,
   "metadata": {},
   "outputs": [],
   "source": []
  },
  {
   "cell_type": "code",
   "execution_count": null,
   "metadata": {},
   "outputs": [],
   "source": []
  },
  {
   "cell_type": "code",
   "execution_count": null,
   "metadata": {},
   "outputs": [],
   "source": []
  },
  {
   "cell_type": "code",
   "execution_count": null,
   "metadata": {},
   "outputs": [],
   "source": []
  },
  {
   "cell_type": "code",
   "execution_count": 77,
   "metadata": {},
   "outputs": [],
   "source": []
  },
  {
   "cell_type": "code",
   "execution_count": 84,
   "metadata": {},
   "outputs": [],
   "source": []
  },
  {
   "cell_type": "code",
   "execution_count": null,
   "metadata": {},
   "outputs": [],
   "source": []
  },
  {
   "cell_type": "code",
   "execution_count": null,
   "metadata": {},
   "outputs": [],
   "source": []
  },
  {
   "cell_type": "code",
   "execution_count": null,
   "metadata": {},
   "outputs": [],
   "source": []
  },
  {
   "cell_type": "code",
   "execution_count": 3,
   "metadata": {},
   "outputs": [
    {
     "name": "stdout",
     "output_type": "stream",
     "text": [
      "341\n",
      "9\n",
      "25\n",
      "skipfooter 316\n",
      "0\n",
      "35\n",
      "51\n",
      "skipfooter 290\n",
      "1\n",
      "61\n",
      "77\n",
      "skipfooter 264\n",
      "2\n",
      "87\n",
      "103\n",
      "skipfooter 238\n",
      "3\n",
      "113\n",
      "129\n",
      "skipfooter 212\n",
      "4\n",
      "139\n",
      "155\n",
      "skipfooter 186\n",
      "5\n"
     ]
    }
   ],
   "source": [
    "reader = csv.reader(open(test_file_repeat_read_plate_1, 'r'), delimiter=',') \n",
    "    \n",
    "all_data = [] \n",
    "dfs = {}\n",
    "counter = 0\n",
    "\n",
    "# Create a list of lists with all data in the csv file\n",
    "for row in reader:\n",
    "    all_data.append(row)\n",
    "\n",
    "for index, item in enumerate(all_data):\n",
    "    if item != [] and re.search(r\"Exported with EnVision Workstation\", item[0]) != None:   # Blank rows cannot be indexed \n",
    "        total_lines = index + 1  \n",
    "        \n",
    "for index, item in enumerate(all_data):\n",
    "    if item != [] and re.findall(r\"Plate information\", item[0]) == ['Plate information'] and all_data[index + 8] == []:\n",
    "        skiprows = index + 9   \n",
    "        end_of_data = 0\n",
    "        \n",
    "        while end_of_data == 0:   \n",
    "            for index, item in enumerate(all_data):\n",
    "                if item == [] and index > skiprows:  \n",
    "                    end_of_data = end_of_data + index\n",
    "                    break\n",
    "                    \n",
    "        skipfooter = total_lines - end_of_data\n",
    "        \n",
    "        df = pd.read_csv(test_file_repeat_read_plate_1, sep=',', index_col=0, engine='python', skiprows=skiprows, skipfooter=skipfooter, encoding='utf-8')\n",
    "        \n",
    "        if counter != 0 and counter % 3 != 0:\n",
    "            dfs[counter] = df\n",
    "        \n",
    "        counter = counter + 1"
   ]
  },
  {
   "cell_type": "code",
   "execution_count": null,
   "metadata": {},
   "outputs": [],
   "source": []
  },
  {
   "cell_type": "code",
   "execution_count": null,
   "metadata": {},
   "outputs": [],
   "source": []
  },
  {
   "cell_type": "code",
   "execution_count": null,
   "metadata": {},
   "outputs": [],
   "source": []
  },
  {
   "cell_type": "code",
   "execution_count": null,
   "metadata": {},
   "outputs": [],
   "source": []
  },
  {
   "cell_type": "code",
   "execution_count": null,
   "metadata": {},
   "outputs": [],
   "source": []
  },
  {
   "cell_type": "code",
   "execution_count": null,
   "metadata": {},
   "outputs": [],
   "source": []
  },
  {
   "cell_type": "code",
   "execution_count": null,
   "metadata": {},
   "outputs": [],
   "source": []
  }
 ],
 "metadata": {
  "kernelspec": {
   "display_name": "Python 3",
   "language": "python",
   "name": "python3"
  },
  "language_info": {
   "codemirror_mode": {
    "name": "ipython",
    "version": 3
   },
   "file_extension": ".py",
   "mimetype": "text/x-python",
   "name": "python",
   "nbconvert_exporter": "python",
   "pygments_lexer": "ipython3",
   "version": "3.8.3"
  }
 },
 "nbformat": 4,
 "nbformat_minor": 4
}
