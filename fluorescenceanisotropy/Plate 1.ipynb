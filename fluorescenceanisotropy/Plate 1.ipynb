{
 "cells": [
  {
   "cell_type": "code",
   "execution_count": 1,
   "metadata": {},
   "outputs": [],
   "source": [
    "import pandas as pd\n",
    "import numpy as np\n",
    "import csv\n",
    "import re\n",
    "import string\n",
    "from itertools import product"
   ]
  },
  {
   "cell_type": "code",
   "execution_count": 2,
   "metadata": {},
   "outputs": [],
   "source": [
    "test_file_plate_2_1 = \"C:\\\\Users\\\\Bartek\\\\OneDrive\\\\Documents\\\\Programming\\\\Python\\\\Test data\\\\Protein titration LissamineFA_22267.csv\"\n",
    "test_file_plate_2_2 = \"C:\\\\Users\\\\Bartek\\\\OneDrive\\\\Documents\\\\Programming\\\\Python\\\\Test data\\\\Protein titration LissamineFA_22741.csv\"\n",
    "test_file_list_A = \"C:\\\\Users\\\\Bartek\\\\OneDrive\\\\Documents\\\\Programming\\\\Python\\\\Test data\\\\Outputfiles\\\\csv\\\\listA.csv\"\n",
    "test_file_repeat_read_plate_1 = \"C:\\\\Users\\\\Bartek\\\\OneDrive\\\\Documents\\\\Programming\\\\Python\\\\Test data\\\\Outputfiles\\\\csv\\\\repeat read_plate1.csv\""
   ]
  },
  {
   "cell_type": "code",
   "execution_count": 3,
   "metadata": {},
   "outputs": [],
   "source": [
    "reader = csv.reader(open(test_file_repeat_read_plate_1, 'r'), delimiter=',') \n",
    "\n",
    "wells = 384\n",
    "all_data = [] \n",
    "data_frames = {}\n",
    "counter = 1\n",
    "\n",
    "# Create a list of lists with all data in the csv file\n",
    "for row in reader:\n",
    "    all_data.append(row)\n",
    "\n",
    "total_lines = len(all_data)\n",
    "\n",
    "# Find the data        \n",
    "for index, item in enumerate(all_data):\n",
    "    if item != [] and re.findall(r\"Plate information\", item[0]) == ['Plate information'] and re.findall(r\"Formula\", all_data[index+1][10]) != ['Formula']:\n",
    "        skiprows = index + 9   # Set the skiprows parameter\n",
    "        skiprows_meta = index + 1\n",
    "        skipfooter_meta = total_lines - (index + 4)\n",
    "        \n",
    "        end_of_data = 0\n",
    "        # find the index of the first blank row after the data table\n",
    "        while end_of_data == 0:   \n",
    "            for index, item in enumerate(all_data):\n",
    "                if item == [] and index > skiprows:  \n",
    "                    end_of_data = index\n",
    "                    break\n",
    "                    \n",
    "        skipfooter = total_lines - end_of_data   # calucalte the skipfooter parameter\n",
    "        \n",
    "        col_names = list(np.arange(1,int((wells/16)+1)))   # define column names so that the last column is not imported\n",
    "        \n",
    "        # extract data into pandas df\n",
    "        data = pd.read_csv(test_file_repeat_read_plate_1, sep=',', names=col_names, index_col=False, engine='python', skiprows=skiprows, skipfooter=skipfooter, encoding='utf-8')\n",
    "        # extract metadata into pandas df\n",
    "        metadata = pd.read_csv(test_file_repeat_read_plate_1, sep=',', engine='python', skiprows=skiprows_meta, skipfooter=skipfooter_meta, encoding='utf-8')\n",
    "        \n",
    "        dimension = data.shape   # get the dimension of the data table as a tuple\n",
    "        letters = list(string.ascii_uppercase)[0:dimension[0]]   # generate letters for the new data table\n",
    "        col_nums = list(np.arange(1, dimension[1]+1).astype(str))   # generate numbers for the new data table\n",
    "        well_ids = ['%s%s' % (item[0], item[1]) for item in product(letters, col_nums)]   # generate well IDs for the new data table\n",
    "        \n",
    "        data_array = np.reshape(data.to_numpy(), (wells, 1))\n",
    "        #new_data = pd.DataFrame(data=data_array, index=well_ids, columns=['p'])\n",
    "        \n",
    "        if counter % 1 == 0:\n",
    "            new_data = pd.DataFrame(data=data_array, index=well_ids, columns=['p'])\n",
    "            data_frames[f'repeat_{int(counter)}'] = {'metadata':{'p': metadata, 's': ''}, 'data': {'p': new_data, 's':''}}\n",
    "        elif counter % 1 != 0:\n",
    "            new_data = pd.DataFrame(data=data_array, index=well_ids, columns=['s'])\n",
    "            data_frames[f'repeat_{int(counter-0.5)}']['metadata']['s'] = metadata\n",
    "            data_frames[f'repeat_{int(counter-0.5)}']['data']['s'] = new_data   \n",
    "        \n",
    "        counter = counter + 0.5"
   ]
  },
  {
   "cell_type": "code",
   "execution_count": null,
   "metadata": {},
   "outputs": [],
   "source": []
  },
  {
   "cell_type": "code",
   "execution_count": null,
   "metadata": {},
   "outputs": [],
   "source": []
  },
  {
   "cell_type": "code",
   "execution_count": 4,
   "metadata": {},
   "outputs": [
    {
     "data": {
      "text/plain": [
       "2"
      ]
     },
     "execution_count": 4,
     "metadata": {},
     "output_type": "execute_result"
    }
   ],
   "source": [
    "len(data_frames)"
   ]
  },
  {
   "cell_type": "code",
   "execution_count": 5,
   "metadata": {},
   "outputs": [
    {
     "data": {
      "text/html": [
       "<div>\n",
       "<style scoped>\n",
       "    .dataframe tbody tr th:only-of-type {\n",
       "        vertical-align: middle;\n",
       "    }\n",
       "\n",
       "    .dataframe tbody tr th {\n",
       "        vertical-align: top;\n",
       "    }\n",
       "\n",
       "    .dataframe thead th {\n",
       "        text-align: right;\n",
       "    }\n",
       "</style>\n",
       "<table border=\"1\" class=\"dataframe\">\n",
       "  <thead>\n",
       "    <tr style=\"text-align: right;\">\n",
       "      <th></th>\n",
       "      <th>Plate</th>\n",
       "      <th>Repeat</th>\n",
       "      <th>Barcode</th>\n",
       "      <th>Measured height</th>\n",
       "      <th>Chamber temperature at start</th>\n",
       "      <th>Chamber temperature at end</th>\n",
       "      <th>Humidity at start</th>\n",
       "      <th>Humidity at end</th>\n",
       "      <th>Ambient temperature at start</th>\n",
       "      <th>Ambient temperature at end</th>\n",
       "      <th>Group</th>\n",
       "      <th>Label</th>\n",
       "      <th>ScanX</th>\n",
       "      <th>ScanY</th>\n",
       "      <th>Measinfo</th>\n",
       "      <th>Kinetics</th>\n",
       "      <th>Measurement date</th>\n",
       "      <th>Unnamed: 17</th>\n",
       "    </tr>\n",
       "  </thead>\n",
       "  <tbody>\n",
       "    <tr>\n",
       "      <th>0</th>\n",
       "      <td>1</td>\n",
       "      <td>1</td>\n",
       "      <td>NaN</td>\n",
       "      <td>14.4</td>\n",
       "      <td>18.98</td>\n",
       "      <td>18.8</td>\n",
       "      <td>61.7</td>\n",
       "      <td>61.5</td>\n",
       "      <td>18.98</td>\n",
       "      <td>18.9</td>\n",
       "      <td>1</td>\n",
       "      <td>Copy of Kris FP Fluorescein anisotropy(1)</td>\n",
       "      <td>0</td>\n",
       "      <td>0</td>\n",
       "      <td>De=1st Ex=Top Em=Top Wdw=N/A (15)</td>\n",
       "      <td>0</td>\n",
       "      <td>17/11/2020 13:33:43</td>\n",
       "      <td>NaN</td>\n",
       "    </tr>\n",
       "  </tbody>\n",
       "</table>\n",
       "</div>"
      ],
      "text/plain": [
       "   Plate  Repeat  Barcode  Measured height  Chamber temperature at start  \\\n",
       "0      1       1      NaN             14.4                         18.98   \n",
       "\n",
       "   Chamber temperature at end  Humidity at start  Humidity at end  \\\n",
       "0                        18.8               61.7             61.5   \n",
       "\n",
       "   Ambient temperature at start  Ambient temperature at end  Group  \\\n",
       "0                         18.98                        18.9      1   \n",
       "\n",
       "                                       Label  ScanX  ScanY  \\\n",
       "0  Copy of Kris FP Fluorescein anisotropy(1)      0      0   \n",
       "\n",
       "                            Measinfo  Kinetics     Measurement date  \\\n",
       "0  De=1st Ex=Top Em=Top Wdw=N/A (15)         0  17/11/2020 13:33:43   \n",
       "\n",
       "   Unnamed: 17  \n",
       "0          NaN  "
      ]
     },
     "execution_count": 5,
     "metadata": {},
     "output_type": "execute_result"
    }
   ],
   "source": [
    "data_frames['repeat_1']['metadata']['p']"
   ]
  },
  {
   "cell_type": "code",
   "execution_count": 6,
   "metadata": {},
   "outputs": [
    {
     "data": {
      "text/html": [
       "<div>\n",
       "<style scoped>\n",
       "    .dataframe tbody tr th:only-of-type {\n",
       "        vertical-align: middle;\n",
       "    }\n",
       "\n",
       "    .dataframe tbody tr th {\n",
       "        vertical-align: top;\n",
       "    }\n",
       "\n",
       "    .dataframe thead th {\n",
       "        text-align: right;\n",
       "    }\n",
       "</style>\n",
       "<table border=\"1\" class=\"dataframe\">\n",
       "  <thead>\n",
       "    <tr style=\"text-align: right;\">\n",
       "      <th></th>\n",
       "      <th>Plate</th>\n",
       "      <th>Repeat</th>\n",
       "      <th>Barcode</th>\n",
       "      <th>Measured height</th>\n",
       "      <th>Chamber temperature at start</th>\n",
       "      <th>Chamber temperature at end</th>\n",
       "      <th>Humidity at start</th>\n",
       "      <th>Humidity at end</th>\n",
       "      <th>Ambient temperature at start</th>\n",
       "      <th>Ambient temperature at end</th>\n",
       "      <th>Group</th>\n",
       "      <th>Label</th>\n",
       "      <th>ScanX</th>\n",
       "      <th>ScanY</th>\n",
       "      <th>Measinfo</th>\n",
       "      <th>Kinetics</th>\n",
       "      <th>Measurement date</th>\n",
       "      <th>Unnamed: 17</th>\n",
       "    </tr>\n",
       "  </thead>\n",
       "  <tbody>\n",
       "    <tr>\n",
       "      <th>0</th>\n",
       "      <td>1</td>\n",
       "      <td>2</td>\n",
       "      <td>NaN</td>\n",
       "      <td>14.4</td>\n",
       "      <td>18.8</td>\n",
       "      <td>18.7</td>\n",
       "      <td>61.5</td>\n",
       "      <td>61.8</td>\n",
       "      <td>18.9</td>\n",
       "      <td>19.1</td>\n",
       "      <td>1</td>\n",
       "      <td>Copy of Kris FP Fluorescein anisotropy(1)</td>\n",
       "      <td>0</td>\n",
       "      <td>0</td>\n",
       "      <td>De=2nd Ex=Top Em=Top Wdw=N/A (142)</td>\n",
       "      <td>0</td>\n",
       "      <td>17/11/2020 13:35:26</td>\n",
       "      <td>NaN</td>\n",
       "    </tr>\n",
       "  </tbody>\n",
       "</table>\n",
       "</div>"
      ],
      "text/plain": [
       "   Plate  Repeat  Barcode  Measured height  Chamber temperature at start  \\\n",
       "0      1       2      NaN             14.4                          18.8   \n",
       "\n",
       "   Chamber temperature at end  Humidity at start  Humidity at end  \\\n",
       "0                        18.7               61.5             61.8   \n",
       "\n",
       "   Ambient temperature at start  Ambient temperature at end  Group  \\\n",
       "0                          18.9                        19.1      1   \n",
       "\n",
       "                                       Label  ScanX  ScanY  \\\n",
       "0  Copy of Kris FP Fluorescein anisotropy(1)      0      0   \n",
       "\n",
       "                             Measinfo  Kinetics     Measurement date  \\\n",
       "0  De=2nd Ex=Top Em=Top Wdw=N/A (142)         0  17/11/2020 13:35:26   \n",
       "\n",
       "   Unnamed: 17  \n",
       "0          NaN  "
      ]
     },
     "execution_count": 6,
     "metadata": {},
     "output_type": "execute_result"
    }
   ],
   "source": [
    "data_frames['repeat_2']['metadata']['s']"
   ]
  },
  {
   "cell_type": "code",
   "execution_count": 7,
   "metadata": {},
   "outputs": [
    {
     "data": {
      "text/html": [
       "<div>\n",
       "<style scoped>\n",
       "    .dataframe tbody tr th:only-of-type {\n",
       "        vertical-align: middle;\n",
       "    }\n",
       "\n",
       "    .dataframe tbody tr th {\n",
       "        vertical-align: top;\n",
       "    }\n",
       "\n",
       "    .dataframe thead th {\n",
       "        text-align: right;\n",
       "    }\n",
       "</style>\n",
       "<table border=\"1\" class=\"dataframe\">\n",
       "  <thead>\n",
       "    <tr style=\"text-align: right;\">\n",
       "      <th></th>\n",
       "      <th>s</th>\n",
       "    </tr>\n",
       "  </thead>\n",
       "  <tbody>\n",
       "    <tr>\n",
       "      <th>A1</th>\n",
       "      <td>20469296.0</td>\n",
       "    </tr>\n",
       "    <tr>\n",
       "      <th>A2</th>\n",
       "      <td>29296716.0</td>\n",
       "    </tr>\n",
       "    <tr>\n",
       "      <th>A3</th>\n",
       "      <td>18210982.0</td>\n",
       "    </tr>\n",
       "    <tr>\n",
       "      <th>A4</th>\n",
       "      <td>23159988.0</td>\n",
       "    </tr>\n",
       "    <tr>\n",
       "      <th>A5</th>\n",
       "      <td>24960618.0</td>\n",
       "    </tr>\n",
       "    <tr>\n",
       "      <th>...</th>\n",
       "      <td>...</td>\n",
       "    </tr>\n",
       "    <tr>\n",
       "      <th>P20</th>\n",
       "      <td>NaN</td>\n",
       "    </tr>\n",
       "    <tr>\n",
       "      <th>P21</th>\n",
       "      <td>NaN</td>\n",
       "    </tr>\n",
       "    <tr>\n",
       "      <th>P22</th>\n",
       "      <td>NaN</td>\n",
       "    </tr>\n",
       "    <tr>\n",
       "      <th>P23</th>\n",
       "      <td>NaN</td>\n",
       "    </tr>\n",
       "    <tr>\n",
       "      <th>P24</th>\n",
       "      <td>NaN</td>\n",
       "    </tr>\n",
       "  </tbody>\n",
       "</table>\n",
       "<p>384 rows × 1 columns</p>\n",
       "</div>"
      ],
      "text/plain": [
       "              s\n",
       "A1   20469296.0\n",
       "A2   29296716.0\n",
       "A3   18210982.0\n",
       "A4   23159988.0\n",
       "A5   24960618.0\n",
       "..          ...\n",
       "P20         NaN\n",
       "P21         NaN\n",
       "P22         NaN\n",
       "P23         NaN\n",
       "P24         NaN\n",
       "\n",
       "[384 rows x 1 columns]"
      ]
     },
     "execution_count": 7,
     "metadata": {},
     "output_type": "execute_result"
    }
   ],
   "source": [
    "data_frames['repeat_1']['data']['s']"
   ]
  },
  {
   "cell_type": "code",
   "execution_count": null,
   "metadata": {},
   "outputs": [],
   "source": []
  },
  {
   "cell_type": "code",
   "execution_count": 8,
   "metadata": {},
   "outputs": [
    {
     "data": {
      "text/html": [
       "<div>\n",
       "<style scoped>\n",
       "    .dataframe tbody tr th:only-of-type {\n",
       "        vertical-align: middle;\n",
       "    }\n",
       "\n",
       "    .dataframe tbody tr th {\n",
       "        vertical-align: top;\n",
       "    }\n",
       "\n",
       "    .dataframe thead th {\n",
       "        text-align: right;\n",
       "    }\n",
       "</style>\n",
       "<table border=\"1\" class=\"dataframe\">\n",
       "  <thead>\n",
       "    <tr style=\"text-align: right;\">\n",
       "      <th></th>\n",
       "      <th>p</th>\n",
       "    </tr>\n",
       "  </thead>\n",
       "  <tbody>\n",
       "    <tr>\n",
       "      <th>A1</th>\n",
       "      <td>18964719.0</td>\n",
       "    </tr>\n",
       "    <tr>\n",
       "      <th>A2</th>\n",
       "      <td>27435568.0</td>\n",
       "    </tr>\n",
       "    <tr>\n",
       "      <th>A3</th>\n",
       "      <td>16237095.0</td>\n",
       "    </tr>\n",
       "    <tr>\n",
       "      <th>A4</th>\n",
       "      <td>21291729.0</td>\n",
       "    </tr>\n",
       "    <tr>\n",
       "      <th>A5</th>\n",
       "      <td>22591167.0</td>\n",
       "    </tr>\n",
       "    <tr>\n",
       "      <th>...</th>\n",
       "      <td>...</td>\n",
       "    </tr>\n",
       "    <tr>\n",
       "      <th>P20</th>\n",
       "      <td>NaN</td>\n",
       "    </tr>\n",
       "    <tr>\n",
       "      <th>P21</th>\n",
       "      <td>NaN</td>\n",
       "    </tr>\n",
       "    <tr>\n",
       "      <th>P22</th>\n",
       "      <td>NaN</td>\n",
       "    </tr>\n",
       "    <tr>\n",
       "      <th>P23</th>\n",
       "      <td>NaN</td>\n",
       "    </tr>\n",
       "    <tr>\n",
       "      <th>P24</th>\n",
       "      <td>NaN</td>\n",
       "    </tr>\n",
       "  </tbody>\n",
       "</table>\n",
       "<p>384 rows × 1 columns</p>\n",
       "</div>"
      ],
      "text/plain": [
       "              p\n",
       "A1   18964719.0\n",
       "A2   27435568.0\n",
       "A3   16237095.0\n",
       "A4   21291729.0\n",
       "A5   22591167.0\n",
       "..          ...\n",
       "P20         NaN\n",
       "P21         NaN\n",
       "P22         NaN\n",
       "P23         NaN\n",
       "P24         NaN\n",
       "\n",
       "[384 rows x 1 columns]"
      ]
     },
     "execution_count": 8,
     "metadata": {},
     "output_type": "execute_result"
    }
   ],
   "source": [
    "data_frames['repeat_2']['data']['p']"
   ]
  },
  {
   "cell_type": "code",
   "execution_count": null,
   "metadata": {},
   "outputs": [],
   "source": []
  },
  {
   "cell_type": "code",
   "execution_count": null,
   "metadata": {},
   "outputs": [],
   "source": []
  },
  {
   "cell_type": "code",
   "execution_count": null,
   "metadata": {},
   "outputs": [],
   "source": []
  },
  {
   "cell_type": "code",
   "execution_count": null,
   "metadata": {},
   "outputs": [],
   "source": []
  },
  {
   "cell_type": "code",
   "execution_count": null,
   "metadata": {},
   "outputs": [],
   "source": []
  },
  {
   "cell_type": "code",
   "execution_count": null,
   "metadata": {},
   "outputs": [],
   "source": []
  },
  {
   "cell_type": "code",
   "execution_count": null,
   "metadata": {},
   "outputs": [],
   "source": []
  },
  {
   "cell_type": "code",
   "execution_count": null,
   "metadata": {},
   "outputs": [],
   "source": []
  },
  {
   "cell_type": "code",
   "execution_count": null,
   "metadata": {},
   "outputs": [],
   "source": []
  },
  {
   "cell_type": "code",
   "execution_count": null,
   "metadata": {},
   "outputs": [],
   "source": []
  },
  {
   "cell_type": "code",
   "execution_count": null,
   "metadata": {},
   "outputs": [],
   "source": []
  },
  {
   "cell_type": "code",
   "execution_count": null,
   "metadata": {},
   "outputs": [],
   "source": []
  },
  {
   "cell_type": "code",
   "execution_count": null,
   "metadata": {},
   "outputs": [],
   "source": []
  },
  {
   "cell_type": "code",
   "execution_count": null,
   "metadata": {},
   "outputs": [],
   "source": []
  },
  {
   "cell_type": "code",
   "execution_count": null,
   "metadata": {},
   "outputs": [],
   "source": []
  },
  {
   "cell_type": "code",
   "execution_count": null,
   "metadata": {},
   "outputs": [],
   "source": []
  },
  {
   "cell_type": "code",
   "execution_count": null,
   "metadata": {},
   "outputs": [],
   "source": []
  },
  {
   "cell_type": "code",
   "execution_count": null,
   "metadata": {},
   "outputs": [],
   "source": []
  },
  {
   "cell_type": "code",
   "execution_count": null,
   "metadata": {},
   "outputs": [],
   "source": []
  },
  {
   "cell_type": "code",
   "execution_count": null,
   "metadata": {},
   "outputs": [],
   "source": []
  },
  {
   "cell_type": "code",
   "execution_count": null,
   "metadata": {},
   "outputs": [],
   "source": []
  },
  {
   "cell_type": "code",
   "execution_count": null,
   "metadata": {},
   "outputs": [],
   "source": []
  },
  {
   "cell_type": "code",
   "execution_count": null,
   "metadata": {},
   "outputs": [],
   "source": []
  },
  {
   "cell_type": "code",
   "execution_count": null,
   "metadata": {},
   "outputs": [],
   "source": []
  }
 ],
 "metadata": {
  "kernelspec": {
   "display_name": "Python 3",
   "language": "python",
   "name": "python3"
  },
  "language_info": {
   "codemirror_mode": {
    "name": "ipython",
    "version": 3
   },
   "file_extension": ".py",
   "mimetype": "text/x-python",
   "name": "python",
   "nbconvert_exporter": "python",
   "pygments_lexer": "ipython3",
   "version": "3.8.3"
  }
 },
 "nbformat": 4,
 "nbformat_minor": 4
}
